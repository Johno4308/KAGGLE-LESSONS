{
  "nbformat": 4,
  "nbformat_minor": 0,
  "metadata": {
    "colab": {
      "provenance": [],
      "authorship_tag": "ABX9TyNJ4BhNpNjBwT3/3jxAK8Wq",
      "include_colab_link": true
    },
    "kernelspec": {
      "name": "python3",
      "display_name": "Python 3"
    },
    "language_info": {
      "name": "python"
    }
  },
  "cells": [
    {
      "cell_type": "markdown",
      "metadata": {
        "id": "view-in-github",
        "colab_type": "text"
      },
      "source": [
        "<a href=\"https://colab.research.google.com/github/Johno4308/KAGGLE-LESSONS/blob/main/PYTHON.ipynb\" target=\"_parent\"><img src=\"https://colab.research.google.com/assets/colab-badge.svg\" alt=\"Open In Colab\"/></a>"
      ]
    },
    {
      "cell_type": "markdown",
      "source": [
        "# Hello, Python\n",
        "\n",
        "A quick introduction to Python syntax, variable assignment, and numbers\n",
        "\n",
        "Python was named for the British comedy troupe Monty Python, so we'll make our first Python program a homage to their skit about Spam.\n",
        "\n",
        "Just for fun, try reading over the code below and predicting what it's going to do when run. (If you have no idea, that's fine!)\n",
        "\n",
        "Then click the \"output\" button to see the results of our program."
      ],
      "metadata": {
        "id": "vGo8QxgcCoRK"
      }
    },
    {
      "cell_type": "code",
      "execution_count": 1,
      "metadata": {
        "colab": {
          "base_uri": "https://localhost:8080/"
        },
        "id": "EZDJvvo3ChjW",
        "outputId": "ae0491de-0e67-4020-dcc5-ad18d071d5a1"
      },
      "outputs": [
        {
          "output_type": "stream",
          "name": "stdout",
          "text": [
            "0\n",
            "But I don't want ANY spam!\n",
            "Spam Spam Spam Spam \n"
          ]
        }
      ],
      "source": [
        "spam_amount = 0\n",
        "print(spam_amount)\n",
        "\n",
        "# Ordering Spam, egg, Spam, Spam, bacon and Spam (4 more servings of Spam)\n",
        "spam_amount = spam_amount + 4\n",
        "\n",
        "if spam_amount > 0:\n",
        "    print(\"But I don't want ANY spam!\")\n",
        "\n",
        "viking_song = \"Spam \" * spam_amount\n",
        "print(viking_song)"
      ]
    },
    {
      "cell_type": "markdown",
      "source": [
        "We won't talk much about \"conditionals\" until later, but, even if you've never coded before, you can probably guess what this does. Python is prized for its readability and the simplicity.\n",
        "\n",
        "Note how we indicated which code belongs to the if. \"But I don't want ANY spam!\" is only supposed to be printed if spam_amount is positive. But the later code (like print(viking_song)) should be executed no matter what. How do we (and Python) know that?\n",
        "\n",
        "The colon (:) at the end of the if line indicates that a new code block is starting. Subsequent lines which are indented are part of that code block.\n",
        "\n",
        "**Note**: If you've coded before, you might know that some other languages use {curly braces} to mark the beginning and end of code blocks. Python's use of meaningful whitespace can be surprising to programmers who are accustomed to other languages, but in practice it can lead to more consistent and readable code than languages that do not enforce indentation of code blocks.\n",
        "\n",
        "The later lines dealing with viking_song are not indented with an extra 4 spaces, so they're not a part of the if's code block. We'll see more examples of indented code blocks later when we define functions and using loops.\n",
        "\n",
        "This code snippet is also our first sighting of a string in Python:\n",
        "\n",
        "```\n",
        "\"But I don't want ANY spam!\"\n",
        "```\n",
        "\n",
        "Strings can be marked either by double or single quotation marks. (But because this particular string contains a single-quote character, we might confuse Python by trying to surround it with single-quotes, unless we're careful.)\n"
      ],
      "metadata": {
        "id": "neZ3XTyJDOnx"
      }
    },
    {
      "cell_type": "code",
      "source": [
        "viking_song = \"Spam \" * spam_amount\n",
        "print(viking_song)"
      ],
      "metadata": {
        "colab": {
          "base_uri": "https://localhost:8080/"
        },
        "id": "3633DGs5EA8Q",
        "outputId": "1ba82b2a-9dd7-4b03-f245-cb50a81314d8"
      },
      "execution_count": 2,
      "outputs": [
        {
          "output_type": "stream",
          "name": "stdout",
          "text": [
            "Spam Spam Spam Spam \n"
          ]
        }
      ]
    },
    {
      "cell_type": "markdown",
      "source": [
        "The * operator can be used to multiply two numbers (3 * 3 evaluates to 9), but we can also multiply a string by a number, to get a version that's been repeated that many times. Python offers a number of cheeky little time-saving tricks like this where operators like * and + have a different meaning depending on what kind of thing they're applied to. (The technical term for this is operator overloading.)"
      ],
      "metadata": {
        "id": "Fbks4zajEdnZ"
      }
    },
    {
      "cell_type": "markdown",
      "source": [
        "### Numbers and arithmetic in Python\n",
        "\n",
        "We've already seen an example of a variable containing a number above:"
      ],
      "metadata": {
        "id": "3aX_HUQ-EiGW"
      }
    },
    {
      "cell_type": "code",
      "source": [
        "spam_amount = 0"
      ],
      "metadata": {
        "id": "3hF-vTSfEnmN"
      },
      "execution_count": 3,
      "outputs": []
    },
    {
      "cell_type": "markdown",
      "source": [
        "\"Number\" is a fine informal name for the kind of thing, but if we wanted to be more technical, we could ask Python how it would describe the type of thing that spam_amount is:"
      ],
      "metadata": {
        "id": "cw-OFQnWEqTQ"
      }
    },
    {
      "cell_type": "code",
      "source": [
        "type(spam_amount)"
      ],
      "metadata": {
        "colab": {
          "base_uri": "https://localhost:8080/"
        },
        "id": "JVJ9-9yDEvgY",
        "outputId": "2faf97da-c01f-4b60-e806-5619873fe096"
      },
      "execution_count": 4,
      "outputs": [
        {
          "output_type": "execute_result",
          "data": {
            "text/plain": [
              "int"
            ]
          },
          "metadata": {},
          "execution_count": 4
        }
      ]
    },
    {
      "cell_type": "markdown",
      "source": [
        "It's an int - short for integer. There's another sort of number we commonly encounter in Python:"
      ],
      "metadata": {
        "id": "BzLpvjzLEzNp"
      }
    },
    {
      "cell_type": "code",
      "source": [
        "type(19.95)"
      ],
      "metadata": {
        "colab": {
          "base_uri": "https://localhost:8080/"
        },
        "id": "m9hnsxkKEz8n",
        "outputId": "8e76f68c-4368-4361-f288-aa5e19df4a15"
      },
      "execution_count": 5,
      "outputs": [
        {
          "output_type": "execute_result",
          "data": {
            "text/plain": [
              "float"
            ]
          },
          "metadata": {},
          "execution_count": 5
        }
      ]
    },
    {
      "cell_type": "markdown",
      "source": [
        "A float is a number with a decimal place - very useful for representing things like weights or proportions.\n",
        "\n",
        "type() is the second built-in function we've seen (after print()), and it's another good one to remember. It's very useful to be able to ask Python \"what kind of thing is this?\"."
      ],
      "metadata": {
        "id": "v-BXeDSGE3vR"
      }
    },
    {
      "cell_type": "markdown",
      "source": [
        "A natural thing to want to do with numbers is perform arithmetic. We've seen the + operator for addition, and the * operator for multiplication. Python also has us covered for the rest of the basic buttons on your calculator:\n",
        "\n",
        "| Operator |\tName | Description |\n",
        "| -------- | ------ | ----------- |\n",
        "| a + b\t| Addition |\tSum of a and b |\n",
        "| a - b\t| Subtraction |\tDifference of a and b\n",
        "| a * b\t| Multiplication |\tProduct of a and b\n",
        "| a / b\t| True division |\tQuotient of a and b\n",
        "| a // b | Floor division |\tQuotient of a and b, removing fractional parts\n",
        "| a % b\t| Modulus\tInteger | remainder after division of a by b\n",
        "| a ** b | Exponentiation |\ta raised to the power of b\n",
        "| -a |\tNegation |\tThe negative of a\n",
        "\n",
        "One interesting observation here is that, whereas your calculator probably just has one button for division, Python can do two kinds. \"True division\" is basically what your calculator does:"
      ],
      "metadata": {
        "id": "zTYIOWl_E8vq"
      }
    },
    {
      "cell_type": "code",
      "source": [
        "print(5 / 2)\n",
        "print(6 / 2)"
      ],
      "metadata": {
        "colab": {
          "base_uri": "https://localhost:8080/"
        },
        "id": "mE4lyFXqE4Uz",
        "outputId": "ebe58f76-55e0-4d12-e0a8-b958c7042f1e"
      },
      "execution_count": 6,
      "outputs": [
        {
          "output_type": "stream",
          "name": "stdout",
          "text": [
            "2.5\n",
            "3.0\n"
          ]
        }
      ]
    },
    {
      "cell_type": "markdown",
      "source": [
        "It always gives us a float.\n",
        "\n",
        "The // operator gives us a result that's rounded down to the next integer."
      ],
      "metadata": {
        "id": "yZ_PGeGvF26Q"
      }
    },
    {
      "cell_type": "code",
      "source": [
        "print(5 // 2)\n",
        "print(6 // 2)"
      ],
      "metadata": {
        "colab": {
          "base_uri": "https://localhost:8080/"
        },
        "id": "Kgy7Ebb1F3f6",
        "outputId": "fbbcd7b3-56f7-4a81-e092-b7407ec5aa61"
      },
      "execution_count": 7,
      "outputs": [
        {
          "output_type": "stream",
          "name": "stdout",
          "text": [
            "2\n",
            "3\n"
          ]
        }
      ]
    },
    {
      "cell_type": "markdown",
      "source": [
        "##### Order of operations\n",
        "The arithmetic we learned in primary school has conventions about the order in which operations are evaluated. Some remember these by a mnemonic such as PEMDAS - Parentheses, Exponents, Multiplication/Division, Addition/Subtraction.\n",
        "\n",
        "Python follows similar rules about which calculations to perform first. They're mostly pretty intuitive."
      ],
      "metadata": {
        "id": "OVIMn3taF9Fy"
      }
    },
    {
      "cell_type": "code",
      "source": [
        "8 - 3 + 2"
      ],
      "metadata": {
        "colab": {
          "base_uri": "https://localhost:8080/"
        },
        "id": "psZ0gGX6GBUB",
        "outputId": "2c7b8d03-12cf-4641-d020-6deefc32df8f"
      },
      "execution_count": 8,
      "outputs": [
        {
          "output_type": "execute_result",
          "data": {
            "text/plain": [
              "7"
            ]
          },
          "metadata": {},
          "execution_count": 8
        }
      ]
    },
    {
      "cell_type": "code",
      "source": [
        "-3 + 4 * 2"
      ],
      "metadata": {
        "colab": {
          "base_uri": "https://localhost:8080/"
        },
        "id": "T7iaIcxnGHFL",
        "outputId": "39d0ffe6-8084-4a21-d358-0dd0f548ae58"
      },
      "execution_count": 9,
      "outputs": [
        {
          "output_type": "execute_result",
          "data": {
            "text/plain": [
              "5"
            ]
          },
          "metadata": {},
          "execution_count": 9
        }
      ]
    },
    {
      "cell_type": "markdown",
      "source": [
        "Sometimes the default order of operations isn't what we want:"
      ],
      "metadata": {
        "id": "NLTZaIkyGKLn"
      }
    },
    {
      "cell_type": "code",
      "source": [
        "hat_height_cm = 25\n",
        "my_height_cm = 190\n",
        "# How tall am I, in meters, when wearing my hat?\n",
        "total_height_meters = hat_height_cm + my_height_cm / 100\n",
        "print(\"Height in meters =\", total_height_meters, \"?\")"
      ],
      "metadata": {
        "colab": {
          "base_uri": "https://localhost:8080/"
        },
        "id": "NNUZTufhGK3Z",
        "outputId": "d5395229-9139-4b6e-9bf2-858d40284083"
      },
      "execution_count": 10,
      "outputs": [
        {
          "output_type": "stream",
          "name": "stdout",
          "text": [
            "Height in meters = 26.9 ?\n"
          ]
        }
      ]
    },
    {
      "cell_type": "markdown",
      "source": [
        "Parentheses are useful here. You can add them to force Python to evaluate sub-expressions in whatever order you want."
      ],
      "metadata": {
        "id": "t9bSi3bgGXQr"
      }
    },
    {
      "cell_type": "code",
      "source": [
        "total_height_meters = (hat_height_cm + my_height_cm) / 100\n",
        "print(\"Height in meters =\", total_height_meters)"
      ],
      "metadata": {
        "colab": {
          "base_uri": "https://localhost:8080/"
        },
        "id": "ib_0t-hwGXzA",
        "outputId": "cb2ba170-60de-47b9-81bb-4fb12aba461b"
      },
      "execution_count": 11,
      "outputs": [
        {
          "output_type": "stream",
          "name": "stdout",
          "text": [
            "Height in meters = 2.15\n"
          ]
        }
      ]
    },
    {
      "cell_type": "markdown",
      "source": [
        "#### Builtin functions for working with numbers\n",
        "\n",
        "min and max return the minimum and maximum of their arguments, respectively..."
      ],
      "metadata": {
        "id": "nBDdI6woGcYZ"
      }
    },
    {
      "cell_type": "code",
      "source": [
        "print(min(1, 2, 3))\n",
        "print(max(1, 2, 3))"
      ],
      "metadata": {
        "id": "KbNvsECCGgof",
        "outputId": "60b6ee4f-7284-4378-c766-1d7ca5b8f540",
        "colab": {
          "base_uri": "https://localhost:8080/"
        }
      },
      "execution_count": 12,
      "outputs": [
        {
          "output_type": "stream",
          "name": "stdout",
          "text": [
            "1\n",
            "3\n"
          ]
        }
      ]
    },
    {
      "cell_type": "markdown",
      "source": [
        "abs returns the absolute value of an argument:"
      ],
      "metadata": {
        "id": "MjhfBwUB6NjK"
      }
    },
    {
      "cell_type": "code",
      "source": [
        "print(abs(32))\n",
        "print(abs(-32))"
      ],
      "metadata": {
        "colab": {
          "base_uri": "https://localhost:8080/"
        },
        "id": "_bwYBKnQ6PFW",
        "outputId": "6de68101-5404-4f99-c313-f7d892b19836"
      },
      "execution_count": 13,
      "outputs": [
        {
          "output_type": "stream",
          "name": "stdout",
          "text": [
            "32\n",
            "32\n"
          ]
        }
      ]
    },
    {
      "cell_type": "markdown",
      "source": [
        "In addition to being the names of Python's two main numerical types, int and float can also be called as functions which convert their arguments to the corresponding type:"
      ],
      "metadata": {
        "id": "FxdZWNz66SRJ"
      }
    },
    {
      "cell_type": "code",
      "source": [
        "print(float(10))\n",
        "print(int(3.33))\n",
        "# They can even be called on strings!\n",
        "print(int('807') + 1)"
      ],
      "metadata": {
        "colab": {
          "base_uri": "https://localhost:8080/"
        },
        "id": "BFmqVJuV6ZuV",
        "outputId": "eb3d0c2d-aeaf-4167-d43a-e2a14c831a34"
      },
      "execution_count": 14,
      "outputs": [
        {
          "output_type": "stream",
          "name": "stdout",
          "text": [
            "10.0\n",
            "3\n",
            "808\n"
          ]
        }
      ]
    },
    {
      "cell_type": "markdown",
      "source": [
        "## Functions and Getting Help\n",
        "\n",
        "Calling functions and defining our own, and using Python's builtin documentation\n",
        "\n",
        "You've already seen and used functions such as print and abs. But Python has many more functions, and defining your own functions is a big part of python programming.\n",
        "\n",
        "In this lesson, you will learn more about using and defining functions.\n",
        "\n",
        "Getting Help\n",
        "You saw the abs function in the previous tutorial, but what if you've forgotten what it does?\n",
        "\n",
        "The help() function is possibly the most important Python function you can learn. If you can remember how to use help(), you hold the key to understanding most other functions.\n",
        "\n",
        "Here is an example:"
      ],
      "metadata": {
        "id": "eazgIONS8U-x"
      }
    },
    {
      "cell_type": "code",
      "source": [
        "help(round)"
      ],
      "metadata": {
        "colab": {
          "base_uri": "https://localhost:8080/"
        },
        "id": "E84NpXIB8hdj",
        "outputId": "aedcecb6-3dbb-4bdc-dbe1-9f108af24fae"
      },
      "execution_count": 15,
      "outputs": [
        {
          "output_type": "stream",
          "name": "stdout",
          "text": [
            "Help on built-in function round in module builtins:\n",
            "\n",
            "round(number, ndigits=None)\n",
            "    Round a number to a given precision in decimal digits.\n",
            "    \n",
            "    The return value is an integer if ndigits is omitted or None.  Otherwise\n",
            "    the return value has the same type as the number.  ndigits may be negative.\n",
            "\n"
          ]
        }
      ]
    },
    {
      "cell_type": "markdown",
      "source": [
        "help() displays two things:\n",
        "\n",
        "the header of that function round(number, ndigits=None). In this case, this tells us that round() takes an argument we can describe as number. Additionally, we can optionally give a separate argument which could be described as ndigits.\n",
        "A brief English description of what the function does.\n",
        "\n",
        "What happens if we invoke help on a call to the function round()? Unhide the output of the cell below to see."
      ],
      "metadata": {
        "id": "NTCt47D18vBE"
      }
    },
    {
      "cell_type": "code",
      "source": [
        "help(round(-2.01))"
      ],
      "metadata": {
        "id": "uqOsM8pI9EfR",
        "outputId": "bfbdc8b9-4994-476c-c672-7d650cf28bb0",
        "colab": {
          "base_uri": "https://localhost:8080/"
        }
      },
      "execution_count": 16,
      "outputs": [
        {
          "output_type": "stream",
          "name": "stdout",
          "text": [
            "Help on int object:\n",
            "\n",
            "class int(object)\n",
            " |  int([x]) -> integer\n",
            " |  int(x, base=10) -> integer\n",
            " |  \n",
            " |  Convert a number or string to an integer, or return 0 if no arguments\n",
            " |  are given.  If x is a number, return x.__int__().  For floating point\n",
            " |  numbers, this truncates towards zero.\n",
            " |  \n",
            " |  If x is not a number or if base is given, then x must be a string,\n",
            " |  bytes, or bytearray instance representing an integer literal in the\n",
            " |  given base.  The literal can be preceded by '+' or '-' and be surrounded\n",
            " |  by whitespace.  The base defaults to 10.  Valid bases are 0 and 2-36.\n",
            " |  Base 0 means to interpret the base from the string as an integer literal.\n",
            " |  >>> int('0b100', base=0)\n",
            " |  4\n",
            " |  \n",
            " |  Built-in subclasses:\n",
            " |      bool\n",
            " |  \n",
            " |  Methods defined here:\n",
            " |  \n",
            " |  __abs__(self, /)\n",
            " |      abs(self)\n",
            " |  \n",
            " |  __add__(self, value, /)\n",
            " |      Return self+value.\n",
            " |  \n",
            " |  __and__(self, value, /)\n",
            " |      Return self&value.\n",
            " |  \n",
            " |  __bool__(self, /)\n",
            " |      True if self else False\n",
            " |  \n",
            " |  __ceil__(...)\n",
            " |      Ceiling of an Integral returns itself.\n",
            " |  \n",
            " |  __divmod__(self, value, /)\n",
            " |      Return divmod(self, value).\n",
            " |  \n",
            " |  __eq__(self, value, /)\n",
            " |      Return self==value.\n",
            " |  \n",
            " |  __float__(self, /)\n",
            " |      float(self)\n",
            " |  \n",
            " |  __floor__(...)\n",
            " |      Flooring an Integral returns itself.\n",
            " |  \n",
            " |  __floordiv__(self, value, /)\n",
            " |      Return self//value.\n",
            " |  \n",
            " |  __format__(self, format_spec, /)\n",
            " |      Default object formatter.\n",
            " |  \n",
            " |  __ge__(self, value, /)\n",
            " |      Return self>=value.\n",
            " |  \n",
            " |  __getattribute__(self, name, /)\n",
            " |      Return getattr(self, name).\n",
            " |  \n",
            " |  __getnewargs__(self, /)\n",
            " |  \n",
            " |  __gt__(self, value, /)\n",
            " |      Return self>value.\n",
            " |  \n",
            " |  __hash__(self, /)\n",
            " |      Return hash(self).\n",
            " |  \n",
            " |  __index__(self, /)\n",
            " |      Return self converted to an integer, if self is suitable for use as an index into a list.\n",
            " |  \n",
            " |  __int__(self, /)\n",
            " |      int(self)\n",
            " |  \n",
            " |  __invert__(self, /)\n",
            " |      ~self\n",
            " |  \n",
            " |  __le__(self, value, /)\n",
            " |      Return self<=value.\n",
            " |  \n",
            " |  __lshift__(self, value, /)\n",
            " |      Return self<<value.\n",
            " |  \n",
            " |  __lt__(self, value, /)\n",
            " |      Return self<value.\n",
            " |  \n",
            " |  __mod__(self, value, /)\n",
            " |      Return self%value.\n",
            " |  \n",
            " |  __mul__(self, value, /)\n",
            " |      Return self*value.\n",
            " |  \n",
            " |  __ne__(self, value, /)\n",
            " |      Return self!=value.\n",
            " |  \n",
            " |  __neg__(self, /)\n",
            " |      -self\n",
            " |  \n",
            " |  __or__(self, value, /)\n",
            " |      Return self|value.\n",
            " |  \n",
            " |  __pos__(self, /)\n",
            " |      +self\n",
            " |  \n",
            " |  __pow__(self, value, mod=None, /)\n",
            " |      Return pow(self, value, mod).\n",
            " |  \n",
            " |  __radd__(self, value, /)\n",
            " |      Return value+self.\n",
            " |  \n",
            " |  __rand__(self, value, /)\n",
            " |      Return value&self.\n",
            " |  \n",
            " |  __rdivmod__(self, value, /)\n",
            " |      Return divmod(value, self).\n",
            " |  \n",
            " |  __repr__(self, /)\n",
            " |      Return repr(self).\n",
            " |  \n",
            " |  __rfloordiv__(self, value, /)\n",
            " |      Return value//self.\n",
            " |  \n",
            " |  __rlshift__(self, value, /)\n",
            " |      Return value<<self.\n",
            " |  \n",
            " |  __rmod__(self, value, /)\n",
            " |      Return value%self.\n",
            " |  \n",
            " |  __rmul__(self, value, /)\n",
            " |      Return value*self.\n",
            " |  \n",
            " |  __ror__(self, value, /)\n",
            " |      Return value|self.\n",
            " |  \n",
            " |  __round__(...)\n",
            " |      Rounding an Integral returns itself.\n",
            " |      \n",
            " |      Rounding with an ndigits argument also returns an integer.\n",
            " |  \n",
            " |  __rpow__(self, value, mod=None, /)\n",
            " |      Return pow(value, self, mod).\n",
            " |  \n",
            " |  __rrshift__(self, value, /)\n",
            " |      Return value>>self.\n",
            " |  \n",
            " |  __rshift__(self, value, /)\n",
            " |      Return self>>value.\n",
            " |  \n",
            " |  __rsub__(self, value, /)\n",
            " |      Return value-self.\n",
            " |  \n",
            " |  __rtruediv__(self, value, /)\n",
            " |      Return value/self.\n",
            " |  \n",
            " |  __rxor__(self, value, /)\n",
            " |      Return value^self.\n",
            " |  \n",
            " |  __sizeof__(self, /)\n",
            " |      Returns size in memory, in bytes.\n",
            " |  \n",
            " |  __sub__(self, value, /)\n",
            " |      Return self-value.\n",
            " |  \n",
            " |  __truediv__(self, value, /)\n",
            " |      Return self/value.\n",
            " |  \n",
            " |  __trunc__(...)\n",
            " |      Truncating an Integral returns itself.\n",
            " |  \n",
            " |  __xor__(self, value, /)\n",
            " |      Return self^value.\n",
            " |  \n",
            " |  as_integer_ratio(self, /)\n",
            " |      Return integer ratio.\n",
            " |      \n",
            " |      Return a pair of integers, whose ratio is exactly equal to the original int\n",
            " |      and with a positive denominator.\n",
            " |      \n",
            " |      >>> (10).as_integer_ratio()\n",
            " |      (10, 1)\n",
            " |      >>> (-10).as_integer_ratio()\n",
            " |      (-10, 1)\n",
            " |      >>> (0).as_integer_ratio()\n",
            " |      (0, 1)\n",
            " |  \n",
            " |  bit_count(self, /)\n",
            " |      Number of ones in the binary representation of the absolute value of self.\n",
            " |      \n",
            " |      Also known as the population count.\n",
            " |      \n",
            " |      >>> bin(13)\n",
            " |      '0b1101'\n",
            " |      >>> (13).bit_count()\n",
            " |      3\n",
            " |  \n",
            " |  bit_length(self, /)\n",
            " |      Number of bits necessary to represent self in binary.\n",
            " |      \n",
            " |      >>> bin(37)\n",
            " |      '0b100101'\n",
            " |      >>> (37).bit_length()\n",
            " |      6\n",
            " |  \n",
            " |  conjugate(...)\n",
            " |      Returns self, the complex conjugate of any int.\n",
            " |  \n",
            " |  to_bytes(self, /, length, byteorder, *, signed=False)\n",
            " |      Return an array of bytes representing an integer.\n",
            " |      \n",
            " |      length\n",
            " |        Length of bytes object to use.  An OverflowError is raised if the\n",
            " |        integer is not representable with the given number of bytes.\n",
            " |      byteorder\n",
            " |        The byte order used to represent the integer.  If byteorder is 'big',\n",
            " |        the most significant byte is at the beginning of the byte array.  If\n",
            " |        byteorder is 'little', the most significant byte is at the end of the\n",
            " |        byte array.  To request the native byte order of the host system, use\n",
            " |        `sys.byteorder' as the byte order value.\n",
            " |      signed\n",
            " |        Determines whether two's complement is used to represent the integer.\n",
            " |        If signed is False and a negative integer is given, an OverflowError\n",
            " |        is raised.\n",
            " |  \n",
            " |  ----------------------------------------------------------------------\n",
            " |  Class methods defined here:\n",
            " |  \n",
            " |  from_bytes(bytes, byteorder, *, signed=False) from builtins.type\n",
            " |      Return the integer represented by the given array of bytes.\n",
            " |      \n",
            " |      bytes\n",
            " |        Holds the array of bytes to convert.  The argument must either\n",
            " |        support the buffer protocol or be an iterable object producing bytes.\n",
            " |        Bytes and bytearray are examples of built-in objects that support the\n",
            " |        buffer protocol.\n",
            " |      byteorder\n",
            " |        The byte order used to represent the integer.  If byteorder is 'big',\n",
            " |        the most significant byte is at the beginning of the byte array.  If\n",
            " |        byteorder is 'little', the most significant byte is at the end of the\n",
            " |        byte array.  To request the native byte order of the host system, use\n",
            " |        `sys.byteorder' as the byte order value.\n",
            " |      signed\n",
            " |        Indicates whether two's complement is used to represent the integer.\n",
            " |  \n",
            " |  ----------------------------------------------------------------------\n",
            " |  Static methods defined here:\n",
            " |  \n",
            " |  __new__(*args, **kwargs) from builtins.type\n",
            " |      Create and return a new object.  See help(type) for accurate signature.\n",
            " |  \n",
            " |  ----------------------------------------------------------------------\n",
            " |  Data descriptors defined here:\n",
            " |  \n",
            " |  denominator\n",
            " |      the denominator of a rational number in lowest terms\n",
            " |  \n",
            " |  imag\n",
            " |      the imaginary part of a complex number\n",
            " |  \n",
            " |  numerator\n",
            " |      the numerator of a rational number in lowest terms\n",
            " |  \n",
            " |  real\n",
            " |      the real part of a complex number\n",
            "\n"
          ]
        }
      ]
    },
    {
      "cell_type": "markdown",
      "source": [
        "Python evaluates an expression like this from the inside out. First it calculates the value of round(-2.01), then it provides help on the output of that expression.\n",
        "\n",
        "(And it turns out to have a lot to say about integers! After we talk later about objects, methods, and attributes in Python, the help output above will make more sense.)\n",
        "\n",
        "round is a very simple function with a short docstring. help shines even more when dealing with more complex, configurable functions like print. Don't worry if the following output looks inscrutable... for now, just see if you can pick anything new out from this help."
      ],
      "metadata": {
        "id": "EUH5gDcb9G5Q"
      }
    },
    {
      "cell_type": "code",
      "source": [
        "help(print)\n"
      ],
      "metadata": {
        "colab": {
          "base_uri": "https://localhost:8080/"
        },
        "id": "t7NwUC2k9WjY",
        "outputId": "746f8fa4-ef1a-4cb6-b423-f14b653e54c7"
      },
      "execution_count": 17,
      "outputs": [
        {
          "output_type": "stream",
          "name": "stdout",
          "text": [
            "Help on built-in function print in module builtins:\n",
            "\n",
            "print(...)\n",
            "    print(value, ..., sep=' ', end='\\n', file=sys.stdout, flush=False)\n",
            "    \n",
            "    Prints the values to a stream, or to sys.stdout by default.\n",
            "    Optional keyword arguments:\n",
            "    file:  a file-like object (stream); defaults to the current sys.stdout.\n",
            "    sep:   string inserted between values, default a space.\n",
            "    end:   string appended after the last value, default a newline.\n",
            "    flush: whether to forcibly flush the stream.\n",
            "\n"
          ]
        }
      ]
    },
    {
      "cell_type": "markdown",
      "source": [
        "If you were looking for it, you might learn that print can take an argument called sep, and that this describes what we put between all the other arguments when we print them."
      ],
      "metadata": {
        "id": "bYpV6_c19clK"
      }
    },
    {
      "cell_type": "markdown",
      "source": [
        "## Defining functions\n",
        "\n",
        "Builtin functions are great, but we can only get so far with them before we need to start defining our own functions. Below is a simple example."
      ],
      "metadata": {
        "id": "wcOHxi7K9iy4"
      }
    },
    {
      "cell_type": "code",
      "source": [
        "def least_difference(a, b, c):\n",
        "    diff1 = abs(a - b)\n",
        "    diff2 = abs(b - c)\n",
        "    diff3 = abs(a - c)\n",
        "    return min(diff1, diff2, diff3)"
      ],
      "metadata": {
        "id": "5herb3fK9mNf"
      },
      "execution_count": 18,
      "outputs": []
    },
    {
      "cell_type": "markdown",
      "source": [
        "This creates a function called least_difference, which takes three arguments, a, b, and c.\n",
        "\n",
        "Functions start with a header introduced by the def keyword. The indented block of code following the : is run when the function is called.\n",
        "\n",
        "return is another keyword uniquely associated with functions. When Python encounters a return statement, it exits the function immediately, and passes the value on the right hand side to the calling context.\n",
        "\n",
        "Is it clear what least_difference() does from the source code? If we're not sure, we can always try it out on a few examples:"
      ],
      "metadata": {
        "id": "at22tA6392B4"
      }
    },
    {
      "cell_type": "code",
      "source": [
        "print(\n",
        "    least_difference(1, 10, 100),\n",
        "    least_difference(1, 10, 10),\n",
        "    least_difference(5, 6, 7),\n",
        ")"
      ],
      "metadata": {
        "colab": {
          "base_uri": "https://localhost:8080/"
        },
        "id": "vrvW09v394PA",
        "outputId": "1191a524-d12b-4d50-8717-b6a0769ca42f"
      },
      "execution_count": 19,
      "outputs": [
        {
          "output_type": "stream",
          "name": "stdout",
          "text": [
            "9 0 1\n"
          ]
        }
      ]
    },
    {
      "cell_type": "markdown",
      "source": [
        "When I write a function, I can provide a description in what's called the **docstring**.\n"
      ],
      "metadata": {
        "id": "mVtv9mZq-RFq"
      }
    },
    {
      "cell_type": "code",
      "source": [
        "def least_difference(a, b, c):\n",
        "    \"\"\"Return the smallest difference between any two numbers\n",
        "    among a, b and c.\n",
        "\n",
        "    >>> least_difference(1, 5, -5)\n",
        "    4\n",
        "    \"\"\"\n",
        "    diff1 = abs(a - b)\n",
        "    diff2 = abs(b - c)\n",
        "    diff3 = abs(a - c)\n",
        "    return min(diff1, diff2, diff3)"
      ],
      "metadata": {
        "id": "OwydNFIM-SyK"
      },
      "execution_count": 20,
      "outputs": []
    },
    {
      "cell_type": "markdown",
      "source": [
        "The docstring is a triple-quoted string (which may span multiple lines) that comes immediately after the header of a function. When we call help() on a function, it shows the docstring."
      ],
      "metadata": {
        "id": "pjEtaW-x-dMC"
      }
    },
    {
      "cell_type": "code",
      "source": [
        "help(least_difference)"
      ],
      "metadata": {
        "colab": {
          "base_uri": "https://localhost:8080/"
        },
        "id": "2fYmkQvz-fXy",
        "outputId": "4cbe0230-c0d8-43ed-e2ec-1f0083daf5c1"
      },
      "execution_count": 21,
      "outputs": [
        {
          "output_type": "stream",
          "name": "stdout",
          "text": [
            "Help on function least_difference in module __main__:\n",
            "\n",
            "least_difference(a, b, c)\n",
            "    Return the smallest difference between any two numbers\n",
            "    among a, b and c.\n",
            "    \n",
            "    >>> least_difference(1, 5, -5)\n",
            "    4\n",
            "\n"
          ]
        }
      ]
    },
    {
      "cell_type": "markdown",
      "source": [
        "Good programmers use docstrings unless they expect to throw away the code soon after it's used (which is rare). So, you should start writing docstrings, too!"
      ],
      "metadata": {
        "id": "o8kitSdo-m4i"
      }
    },
    {
      "cell_type": "markdown",
      "source": [
        "## Functions that don't return\n",
        "\n",
        "What would happen if we didn't include the return keyword in our function?"
      ],
      "metadata": {
        "id": "_Tarxu4n-uKI"
      }
    },
    {
      "cell_type": "code",
      "source": [
        "def least_difference(a, b, c):\n",
        "    \"\"\"Return the smallest difference between any two numbers\n",
        "    among a, b and c.\n",
        "    \"\"\"\n",
        "    diff1 = abs(a - b)\n",
        "    diff2 = abs(b - c)\n",
        "    diff3 = abs(a - c)\n",
        "    min(diff1, diff2, diff3)\n",
        "\n",
        "print(\n",
        "    least_difference(1, 10, 100),\n",
        "    least_difference(1, 10, 10),\n",
        "    least_difference(5, 6, 7),\n",
        ")\n"
      ],
      "metadata": {
        "colab": {
          "base_uri": "https://localhost:8080/"
        },
        "id": "mHnGHj8n-xjz",
        "outputId": "52edae28-d368-489d-e084-851f45315ae9"
      },
      "execution_count": 22,
      "outputs": [
        {
          "output_type": "stream",
          "name": "stdout",
          "text": [
            "None None None\n"
          ]
        }
      ]
    },
    {
      "cell_type": "markdown",
      "source": [
        "Python allows us to define such functions. The result of calling them is the special value None. (This is similar to the concept of \"null\" in other languages.)\n",
        "\n",
        "Without a return statement, least_difference is completely pointless, but a function with side effects may do something useful without returning anything. We've already seen two examples of this: print() and help() don't return anything. We only call them for their side effects (putting some text on the screen). Other examples of useful side effects include writing to a file, or modifying an input.\n",
        "\n"
      ],
      "metadata": {
        "id": "69cayMkZ-0x5"
      }
    },
    {
      "cell_type": "code",
      "source": [
        "mystery = print()\n",
        "print(mystery)"
      ],
      "metadata": {
        "colab": {
          "base_uri": "https://localhost:8080/"
        },
        "id": "gUFfkgqL-238",
        "outputId": "db8fb52e-cad4-4116-99c2-d0831044ca11"
      },
      "execution_count": 23,
      "outputs": [
        {
          "output_type": "stream",
          "name": "stdout",
          "text": [
            "\n",
            "None\n"
          ]
        }
      ]
    },
    {
      "cell_type": "markdown",
      "source": [
        "### Default arguments\n",
        "\n",
        "When we called help(print), we saw that the print function has several optional arguments. For example, we can specify a value for sep to put some special string in between our printed arguments:"
      ],
      "metadata": {
        "id": "kIUtVCAe_IUj"
      }
    },
    {
      "cell_type": "code",
      "source": [
        "print(1, 2, 3, sep=' < ')"
      ],
      "metadata": {
        "colab": {
          "base_uri": "https://localhost:8080/"
        },
        "id": "Nxi9hIBl_Lja",
        "outputId": "695962be-f5c8-4151-edc5-69bef3de78b3"
      },
      "execution_count": 24,
      "outputs": [
        {
          "output_type": "stream",
          "name": "stdout",
          "text": [
            "1 < 2 < 3\n"
          ]
        }
      ]
    },
    {
      "cell_type": "markdown",
      "source": [
        "But if we don't specify a value, sep is treated as having a default value of ' ' (a single space)."
      ],
      "metadata": {
        "id": "uAY4aO6W_UyE"
      }
    },
    {
      "cell_type": "code",
      "source": [
        "print(1, 2, 3)"
      ],
      "metadata": {
        "colab": {
          "base_uri": "https://localhost:8080/"
        },
        "id": "K2um--dJ_VRw",
        "outputId": "10f89498-f779-4918-db95-d9a64d860e05"
      },
      "execution_count": 25,
      "outputs": [
        {
          "output_type": "stream",
          "name": "stdout",
          "text": [
            "1 2 3\n"
          ]
        }
      ]
    },
    {
      "cell_type": "markdown",
      "source": [
        "Adding optional arguments with default values to the functions we define turns out to be pretty easy:"
      ],
      "metadata": {
        "id": "9XhZPPLP_ZPh"
      }
    },
    {
      "cell_type": "code",
      "source": [
        "def greet(who=\"Colin\"):\n",
        "    print(\"Hello,\", who)\n",
        "\n",
        "greet()\n",
        "greet(who=\"Kaggle\")\n",
        "# (In this case, we don't need to specify the name of the argument, because it's unambiguous.)\n",
        "greet(\"world\")"
      ],
      "metadata": {
        "colab": {
          "base_uri": "https://localhost:8080/"
        },
        "id": "qQ97pYBV_a7s",
        "outputId": "dd884d7a-fe2d-457d-8e4b-0e200221257a"
      },
      "execution_count": 26,
      "outputs": [
        {
          "output_type": "stream",
          "name": "stdout",
          "text": [
            "Hello, Colin\n",
            "Hello, Kaggle\n",
            "Hello, world\n"
          ]
        }
      ]
    },
    {
      "cell_type": "markdown",
      "source": [
        "### Functions Applied to Functions\n",
        "\n",
        "Here's something that's powerful, though it can feel very abstract at first. You can supply functions as arguments to other functions. Some example may make this clearer:"
      ],
      "metadata": {
        "id": "BBRpCO-e_n56"
      }
    },
    {
      "cell_type": "code",
      "source": [
        "def mult_by_five(x):\n",
        "    return 5 * x\n",
        "\n",
        "def call(fn, arg):\n",
        "    \"\"\"Call fn on arg\"\"\"\n",
        "    return fn(arg)\n",
        "\n",
        "def squared_call(fn, arg):\n",
        "    \"\"\"Call fn on the result of calling fn on arg\"\"\"\n",
        "    return fn(fn(arg))\n",
        "\n",
        "print(\n",
        "    call(mult_by_five, 1),\n",
        "    squared_call(mult_by_five, 1),\n",
        "    sep='\\n',\n",
        ")"
      ],
      "metadata": {
        "colab": {
          "base_uri": "https://localhost:8080/"
        },
        "id": "QKPjq59q_rqq",
        "outputId": "629a05a0-284e-4be8-dc5d-1d89f686365d"
      },
      "execution_count": 27,
      "outputs": [
        {
          "output_type": "stream",
          "name": "stdout",
          "text": [
            "5\n",
            "25\n"
          ]
        }
      ]
    },
    {
      "cell_type": "markdown",
      "source": [
        "Functions that operate on other functions are called \"higher-order functions.\" You probably won't write your own for a little while. But there are higher-order functions built into Python that you might find useful to call.\n",
        "\n",
        "Here's an interesting example using the max function.\n",
        "\n",
        "By default, max returns the largest of its arguments. But if we pass in a function using the optional key argument, it returns the argument x that maximizes key(x) (aka the 'argmax').\n",
        "\n"
      ],
      "metadata": {
        "id": "BIsD0T_eAQl4"
      }
    },
    {
      "cell_type": "code",
      "source": [
        "def mod_5(x):\n",
        "    \"\"\"Return the remainder of x after dividing by 5\"\"\"\n",
        "    return x % 5\n",
        "\n",
        "print(\n",
        "    'Which number is biggest?',\n",
        "    max(100, 51, 14),\n",
        "    'Which number is the biggest modulo 5?',\n",
        "    max(100, 51, 14, key=mod_5),\n",
        "    sep='\\n',\n",
        ")"
      ],
      "metadata": {
        "colab": {
          "base_uri": "https://localhost:8080/"
        },
        "id": "l2QSgi-ZA045",
        "outputId": "b914c5a6-4963-4907-b539-9ff6c96c3977"
      },
      "execution_count": 28,
      "outputs": [
        {
          "output_type": "stream",
          "name": "stdout",
          "text": [
            "Which number is biggest?\n",
            "100\n",
            "Which number is the biggest modulo 5?\n",
            "14\n"
          ]
        }
      ]
    },
    {
      "cell_type": "markdown",
      "source": [
        "## Booleans and Conditionals\n",
        "\n",
        "Using booleans for branching logic\n",
        "\n",
        "### Booleans\n",
        "Python has a type of variable called bool. It has two possible values: True and False."
      ],
      "metadata": {
        "id": "TrYEks6xDWem"
      }
    },
    {
      "cell_type": "code",
      "source": [
        "x = True\n",
        "print(x)\n",
        "print(type(x))"
      ],
      "metadata": {
        "colab": {
          "base_uri": "https://localhost:8080/"
        },
        "id": "TyiFxvvLDfjw",
        "outputId": "8f004481-085e-4b69-9d46-f29a0dde4efe"
      },
      "execution_count": 29,
      "outputs": [
        {
          "output_type": "stream",
          "name": "stdout",
          "text": [
            "True\n",
            "<class 'bool'>\n"
          ]
        }
      ]
    },
    {
      "cell_type": "markdown",
      "source": [
        "Rather than putting True or False directly in our code, we usually get boolean values from boolean operators. These are operators that answer yes/no questions. We'll go through some of these operators below.\n",
        "\n",
        "### Comparison Operations\n",
        "\n",
        "| Operation |\tDescription\t| \tOperation\t| Description |\n",
        "| -------- | --------- | --------- | ---------- |\n",
        "| a == b |\ta equal to b\t|\ta != b |\ta not equal to b |\n",
        "| a < b |\ta less than b\t|\ta > b |\ta greater than b |\n",
        "| a <= b |\ta less than or equal to b\t|\ta >= b |\ta greater than or equal to b |"
      ],
      "metadata": {
        "id": "Xzd1KFMewTlR"
      }
    },
    {
      "cell_type": "code",
      "source": [
        "def can_run_for_president(age):\n",
        "    \"\"\"Can someone of the given age run for president in the US?\"\"\"\n",
        "    # The US Constitution says you must be at least 35 years old\n",
        "    return age >= 35\n",
        "\n",
        "print(\"Can a 19-year-old run for president?\", can_run_for_president(19))\n",
        "print(\"Can a 45-year-old run for president?\", can_run_for_president(45))"
      ],
      "metadata": {
        "colab": {
          "base_uri": "https://localhost:8080/"
        },
        "id": "_7fmX3A9wUCh",
        "outputId": "1cc25b01-ba3f-4d14-b0f9-c6f5841e0795"
      },
      "execution_count": 30,
      "outputs": [
        {
          "output_type": "stream",
          "name": "stdout",
          "text": [
            "Can a 19-year-old run for president? False\n",
            "Can a 45-year-old run for president? True\n"
          ]
        }
      ]
    },
    {
      "cell_type": "markdown",
      "source": [
        "Comparisons frequently work like you'd hope"
      ],
      "metadata": {
        "id": "kiaI2aNhw5m-"
      }
    },
    {
      "cell_type": "code",
      "source": [
        "3.0 == 3"
      ],
      "metadata": {
        "colab": {
          "base_uri": "https://localhost:8080/"
        },
        "id": "hz4MXxVpw6DJ",
        "outputId": "04868ee0-5766-4798-8ec5-4b7da2aca3fc"
      },
      "execution_count": 31,
      "outputs": [
        {
          "output_type": "execute_result",
          "data": {
            "text/plain": [
              "True"
            ]
          },
          "metadata": {},
          "execution_count": 31
        }
      ]
    },
    {
      "cell_type": "markdown",
      "source": [
        "But sometimes they can be tricky"
      ],
      "metadata": {
        "id": "GVaKOc16w-RZ"
      }
    },
    {
      "cell_type": "code",
      "source": [
        "'3' == 3"
      ],
      "metadata": {
        "id": "v0zO3gPAw_mG",
        "outputId": "bf5100ee-aa32-48b0-fc81-316c440f6e61",
        "colab": {
          "base_uri": "https://localhost:8080/"
        }
      },
      "execution_count": 32,
      "outputs": [
        {
          "output_type": "execute_result",
          "data": {
            "text/plain": [
              "False"
            ]
          },
          "metadata": {},
          "execution_count": 32
        }
      ]
    },
    {
      "cell_type": "markdown",
      "source": [
        "Comparison operators can be combined with the arithmetic operators we've already seen to express a virtually limitless range of mathematical tests. For example, we can check if a number is odd by checking that the modulus with 2 returns 1:"
      ],
      "metadata": {
        "id": "rdgLd0vTxAlM"
      }
    },
    {
      "cell_type": "code",
      "source": [
        "def is_odd(n):\n",
        "    return (n % 2) == 1\n",
        "\n",
        "print(\"Is 100 odd?\", is_odd(100))\n",
        "print(\"Is -1 odd?\", is_odd(-1))"
      ],
      "metadata": {
        "colab": {
          "base_uri": "https://localhost:8080/"
        },
        "id": "R0cTX9UAxHTe",
        "outputId": "6ab897a3-6feb-4e3f-e43d-8f147da7365d"
      },
      "execution_count": 33,
      "outputs": [
        {
          "output_type": "stream",
          "name": "stdout",
          "text": [
            "Is 100 odd? False\n",
            "Is -1 odd? True\n"
          ]
        }
      ]
    },
    {
      "cell_type": "markdown",
      "source": [
        "Remember to use == instead of = when making comparisons. If you write n == 2 you are asking about the value of n. When you write n = 2 you are changing the value of n."
      ],
      "metadata": {
        "id": "iMSKXy5GxL5N"
      }
    },
    {
      "cell_type": "markdown",
      "source": [
        "### Combining Boolean Values\n",
        "\n",
        "You can combine boolean values using the standard concepts of \"and\", \"or\", and \"not\". In fact, the words to do this are: and, or, and not.\n",
        "\n",
        "With these, we can make our can_run_for_president function more accurate."
      ],
      "metadata": {
        "id": "XzhJ-sr2xOnE"
      }
    },
    {
      "cell_type": "code",
      "source": [
        "def can_run_for_president(age, is_natural_born_citizen):\n",
        "    \"\"\"Can someone of the given age and citizenship status run for president in the US?\"\"\"\n",
        "    # The US Constitution says you must be a natural born citizen *and* at least 35 years old\n",
        "    return is_natural_born_citizen and (age >= 35)\n",
        "\n",
        "print(can_run_for_president(19, True))\n",
        "print(can_run_for_president(55, False))\n",
        "print(can_run_for_president(55, True))"
      ],
      "metadata": {
        "colab": {
          "base_uri": "https://localhost:8080/"
        },
        "id": "JaznA6xvxZkb",
        "outputId": "2384933b-c312-4abf-cb84-4ada84c54b67"
      },
      "execution_count": 34,
      "outputs": [
        {
          "output_type": "stream",
          "name": "stdout",
          "text": [
            "False\n",
            "False\n",
            "True\n"
          ]
        }
      ]
    },
    {
      "cell_type": "code",
      "source": [
        "True or True and False"
      ],
      "metadata": {
        "colab": {
          "base_uri": "https://localhost:8080/"
        },
        "id": "mJRHj78xxkZW",
        "outputId": "daeaf60e-f238-46f0-dbd2-222140971f3a"
      },
      "execution_count": 35,
      "outputs": [
        {
          "output_type": "execute_result",
          "data": {
            "text/plain": [
              "True"
            ]
          },
          "metadata": {},
          "execution_count": 35
        }
      ]
    },
    {
      "cell_type": "markdown",
      "source": [
        "For example, and is evaluated before or. That's why the first expression above is True. If we evaluated it from left to right, we would have calculated True or True first (which is True), and then taken the and of that result with False, giving a final value of False.\n",
        "\n",
        "You could try to memorize the order of precedence, but a safer bet is to just use liberal parentheses. Not only does this help prevent bugs, it makes your intentions clearer to anyone who reads your code.\n",
        "\n",
        "For example, consider the following expression:\n",
        "\n",
        "```\n",
        "prepared_for_weather = have_umbrella or rain_level < 5 and have_hood or not rain_level > 0 and is_workday\n",
        "```\n",
        "\n",
        "I'm trying to say that I'm safe from today's weather....\n",
        "\n",
        "- if I have an umbrella...\n",
        "- or if the rain isn't too heavy and I have a hood...\n",
        "- otherwise, I'm still fine unless it's raining and it's a workday\n",
        "\n",
        "But not only is my Python code hard to read, it has a bug. We can address both problems by adding some parentheses:\n",
        "\n",
        "```\n",
        "prepared_for_weather = have_umbrella or (rain_level < 5 and have_hood) or not (rain_level > 0 and is_workday)\n",
        "```\n",
        "\n",
        "You can add even more parentheses if you think it helps readability:\n",
        "\n",
        "```\n",
        "prepared_for_weather = have_umbrella or ((rain_level < 5) and have_hood) or (not (rain_level > 0 and is_workday))\n",
        "```\n",
        "\n",
        "We can also split it over multiple lines to emphasize the 3-part structure described above:\n",
        "\n",
        "```\n",
        "prepared_for_weather = (\n",
        "    have_umbrella\n",
        "    or ((rain_level < 5) and have_hood)\n",
        "    or (not (rain_level > 0 and is_workday))\n",
        ")\n",
        "```"
      ],
      "metadata": {
        "id": "HYqWbhmWxzEC"
      }
    },
    {
      "cell_type": "markdown",
      "source": [
        "### Conditionals¶\n",
        "\n",
        "Booleans are most useful when combined with conditional statements, using the keywords if, elif, and else.\n",
        "\n",
        "Conditional statements, often referred to as if-then statements, let you control what pieces of code are run based on the value of some Boolean condition. Here's an example:"
      ],
      "metadata": {
        "id": "Ep1jQZc_yLUi"
      }
    },
    {
      "cell_type": "code",
      "source": [
        "def inspect(x):\n",
        "    if x == 0:\n",
        "        print(x, \"is zero\")\n",
        "    elif x > 0:\n",
        "        print(x, \"is positive\")\n",
        "    elif x < 0:\n",
        "        print(x, \"is negative\")\n",
        "    else:\n",
        "        print(x, \"is unlike anything I've ever seen...\")\n",
        "\n",
        "inspect(0)\n",
        "inspect(-15)"
      ],
      "metadata": {
        "colab": {
          "base_uri": "https://localhost:8080/"
        },
        "id": "fJGZmcPQyyGZ",
        "outputId": "3b004e99-c2f0-4363-8898-cf64ed2079a5"
      },
      "execution_count": 36,
      "outputs": [
        {
          "output_type": "stream",
          "name": "stdout",
          "text": [
            "0 is zero\n",
            "-15 is negative\n"
          ]
        }
      ]
    },
    {
      "cell_type": "markdown",
      "source": [
        "The if and else keywords are often used in other languages; its more unique keyword is elif, a contraction of \"else if\". In these conditional clauses, elif and else blocks are optional; additionally, you can include as many elif statements as you would like.\n",
        "\n",
        "Note especially the use of colons (:) and whitespace to denote separate blocks of code. This is similar to what happens when we define a function - the function header ends with :, and the following line is indented with 4 spaces. All subsequent indented lines belong to the body of the function, until we encounter an unindented line, ending the function definition."
      ],
      "metadata": {
        "id": "X3aaN2sgy1oJ"
      }
    },
    {
      "cell_type": "code",
      "source": [
        "def f(x):\n",
        "    if x > 0:\n",
        "        print(\"Only printed when x is positive; x =\", x)\n",
        "        print(\"Also only printed when x is positive; x =\", x)\n",
        "    print(\"Always printed, regardless of x's value; x =\", x)\n",
        "\n",
        "f(1)\n",
        "f(0)"
      ],
      "metadata": {
        "colab": {
          "base_uri": "https://localhost:8080/"
        },
        "id": "XHb42CoXy3wX",
        "outputId": "e3253a8c-0e5c-4b3b-f842-45ee6db1232c"
      },
      "execution_count": 37,
      "outputs": [
        {
          "output_type": "stream",
          "name": "stdout",
          "text": [
            "Only printed when x is positive; x = 1\n",
            "Also only printed when x is positive; x = 1\n",
            "Always printed, regardless of x's value; x = 1\n",
            "Always printed, regardless of x's value; x = 0\n"
          ]
        }
      ]
    },
    {
      "cell_type": "markdown",
      "source": [
        "### Boolean conversion¶\n",
        "\n",
        "We've seen int(), which turns things into ints, and float(), which turns things into floats, so you might not be surprised to hear that Python has a bool() function which turns things into bools."
      ],
      "metadata": {
        "id": "0ziQSA5gzM7m"
      }
    },
    {
      "cell_type": "code",
      "source": [
        "print(bool(1)) # all numbers are treated as true, except 0\n",
        "print(bool(0))\n",
        "print(bool(\"asf\")) # all strings are treated as true, except the empty string \"\"\n",
        "print(bool(\"\"))\n",
        "# Generally empty sequences (strings, lists, and other types we've yet to see like lists and tuples)\n",
        "# are \"falsey\" and the rest are \"truthy\""
      ],
      "metadata": {
        "colab": {
          "base_uri": "https://localhost:8080/"
        },
        "id": "7UYPhvA-zQlG",
        "outputId": "bb9c114e-49ed-4dd9-ad94-a189cd030f81"
      },
      "execution_count": 38,
      "outputs": [
        {
          "output_type": "stream",
          "name": "stdout",
          "text": [
            "True\n",
            "False\n",
            "True\n",
            "False\n"
          ]
        }
      ]
    },
    {
      "cell_type": "markdown",
      "source": [
        "We can use non-boolean objects in if conditions and other places where a boolean would be expected. Python will implicitly treat them as their corresponding boolean value:"
      ],
      "metadata": {
        "id": "x8Yt9HZ_zWUN"
      }
    },
    {
      "cell_type": "code",
      "source": [
        "if 0:\n",
        "    print(0)\n",
        "elif \"spam\":\n",
        "    print(\"spam\")"
      ],
      "metadata": {
        "id": "MwOf16GfzZq1",
        "outputId": "5ff46971-37e3-4532-bd46-65f22b2f6da4",
        "colab": {
          "base_uri": "https://localhost:8080/"
        }
      },
      "execution_count": 39,
      "outputs": [
        {
          "output_type": "stream",
          "name": "stdout",
          "text": [
            "spam\n"
          ]
        }
      ]
    },
    {
      "cell_type": "markdown",
      "source": [
        "## Lists\n",
        "\n",
        "Lists and the things you can do with them. Includes indexing, slicing and mutating\n",
        "\n",
        "### Lists¶\n",
        "Lists in Python represent ordered sequences of values. Here is an example of how to create them:"
      ],
      "metadata": {
        "id": "fms7OwLr7A8W"
      }
    },
    {
      "cell_type": "code",
      "source": [
        "primes = [2, 3, 5, 7]"
      ],
      "metadata": {
        "id": "Ia7EjXHz7J1N"
      },
      "execution_count": 40,
      "outputs": []
    },
    {
      "cell_type": "markdown",
      "source": [
        "We can put other types of things in lists:"
      ],
      "metadata": {
        "id": "A2gqv51r7M_O"
      }
    },
    {
      "cell_type": "code",
      "source": [
        "planets = ['Mercury', 'Venus', 'Earth', 'Mars', 'Jupiter', 'Saturn', 'Uranus', 'Neptune']"
      ],
      "metadata": {
        "id": "AVxuPXnR7Ngn"
      },
      "execution_count": 41,
      "outputs": []
    },
    {
      "cell_type": "markdown",
      "source": [
        "We can even make a list of lists:"
      ],
      "metadata": {
        "id": "Rg4DCI8C9V4j"
      }
    },
    {
      "cell_type": "code",
      "source": [
        "hands = [\n",
        "    ['J', 'Q', 'K'],\n",
        "    ['2', '2', '2'],\n",
        "    ['6', 'A', 'K'],\n",
        "]\n",
        "# or written like\n",
        "hands = [['J', 'Q', 'K'], ['2', '2', '2'], ['6', 'A', 'K']]"
      ],
      "metadata": {
        "id": "11T_vT0V9XWE"
      },
      "execution_count": 42,
      "outputs": []
    },
    {
      "cell_type": "markdown",
      "source": [
        "A list can contain a mix of different types of variables:"
      ],
      "metadata": {
        "id": "IoQR-zUt9jnB"
      }
    },
    {
      "cell_type": "code",
      "source": [
        "my_favourite_things = [32, 'raindrops on roses', help]\n",
        "# (Yes, Python's help function is *definitely* one of my favourite things)"
      ],
      "metadata": {
        "id": "M3VKgb7Q9kcR"
      },
      "execution_count": 43,
      "outputs": []
    },
    {
      "cell_type": "markdown",
      "source": [
        "## Indexing\n",
        "\n",
        "You can access individual list elements with square brackets.\n",
        "\n",
        "Which planet is closest to the sun? Python uses zero-based indexing, so the first element has index 0."
      ],
      "metadata": {
        "id": "LtMg1rfP9o_Y"
      }
    },
    {
      "cell_type": "code",
      "source": [
        "planets[0]"
      ],
      "metadata": {
        "colab": {
          "base_uri": "https://localhost:8080/",
          "height": 35
        },
        "id": "boQCDTnZ9upR",
        "outputId": "82095bc7-d9f1-480b-e7f1-6ce95d0ea47f"
      },
      "execution_count": 44,
      "outputs": [
        {
          "output_type": "execute_result",
          "data": {
            "text/plain": [
              "'Mercury'"
            ],
            "application/vnd.google.colaboratory.intrinsic+json": {
              "type": "string"
            }
          },
          "metadata": {},
          "execution_count": 44
        }
      ]
    },
    {
      "cell_type": "markdown",
      "source": [
        "What's the next closest planet?"
      ],
      "metadata": {
        "id": "9qKDWwsP9xap"
      }
    },
    {
      "cell_type": "code",
      "source": [
        "planets[1]"
      ],
      "metadata": {
        "colab": {
          "base_uri": "https://localhost:8080/",
          "height": 35
        },
        "id": "Trwys2ae9yBv",
        "outputId": "6985de59-25c4-449c-d32e-c2b61156dcd4"
      },
      "execution_count": 45,
      "outputs": [
        {
          "output_type": "execute_result",
          "data": {
            "text/plain": [
              "'Venus'"
            ],
            "application/vnd.google.colaboratory.intrinsic+json": {
              "type": "string"
            }
          },
          "metadata": {},
          "execution_count": 45
        }
      ]
    },
    {
      "cell_type": "markdown",
      "source": [
        "Which planet is furthest from the sun?\n",
        "\n",
        "Elements at the end of the list can be accessed with negative numbers, starting from -1:"
      ],
      "metadata": {
        "id": "vRVIC1Ne93Xg"
      }
    },
    {
      "cell_type": "code",
      "source": [
        "planets[-1]\n"
      ],
      "metadata": {
        "colab": {
          "base_uri": "https://localhost:8080/",
          "height": 35
        },
        "id": "qdhMTJvP937b",
        "outputId": "58978622-a902-4453-9e42-c5aa5c870ba3"
      },
      "execution_count": 46,
      "outputs": [
        {
          "output_type": "execute_result",
          "data": {
            "text/plain": [
              "'Neptune'"
            ],
            "application/vnd.google.colaboratory.intrinsic+json": {
              "type": "string"
            }
          },
          "metadata": {},
          "execution_count": 46
        }
      ]
    },
    {
      "cell_type": "code",
      "source": [
        "planets[-2]"
      ],
      "metadata": {
        "colab": {
          "base_uri": "https://localhost:8080/",
          "height": 35
        },
        "id": "gEwEbMzM96e_",
        "outputId": "2697cf8a-c1cf-42f6-c973-d432ceaca578"
      },
      "execution_count": 47,
      "outputs": [
        {
          "output_type": "execute_result",
          "data": {
            "text/plain": [
              "'Uranus'"
            ],
            "application/vnd.google.colaboratory.intrinsic+json": {
              "type": "string"
            }
          },
          "metadata": {},
          "execution_count": 47
        }
      ]
    },
    {
      "cell_type": "markdown",
      "source": [
        "## Slicing\n",
        "\n",
        "What are the first three planets? We can answer this question using slicing:"
      ],
      "metadata": {
        "id": "tRp-vVQg98Eo"
      }
    },
    {
      "cell_type": "code",
      "source": [
        "planets[0:3]"
      ],
      "metadata": {
        "colab": {
          "base_uri": "https://localhost:8080/"
        },
        "id": "-Fisf6P2-B6p",
        "outputId": "c36489de-ab56-4f39-bf94-b71a12caba85"
      },
      "execution_count": 48,
      "outputs": [
        {
          "output_type": "execute_result",
          "data": {
            "text/plain": [
              "['Mercury', 'Venus', 'Earth']"
            ]
          },
          "metadata": {},
          "execution_count": 48
        }
      ]
    },
    {
      "cell_type": "markdown",
      "source": [
        "planets[0:3] is our way of asking for the elements of planets starting from index 0 and continuing up to but not including index 3.\n",
        "\n",
        "The starting and ending indices are both optional. If I leave out the start index, it's assumed to be 0. So I could rewrite the expression above as:"
      ],
      "metadata": {
        "id": "Vya2kf-u-EVx"
      }
    },
    {
      "cell_type": "code",
      "source": [
        "planets[:3]"
      ],
      "metadata": {
        "colab": {
          "base_uri": "https://localhost:8080/"
        },
        "id": "gUuz1Fnt-HqQ",
        "outputId": "05900e6b-69c2-4fd0-9d6a-7585c7373e1f"
      },
      "execution_count": 49,
      "outputs": [
        {
          "output_type": "execute_result",
          "data": {
            "text/plain": [
              "['Mercury', 'Venus', 'Earth']"
            ]
          },
          "metadata": {},
          "execution_count": 49
        }
      ]
    },
    {
      "cell_type": "markdown",
      "source": [
        "If I leave out the end index, it's assumed to be the length of the list."
      ],
      "metadata": {
        "id": "DWHYtRM1-JZg"
      }
    },
    {
      "cell_type": "code",
      "source": [
        "planets[3:]"
      ],
      "metadata": {
        "colab": {
          "base_uri": "https://localhost:8080/"
        },
        "id": "u7ljoG-5-KrS",
        "outputId": "e92ab89a-5936-4a00-d571-c1b94637aca6"
      },
      "execution_count": 50,
      "outputs": [
        {
          "output_type": "execute_result",
          "data": {
            "text/plain": [
              "['Mars', 'Jupiter', 'Saturn', 'Uranus', 'Neptune']"
            ]
          },
          "metadata": {},
          "execution_count": 50
        }
      ]
    },
    {
      "cell_type": "markdown",
      "source": [
        "i.e. the expression above means \"give me all the planets from index 3 onward\".\n",
        "\n",
        "We can also use negative indices when slicing:"
      ],
      "metadata": {
        "id": "Om-X0Ryh-MX4"
      }
    },
    {
      "cell_type": "code",
      "source": [
        "# All the planets except the first and last\n",
        "planets[1:-1]"
      ],
      "metadata": {
        "colab": {
          "base_uri": "https://localhost:8080/"
        },
        "id": "Owff9ngo-N9d",
        "outputId": "5421237c-4bf2-460d-d565-a61319f29527"
      },
      "execution_count": 51,
      "outputs": [
        {
          "output_type": "execute_result",
          "data": {
            "text/plain": [
              "['Venus', 'Earth', 'Mars', 'Jupiter', 'Saturn', 'Uranus']"
            ]
          },
          "metadata": {},
          "execution_count": 51
        }
      ]
    },
    {
      "cell_type": "code",
      "source": [
        "# The last 3 planets\n",
        "planets[-3:]"
      ],
      "metadata": {
        "colab": {
          "base_uri": "https://localhost:8080/"
        },
        "id": "lit1IN3w-TY_",
        "outputId": "2b9cfc9a-fd38-419e-d257-35075bf49aac"
      },
      "execution_count": 52,
      "outputs": [
        {
          "output_type": "execute_result",
          "data": {
            "text/plain": [
              "['Saturn', 'Uranus', 'Neptune']"
            ]
          },
          "metadata": {},
          "execution_count": 52
        }
      ]
    },
    {
      "cell_type": "markdown",
      "source": [
        "## Changing lists\n",
        "\n",
        "Lists are \"mutable\", meaning they can be modified \"in place\".\n",
        "\n",
        "One way to modify a list is to assign to an index or slice expression.\n",
        "\n",
        "For example, let's say we want to rename Mars:"
      ],
      "metadata": {
        "id": "ugDsaL5j-VGY"
      }
    },
    {
      "cell_type": "code",
      "source": [
        "planets[3] = 'Malacandra'\n",
        "planets"
      ],
      "metadata": {
        "colab": {
          "base_uri": "https://localhost:8080/"
        },
        "id": "_aU5utti-e4q",
        "outputId": "ad749b65-d489-4aa2-d53b-e91e32347e95"
      },
      "execution_count": 53,
      "outputs": [
        {
          "output_type": "execute_result",
          "data": {
            "text/plain": [
              "['Mercury',\n",
              " 'Venus',\n",
              " 'Earth',\n",
              " 'Malacandra',\n",
              " 'Jupiter',\n",
              " 'Saturn',\n",
              " 'Uranus',\n",
              " 'Neptune']"
            ]
          },
          "metadata": {},
          "execution_count": 53
        }
      ]
    },
    {
      "cell_type": "markdown",
      "source": [
        "Hm, that's quite a mouthful. Let's compensate by shortening the names of the first 3 planets.\n",
        "\n"
      ],
      "metadata": {
        "id": "wji6Dq3a-kYw"
      }
    },
    {
      "cell_type": "code",
      "source": [
        "planets[:3] = ['Mur', 'Vee', 'Ur']\n",
        "print(planets)\n",
        "# That was silly. Let's give them back their old names\n",
        "planets[:4] = ['Mercury', 'Venus', 'Earth', 'Mars',]"
      ],
      "metadata": {
        "colab": {
          "base_uri": "https://localhost:8080/"
        },
        "id": "DNb6AcSQ-k6b",
        "outputId": "271e5ec9-7f20-4c5b-c908-19107860cccd"
      },
      "execution_count": 54,
      "outputs": [
        {
          "output_type": "stream",
          "name": "stdout",
          "text": [
            "['Mur', 'Vee', 'Ur', 'Malacandra', 'Jupiter', 'Saturn', 'Uranus', 'Neptune']\n"
          ]
        }
      ]
    },
    {
      "cell_type": "markdown",
      "source": [
        "### List functions\n",
        "Python has several useful functions for working with lists.\n",
        "\n",
        "len gives the length of a list:"
      ],
      "metadata": {
        "id": "jfKKA-11-o-p"
      }
    },
    {
      "cell_type": "code",
      "source": [
        "# How many planets are there?\n",
        "len(planets)"
      ],
      "metadata": {
        "colab": {
          "base_uri": "https://localhost:8080/"
        },
        "id": "C7Z2rstx-rcR",
        "outputId": "baefe938-98e3-42eb-db15-8a55c9037d66"
      },
      "execution_count": 55,
      "outputs": [
        {
          "output_type": "execute_result",
          "data": {
            "text/plain": [
              "8"
            ]
          },
          "metadata": {},
          "execution_count": 55
        }
      ]
    },
    {
      "cell_type": "markdown",
      "source": [
        "sorted returns a sorted version of a list:"
      ],
      "metadata": {
        "id": "Rrg8gQX5-tkF"
      }
    },
    {
      "cell_type": "code",
      "source": [
        "# The planets sorted in alphabetical order\n",
        "sorted(planets)"
      ],
      "metadata": {
        "colab": {
          "base_uri": "https://localhost:8080/"
        },
        "id": "sN_3LUHH-vZb",
        "outputId": "6b28a2fb-8f29-4936-b28d-00b415bc5ec8"
      },
      "execution_count": 56,
      "outputs": [
        {
          "output_type": "execute_result",
          "data": {
            "text/plain": [
              "['Earth', 'Jupiter', 'Mars', 'Mercury', 'Neptune', 'Saturn', 'Uranus', 'Venus']"
            ]
          },
          "metadata": {},
          "execution_count": 56
        }
      ]
    },
    {
      "cell_type": "markdown",
      "source": [
        "sum does what you might expect:"
      ],
      "metadata": {
        "id": "NFTxZGKt-xf2"
      }
    },
    {
      "cell_type": "code",
      "source": [
        "primes = [2, 3, 5, 7]\n",
        "sum(primes)"
      ],
      "metadata": {
        "colab": {
          "base_uri": "https://localhost:8080/"
        },
        "id": "VJ6NYvPY-x7c",
        "outputId": "dcb27127-8ca3-4fe5-c697-ac4d331c0ee6"
      },
      "execution_count": 57,
      "outputs": [
        {
          "output_type": "execute_result",
          "data": {
            "text/plain": [
              "17"
            ]
          },
          "metadata": {},
          "execution_count": 57
        }
      ]
    },
    {
      "cell_type": "markdown",
      "source": [
        "We've previously used the min and max to get the minimum or maximum of several arguments. But we can also pass in a single list argument."
      ],
      "metadata": {
        "id": "-qZmk4Ry-03h"
      }
    },
    {
      "cell_type": "code",
      "source": [
        "max(primes)"
      ],
      "metadata": {
        "colab": {
          "base_uri": "https://localhost:8080/"
        },
        "id": "xDZ7-v2Q-2Hj",
        "outputId": "a6385d8b-4e7f-408e-e92e-6f4c9fb9ead0"
      },
      "execution_count": 58,
      "outputs": [
        {
          "output_type": "execute_result",
          "data": {
            "text/plain": [
              "7"
            ]
          },
          "metadata": {},
          "execution_count": 58
        }
      ]
    },
    {
      "cell_type": "markdown",
      "source": [
        "### Interlude: objects\n",
        "\n",
        "I've used the term 'object' a lot so far - you may have even read that everything in Python is an object. What does that mean?\n",
        "\n",
        "In short, objects carry some things around with them. You access that stuff using Python's dot syntax.\n",
        "\n",
        "For example, numbers in Python carry around an associated variable called imag representing their imaginary part. (You'll probably never need to use this unless you're doing some very weird math.)"
      ],
      "metadata": {
        "id": "IkDe0Sfs-4Hg"
      }
    },
    {
      "cell_type": "code",
      "source": [
        "x = 12\n",
        "# x is a real number, so its imaginary part is 0.\n",
        "print(x.imag)\n",
        "# Here's how to make a complex number, in case you've ever been curious:\n",
        "c = 12 + 3j\n",
        "print(c.imag)"
      ],
      "metadata": {
        "colab": {
          "base_uri": "https://localhost:8080/"
        },
        "id": "ov6czo-1_GJb",
        "outputId": "2f042650-f668-4521-f07e-09db27eb32eb"
      },
      "execution_count": 59,
      "outputs": [
        {
          "output_type": "stream",
          "name": "stdout",
          "text": [
            "0\n",
            "3.0\n"
          ]
        }
      ]
    },
    {
      "cell_type": "markdown",
      "source": [
        "The things an object carries around can also include functions. A function attached to an object is called a method. (Non-function things attached to an object, such as imag, are called attributes).\n",
        "\n",
        "For example, numbers have a method called bit_length. Again, we access it using dot syntax:"
      ],
      "metadata": {
        "id": "PwHSs1Vm_NrR"
      }
    },
    {
      "cell_type": "code",
      "source": [
        "x.bit_length\n"
      ],
      "metadata": {
        "colab": {
          "base_uri": "https://localhost:8080/"
        },
        "id": "RO95QZhR_TgD",
        "outputId": "807d837d-46d3-40c4-b6dd-754f3d4604e1"
      },
      "execution_count": 60,
      "outputs": [
        {
          "output_type": "execute_result",
          "data": {
            "text/plain": [
              "<function int.bit_length()>"
            ]
          },
          "metadata": {},
          "execution_count": 60
        }
      ]
    },
    {
      "cell_type": "markdown",
      "source": [
        "To actually call it, we add parentheses:"
      ],
      "metadata": {
        "id": "gFtudXVC_V_A"
      }
    },
    {
      "cell_type": "code",
      "source": [
        "x.bit_length()"
      ],
      "metadata": {
        "colab": {
          "base_uri": "https://localhost:8080/"
        },
        "id": "AQTU9SIN_Y2j",
        "outputId": "6835a0fa-bb93-43c1-d574-fce8ed950b73"
      },
      "execution_count": 61,
      "outputs": [
        {
          "output_type": "execute_result",
          "data": {
            "text/plain": [
              "4"
            ]
          },
          "metadata": {},
          "execution_count": 61
        }
      ]
    },
    {
      "cell_type": "markdown",
      "source": [
        "In the same way that we can pass functions to the help function (e.g. help(max)), we can also pass in methods:"
      ],
      "metadata": {
        "id": "XpZpxC3N_gr8"
      }
    },
    {
      "cell_type": "code",
      "source": [
        "help(x.bit_length)"
      ],
      "metadata": {
        "id": "pTdYBWHx_kYR",
        "outputId": "94f629a5-8185-4d7f-fa99-c7eaf5847c80",
        "colab": {
          "base_uri": "https://localhost:8080/"
        }
      },
      "execution_count": 62,
      "outputs": [
        {
          "output_type": "stream",
          "name": "stdout",
          "text": [
            "Help on built-in function bit_length:\n",
            "\n",
            "bit_length() method of builtins.int instance\n",
            "    Number of bits necessary to represent self in binary.\n",
            "    \n",
            "    >>> bin(37)\n",
            "    '0b100101'\n",
            "    >>> (37).bit_length()\n",
            "    6\n",
            "\n"
          ]
        }
      ]
    },
    {
      "cell_type": "markdown",
      "source": [
        "The examples above were utterly obscure. None of the types of objects we've looked at so far (numbers, functions, booleans) have attributes or methods you're likely ever to use.\n",
        "\n",
        "But it turns out that lists have several methods which you'll use all the time."
      ],
      "metadata": {
        "id": "Jf4O3p72_n-U"
      }
    },
    {
      "cell_type": "markdown",
      "source": [
        "## List methods\n",
        "\n",
        "list.append modifies a list by adding an item to the end:"
      ],
      "metadata": {
        "id": "ktkCeRNxcKej"
      }
    },
    {
      "cell_type": "code",
      "source": [
        "# Pluto is a planet darn it!\n",
        "planets.append('Pluto')"
      ],
      "metadata": {
        "id": "6kriQ_3scQnw"
      },
      "execution_count": 63,
      "outputs": []
    },
    {
      "cell_type": "code",
      "source": [
        "planets"
      ],
      "metadata": {
        "colab": {
          "base_uri": "https://localhost:8080/"
        },
        "id": "qSKmvemFcn2P",
        "outputId": "28600405-02b4-4d8a-a78c-af1064c7ea39"
      },
      "execution_count": 64,
      "outputs": [
        {
          "output_type": "execute_result",
          "data": {
            "text/plain": [
              "['Mercury',\n",
              " 'Venus',\n",
              " 'Earth',\n",
              " 'Mars',\n",
              " 'Jupiter',\n",
              " 'Saturn',\n",
              " 'Uranus',\n",
              " 'Neptune',\n",
              " 'Pluto']"
            ]
          },
          "metadata": {},
          "execution_count": 64
        }
      ]
    },
    {
      "cell_type": "markdown",
      "source": [
        "list.pop removes and returns the last element of a list:"
      ],
      "metadata": {
        "id": "3PE-VP1qcs3_"
      }
    },
    {
      "cell_type": "code",
      "source": [
        "planets.pop()\n",
        "planets"
      ],
      "metadata": {
        "colab": {
          "base_uri": "https://localhost:8080/"
        },
        "id": "xdcEbdFoct1l",
        "outputId": "33298df2-c064-44cb-8bf9-0d1953d2ca38"
      },
      "execution_count": 65,
      "outputs": [
        {
          "output_type": "execute_result",
          "data": {
            "text/plain": [
              "['Mercury', 'Venus', 'Earth', 'Mars', 'Jupiter', 'Saturn', 'Uranus', 'Neptune']"
            ]
          },
          "metadata": {},
          "execution_count": 65
        }
      ]
    },
    {
      "cell_type": "markdown",
      "source": [
        "### Searching lists\n",
        "\n",
        "Where does Earth fall in the order of planets? We can get its index using the list.index method."
      ],
      "metadata": {
        "id": "--aH0QLHc3mk"
      }
    },
    {
      "cell_type": "code",
      "source": [
        "planets.index('Earth')\n"
      ],
      "metadata": {
        "colab": {
          "base_uri": "https://localhost:8080/"
        },
        "id": "-YdHUQwDc94e",
        "outputId": "2318c5ac-8601-40cc-8546-f618a8b42ea8"
      },
      "execution_count": 66,
      "outputs": [
        {
          "output_type": "execute_result",
          "data": {
            "text/plain": [
              "2"
            ]
          },
          "metadata": {},
          "execution_count": 66
        }
      ]
    },
    {
      "cell_type": "markdown",
      "source": [
        "It comes third (i.e. at index 2 - 0 indexing!).\n",
        "\n",
        "At what index does Pluto occur?\n",
        "\n",
        "Oh, that's right...\n",
        "\n",
        "To avoid unpleasant surprises like this, we can use the in operator to determine whether a list contains a particular value:"
      ],
      "metadata": {
        "id": "I2hqocJSdJG6"
      }
    },
    {
      "cell_type": "code",
      "source": [
        "# Is Earth a planet?\n",
        "\"Earth\" in planets"
      ],
      "metadata": {
        "colab": {
          "base_uri": "https://localhost:8080/"
        },
        "id": "wHuOkRvddP0I",
        "outputId": "fef033c4-0740-43c0-9ada-e52f5a4c77f2"
      },
      "execution_count": 67,
      "outputs": [
        {
          "output_type": "execute_result",
          "data": {
            "text/plain": [
              "True"
            ]
          },
          "metadata": {},
          "execution_count": 67
        }
      ]
    },
    {
      "cell_type": "code",
      "source": [
        "# Is Calbefraques a planet?\n",
        "\"Calbefraques\" in planets"
      ],
      "metadata": {
        "colab": {
          "base_uri": "https://localhost:8080/"
        },
        "id": "LZ_r7WP_dT6w",
        "outputId": "03c0590d-797f-4f00-e334-ddabf70c3889"
      },
      "execution_count": 68,
      "outputs": [
        {
          "output_type": "execute_result",
          "data": {
            "text/plain": [
              "False"
            ]
          },
          "metadata": {},
          "execution_count": 68
        }
      ]
    },
    {
      "cell_type": "markdown",
      "source": [
        "There are a few more interesting list methods we haven't covered. If you want to learn about all the methods and attributes attached to a particular object, we can call help() on the object itself. For example, help(planets) will tell us about all the list methods:"
      ],
      "metadata": {
        "id": "WhyWrbK-dX_w"
      }
    },
    {
      "cell_type": "code",
      "source": [
        "help(planets)"
      ],
      "metadata": {
        "colab": {
          "base_uri": "https://localhost:8080/"
        },
        "id": "PzWUYsmgdfMz",
        "outputId": "46a56dfc-3147-4e34-91a5-ca32d2beb1e2"
      },
      "execution_count": 69,
      "outputs": [
        {
          "output_type": "stream",
          "name": "stdout",
          "text": [
            "Help on list object:\n",
            "\n",
            "class list(object)\n",
            " |  list(iterable=(), /)\n",
            " |  \n",
            " |  Built-in mutable sequence.\n",
            " |  \n",
            " |  If no argument is given, the constructor creates a new empty list.\n",
            " |  The argument must be an iterable if specified.\n",
            " |  \n",
            " |  Methods defined here:\n",
            " |  \n",
            " |  __add__(self, value, /)\n",
            " |      Return self+value.\n",
            " |  \n",
            " |  __contains__(self, key, /)\n",
            " |      Return key in self.\n",
            " |  \n",
            " |  __delitem__(self, key, /)\n",
            " |      Delete self[key].\n",
            " |  \n",
            " |  __eq__(self, value, /)\n",
            " |      Return self==value.\n",
            " |  \n",
            " |  __ge__(self, value, /)\n",
            " |      Return self>=value.\n",
            " |  \n",
            " |  __getattribute__(self, name, /)\n",
            " |      Return getattr(self, name).\n",
            " |  \n",
            " |  __getitem__(...)\n",
            " |      x.__getitem__(y) <==> x[y]\n",
            " |  \n",
            " |  __gt__(self, value, /)\n",
            " |      Return self>value.\n",
            " |  \n",
            " |  __iadd__(self, value, /)\n",
            " |      Implement self+=value.\n",
            " |  \n",
            " |  __imul__(self, value, /)\n",
            " |      Implement self*=value.\n",
            " |  \n",
            " |  __init__(self, /, *args, **kwargs)\n",
            " |      Initialize self.  See help(type(self)) for accurate signature.\n",
            " |  \n",
            " |  __iter__(self, /)\n",
            " |      Implement iter(self).\n",
            " |  \n",
            " |  __le__(self, value, /)\n",
            " |      Return self<=value.\n",
            " |  \n",
            " |  __len__(self, /)\n",
            " |      Return len(self).\n",
            " |  \n",
            " |  __lt__(self, value, /)\n",
            " |      Return self<value.\n",
            " |  \n",
            " |  __mul__(self, value, /)\n",
            " |      Return self*value.\n",
            " |  \n",
            " |  __ne__(self, value, /)\n",
            " |      Return self!=value.\n",
            " |  \n",
            " |  __repr__(self, /)\n",
            " |      Return repr(self).\n",
            " |  \n",
            " |  __reversed__(self, /)\n",
            " |      Return a reverse iterator over the list.\n",
            " |  \n",
            " |  __rmul__(self, value, /)\n",
            " |      Return value*self.\n",
            " |  \n",
            " |  __setitem__(self, key, value, /)\n",
            " |      Set self[key] to value.\n",
            " |  \n",
            " |  __sizeof__(self, /)\n",
            " |      Return the size of the list in memory, in bytes.\n",
            " |  \n",
            " |  append(self, object, /)\n",
            " |      Append object to the end of the list.\n",
            " |  \n",
            " |  clear(self, /)\n",
            " |      Remove all items from list.\n",
            " |  \n",
            " |  copy(self, /)\n",
            " |      Return a shallow copy of the list.\n",
            " |  \n",
            " |  count(self, value, /)\n",
            " |      Return number of occurrences of value.\n",
            " |  \n",
            " |  extend(self, iterable, /)\n",
            " |      Extend list by appending elements from the iterable.\n",
            " |  \n",
            " |  index(self, value, start=0, stop=9223372036854775807, /)\n",
            " |      Return first index of value.\n",
            " |      \n",
            " |      Raises ValueError if the value is not present.\n",
            " |  \n",
            " |  insert(self, index, object, /)\n",
            " |      Insert object before index.\n",
            " |  \n",
            " |  pop(self, index=-1, /)\n",
            " |      Remove and return item at index (default last).\n",
            " |      \n",
            " |      Raises IndexError if list is empty or index is out of range.\n",
            " |  \n",
            " |  remove(self, value, /)\n",
            " |      Remove first occurrence of value.\n",
            " |      \n",
            " |      Raises ValueError if the value is not present.\n",
            " |  \n",
            " |  reverse(self, /)\n",
            " |      Reverse *IN PLACE*.\n",
            " |  \n",
            " |  sort(self, /, *, key=None, reverse=False)\n",
            " |      Sort the list in ascending order and return None.\n",
            " |      \n",
            " |      The sort is in-place (i.e. the list itself is modified) and stable (i.e. the\n",
            " |      order of two equal elements is maintained).\n",
            " |      \n",
            " |      If a key function is given, apply it once to each list item and sort them,\n",
            " |      ascending or descending, according to their function values.\n",
            " |      \n",
            " |      The reverse flag can be set to sort in descending order.\n",
            " |  \n",
            " |  ----------------------------------------------------------------------\n",
            " |  Class methods defined here:\n",
            " |  \n",
            " |  __class_getitem__(...) from builtins.type\n",
            " |      See PEP 585\n",
            " |  \n",
            " |  ----------------------------------------------------------------------\n",
            " |  Static methods defined here:\n",
            " |  \n",
            " |  __new__(*args, **kwargs) from builtins.type\n",
            " |      Create and return a new object.  See help(type) for accurate signature.\n",
            " |  \n",
            " |  ----------------------------------------------------------------------\n",
            " |  Data and other attributes defined here:\n",
            " |  \n",
            " |  __hash__ = None\n",
            "\n"
          ]
        }
      ]
    },
    {
      "cell_type": "markdown",
      "source": [
        "### Tuples\n",
        "\n",
        "\n",
        "Tuples are almost exactly the same as lists. They differ in just two ways.\n",
        "\n",
        "1: The syntax for creating them uses parentheses instead of square brackets"
      ],
      "metadata": {
        "id": "Vw_Bi5p6dtAZ"
      }
    },
    {
      "cell_type": "code",
      "source": [
        "t = (1, 2, 3)"
      ],
      "metadata": {
        "id": "Da3oAgezdyAC"
      },
      "execution_count": 70,
      "outputs": []
    },
    {
      "cell_type": "code",
      "source": [
        "t = 1, 2, 3 # equivalent to above\n",
        "t"
      ],
      "metadata": {
        "colab": {
          "base_uri": "https://localhost:8080/"
        },
        "id": "Sn1g2gCgd406",
        "outputId": "58cbb7f5-f04d-4a85-8200-bdce461a8980"
      },
      "execution_count": 71,
      "outputs": [
        {
          "output_type": "execute_result",
          "data": {
            "text/plain": [
              "(1, 2, 3)"
            ]
          },
          "metadata": {},
          "execution_count": 71
        }
      ]
    },
    {
      "cell_type": "markdown",
      "source": [
        "2: <mark>They cannot be modified (they are immutable).</mark>\n",
        "\n",
        "\n",
        "Tuples are often used for functions that have multiple return values.\n",
        "\n",
        "For example, the as_integer_ratio() method of float objects returns a numerator and a denominator in the form of a tuple:\n",
        "\n"
      ],
      "metadata": {
        "id": "yIIF7_oAd8xi"
      }
    },
    {
      "cell_type": "code",
      "source": [
        "x = 0.125\n",
        "x.as_integer_ratio()"
      ],
      "metadata": {
        "colab": {
          "base_uri": "https://localhost:8080/"
        },
        "id": "3W62M2gTeWra",
        "outputId": "5a52a477-39e6-4ec9-fe63-944a0f73c6a9"
      },
      "execution_count": 74,
      "outputs": [
        {
          "output_type": "execute_result",
          "data": {
            "text/plain": [
              "(1, 8)"
            ]
          },
          "metadata": {},
          "execution_count": 74
        }
      ]
    },
    {
      "cell_type": "markdown",
      "source": [
        "These multiple return values can be individually assigned as follows:"
      ],
      "metadata": {
        "id": "nxXYOM1RecTZ"
      }
    },
    {
      "cell_type": "code",
      "source": [
        "numerator, denominator = x.as_integer_ratio()\n",
        "print(numerator / denominator)\n"
      ],
      "metadata": {
        "colab": {
          "base_uri": "https://localhost:8080/"
        },
        "id": "-OYqFrn6egNK",
        "outputId": "0abe564b-c1bd-4eb1-c12f-78d07c8de62f"
      },
      "execution_count": 75,
      "outputs": [
        {
          "output_type": "stream",
          "name": "stdout",
          "text": [
            "0.125\n"
          ]
        }
      ]
    },
    {
      "cell_type": "markdown",
      "source": [
        "Finally we have some insight into the classic Stupid Python Trick™ for swapping two variables!"
      ],
      "metadata": {
        "id": "ikRWdzbEepr0"
      }
    },
    {
      "cell_type": "code",
      "source": [
        "a = 1\n",
        "b = 0\n",
        "a, b = b, a\n",
        "print(a, b)\n"
      ],
      "metadata": {
        "colab": {
          "base_uri": "https://localhost:8080/"
        },
        "id": "qZVbzQoneqaN",
        "outputId": "6af20756-51b6-44a0-fd4c-e66232c38c12"
      },
      "execution_count": 76,
      "outputs": [
        {
          "output_type": "stream",
          "name": "stdout",
          "text": [
            "0 1\n"
          ]
        }
      ]
    }
  ]
}