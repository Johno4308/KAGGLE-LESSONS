{
  "nbformat": 4,
  "nbformat_minor": 0,
  "metadata": {
    "colab": {
      "provenance": [],
      "authorship_tag": "ABX9TyMmsxVRNYeSY5S13qclvKGY",
      "include_colab_link": true
    },
    "kernelspec": {
      "name": "python3",
      "display_name": "Python 3"
    },
    "language_info": {
      "name": "python"
    }
  },
  "cells": [
    {
      "cell_type": "markdown",
      "metadata": {
        "id": "view-in-github",
        "colab_type": "text"
      },
      "source": [
        "<a href=\"https://colab.research.google.com/github/Johno4308/KAGGLE-LESSONS/blob/main/PYTHON.ipynb\" target=\"_parent\"><img src=\"https://colab.research.google.com/assets/colab-badge.svg\" alt=\"Open In Colab\"/></a>"
      ]
    },
    {
      "cell_type": "markdown",
      "source": [
        "# Hello, Python\n",
        "\n",
        "A quick introduction to Python syntax, variable assignment, and numbers\n",
        "\n",
        "Python was named for the British comedy troupe Monty Python, so we'll make our first Python program a homage to their skit about Spam.\n",
        "\n",
        "Just for fun, try reading over the code below and predicting what it's going to do when run. (If you have no idea, that's fine!)\n",
        "\n",
        "Then click the \"output\" button to see the results of our program."
      ],
      "metadata": {
        "id": "vGo8QxgcCoRK"
      }
    },
    {
      "cell_type": "code",
      "execution_count": 1,
      "metadata": {
        "colab": {
          "base_uri": "https://localhost:8080/"
        },
        "id": "EZDJvvo3ChjW",
        "outputId": "8fdb5078-da51-4654-8fab-f6848c490193"
      },
      "outputs": [
        {
          "output_type": "stream",
          "name": "stdout",
          "text": [
            "0\n",
            "But I don't want ANY spam!\n",
            "Spam Spam Spam Spam \n"
          ]
        }
      ],
      "source": [
        "spam_amount = 0\n",
        "print(spam_amount)\n",
        "\n",
        "# Ordering Spam, egg, Spam, Spam, bacon and Spam (4 more servings of Spam)\n",
        "spam_amount = spam_amount + 4\n",
        "\n",
        "if spam_amount > 0:\n",
        "    print(\"But I don't want ANY spam!\")\n",
        "\n",
        "viking_song = \"Spam \" * spam_amount\n",
        "print(viking_song)"
      ]
    },
    {
      "cell_type": "markdown",
      "source": [
        "We won't talk much about \"conditionals\" until later, but, even if you've never coded before, you can probably guess what this does. Python is prized for its readability and the simplicity.\n",
        "\n",
        "Note how we indicated which code belongs to the if. \"But I don't want ANY spam!\" is only supposed to be printed if spam_amount is positive. But the later code (like print(viking_song)) should be executed no matter what. How do we (and Python) know that?\n",
        "\n",
        "The colon (:) at the end of the if line indicates that a new code block is starting. Subsequent lines which are indented are part of that code block.\n",
        "\n",
        "**Note**: If you've coded before, you might know that some other languages use {curly braces} to mark the beginning and end of code blocks. Python's use of meaningful whitespace can be surprising to programmers who are accustomed to other languages, but in practice it can lead to more consistent and readable code than languages that do not enforce indentation of code blocks.\n",
        "\n",
        "The later lines dealing with viking_song are not indented with an extra 4 spaces, so they're not a part of the if's code block. We'll see more examples of indented code blocks later when we define functions and using loops.\n",
        "\n",
        "This code snippet is also our first sighting of a string in Python:\n",
        "\n",
        "```\n",
        "\"But I don't want ANY spam!\"\n",
        "```\n",
        "\n",
        "Strings can be marked either by double or single quotation marks. (But because this particular string contains a single-quote character, we might confuse Python by trying to surround it with single-quotes, unless we're careful.)\n"
      ],
      "metadata": {
        "id": "neZ3XTyJDOnx"
      }
    },
    {
      "cell_type": "code",
      "source": [
        "viking_song = \"Spam \" * spam_amount\n",
        "print(viking_song)"
      ],
      "metadata": {
        "colab": {
          "base_uri": "https://localhost:8080/"
        },
        "id": "3633DGs5EA8Q",
        "outputId": "0ce5efb6-5972-4c17-ef0a-67551e5d61e6"
      },
      "execution_count": 2,
      "outputs": [
        {
          "output_type": "stream",
          "name": "stdout",
          "text": [
            "Spam Spam Spam Spam \n"
          ]
        }
      ]
    },
    {
      "cell_type": "markdown",
      "source": [
        "The * operator can be used to multiply two numbers (3 * 3 evaluates to 9), but we can also multiply a string by a number, to get a version that's been repeated that many times. Python offers a number of cheeky little time-saving tricks like this where operators like * and + have a different meaning depending on what kind of thing they're applied to. (The technical term for this is operator overloading.)"
      ],
      "metadata": {
        "id": "Fbks4zajEdnZ"
      }
    },
    {
      "cell_type": "markdown",
      "source": [
        "### Numbers and arithmetic in Python\n",
        "\n",
        "We've already seen an example of a variable containing a number above:"
      ],
      "metadata": {
        "id": "3aX_HUQ-EiGW"
      }
    },
    {
      "cell_type": "code",
      "source": [
        "spam_amount = 0"
      ],
      "metadata": {
        "id": "3hF-vTSfEnmN"
      },
      "execution_count": 3,
      "outputs": []
    },
    {
      "cell_type": "markdown",
      "source": [
        "\"Number\" is a fine informal name for the kind of thing, but if we wanted to be more technical, we could ask Python how it would describe the type of thing that spam_amount is:"
      ],
      "metadata": {
        "id": "cw-OFQnWEqTQ"
      }
    },
    {
      "cell_type": "code",
      "source": [
        "type(spam_amount)"
      ],
      "metadata": {
        "colab": {
          "base_uri": "https://localhost:8080/"
        },
        "id": "JVJ9-9yDEvgY",
        "outputId": "4716a9f8-88f1-494b-b548-f202c18661b3"
      },
      "execution_count": 4,
      "outputs": [
        {
          "output_type": "execute_result",
          "data": {
            "text/plain": [
              "int"
            ]
          },
          "metadata": {},
          "execution_count": 4
        }
      ]
    },
    {
      "cell_type": "markdown",
      "source": [
        "It's an int - short for integer. There's another sort of number we commonly encounter in Python:"
      ],
      "metadata": {
        "id": "BzLpvjzLEzNp"
      }
    },
    {
      "cell_type": "code",
      "source": [
        "type(19.95)"
      ],
      "metadata": {
        "colab": {
          "base_uri": "https://localhost:8080/"
        },
        "id": "m9hnsxkKEz8n",
        "outputId": "c67c311d-c5b9-4e14-911c-4aa603d7c914"
      },
      "execution_count": 5,
      "outputs": [
        {
          "output_type": "execute_result",
          "data": {
            "text/plain": [
              "float"
            ]
          },
          "metadata": {},
          "execution_count": 5
        }
      ]
    },
    {
      "cell_type": "markdown",
      "source": [
        "A float is a number with a decimal place - very useful for representing things like weights or proportions.\n",
        "\n",
        "type() is the second built-in function we've seen (after print()), and it's another good one to remember. It's very useful to be able to ask Python \"what kind of thing is this?\"."
      ],
      "metadata": {
        "id": "v-BXeDSGE3vR"
      }
    },
    {
      "cell_type": "markdown",
      "source": [
        "A natural thing to want to do with numbers is perform arithmetic. We've seen the + operator for addition, and the * operator for multiplication. Python also has us covered for the rest of the basic buttons on your calculator:\n",
        "\n",
        "| Operator |\tName | Description |\n",
        "| -------- | ------ | ----------- |\n",
        "| a + b\t| Addition |\tSum of a and b |\n",
        "| a - b\t| Subtraction |\tDifference of a and b\n",
        "| a * b\t| Multiplication |\tProduct of a and b\n",
        "| a / b\t| True division |\tQuotient of a and b\n",
        "| a // b | Floor division |\tQuotient of a and b, removing fractional parts\n",
        "| a % b\t| Modulus\tInteger | remainder after division of a by b\n",
        "| a ** b | Exponentiation |\ta raised to the power of b\n",
        "| -a |\tNegation |\tThe negative of a\n",
        "\n",
        "One interesting observation here is that, whereas your calculator probably just has one button for division, Python can do two kinds. \"True division\" is basically what your calculator does:"
      ],
      "metadata": {
        "id": "zTYIOWl_E8vq"
      }
    },
    {
      "cell_type": "code",
      "source": [
        "print(5 / 2)\n",
        "print(6 / 2)"
      ],
      "metadata": {
        "colab": {
          "base_uri": "https://localhost:8080/"
        },
        "id": "mE4lyFXqE4Uz",
        "outputId": "930b29bc-93a1-4de1-b123-59ccc83b4805"
      },
      "execution_count": 6,
      "outputs": [
        {
          "output_type": "stream",
          "name": "stdout",
          "text": [
            "2.5\n",
            "3.0\n"
          ]
        }
      ]
    },
    {
      "cell_type": "markdown",
      "source": [
        "It always gives us a float.\n",
        "\n",
        "The // operator gives us a result that's rounded down to the next integer."
      ],
      "metadata": {
        "id": "yZ_PGeGvF26Q"
      }
    },
    {
      "cell_type": "code",
      "source": [
        "print(5 // 2)\n",
        "print(6 // 2)"
      ],
      "metadata": {
        "colab": {
          "base_uri": "https://localhost:8080/"
        },
        "id": "Kgy7Ebb1F3f6",
        "outputId": "851d4021-e3cf-4e69-9e4b-6846178dcf47"
      },
      "execution_count": 7,
      "outputs": [
        {
          "output_type": "stream",
          "name": "stdout",
          "text": [
            "2\n",
            "3\n"
          ]
        }
      ]
    },
    {
      "cell_type": "markdown",
      "source": [
        "##### Order of operations\n",
        "The arithmetic we learned in primary school has conventions about the order in which operations are evaluated. Some remember these by a mnemonic such as PEMDAS - Parentheses, Exponents, Multiplication/Division, Addition/Subtraction.\n",
        "\n",
        "Python follows similar rules about which calculations to perform first. They're mostly pretty intuitive."
      ],
      "metadata": {
        "id": "OVIMn3taF9Fy"
      }
    },
    {
      "cell_type": "code",
      "source": [
        "8 - 3 + 2"
      ],
      "metadata": {
        "colab": {
          "base_uri": "https://localhost:8080/"
        },
        "id": "psZ0gGX6GBUB",
        "outputId": "83c2c219-f685-46cc-975e-7620973e055e"
      },
      "execution_count": 8,
      "outputs": [
        {
          "output_type": "execute_result",
          "data": {
            "text/plain": [
              "7"
            ]
          },
          "metadata": {},
          "execution_count": 8
        }
      ]
    },
    {
      "cell_type": "code",
      "source": [
        "-3 + 4 * 2"
      ],
      "metadata": {
        "colab": {
          "base_uri": "https://localhost:8080/"
        },
        "id": "T7iaIcxnGHFL",
        "outputId": "7a118c19-d557-4ce3-a864-bcbc533a958e"
      },
      "execution_count": 9,
      "outputs": [
        {
          "output_type": "execute_result",
          "data": {
            "text/plain": [
              "5"
            ]
          },
          "metadata": {},
          "execution_count": 9
        }
      ]
    },
    {
      "cell_type": "markdown",
      "source": [
        "Sometimes the default order of operations isn't what we want:"
      ],
      "metadata": {
        "id": "NLTZaIkyGKLn"
      }
    },
    {
      "cell_type": "code",
      "source": [
        "hat_height_cm = 25\n",
        "my_height_cm = 190\n",
        "# How tall am I, in meters, when wearing my hat?\n",
        "total_height_meters = hat_height_cm + my_height_cm / 100\n",
        "print(\"Height in meters =\", total_height_meters, \"?\")"
      ],
      "metadata": {
        "colab": {
          "base_uri": "https://localhost:8080/"
        },
        "id": "NNUZTufhGK3Z",
        "outputId": "932f4ab4-9090-4721-b44d-a54ab0e0a7b5"
      },
      "execution_count": 10,
      "outputs": [
        {
          "output_type": "stream",
          "name": "stdout",
          "text": [
            "Height in meters = 26.9 ?\n"
          ]
        }
      ]
    },
    {
      "cell_type": "markdown",
      "source": [
        "Parentheses are useful here. You can add them to force Python to evaluate sub-expressions in whatever order you want."
      ],
      "metadata": {
        "id": "t9bSi3bgGXQr"
      }
    },
    {
      "cell_type": "code",
      "source": [
        "total_height_meters = (hat_height_cm + my_height_cm) / 100\n",
        "print(\"Height in meters =\", total_height_meters)"
      ],
      "metadata": {
        "colab": {
          "base_uri": "https://localhost:8080/"
        },
        "id": "ib_0t-hwGXzA",
        "outputId": "908834ec-f0ac-4def-b9e4-f7b9b79cf15e"
      },
      "execution_count": 11,
      "outputs": [
        {
          "output_type": "stream",
          "name": "stdout",
          "text": [
            "Height in meters = 2.15\n"
          ]
        }
      ]
    },
    {
      "cell_type": "markdown",
      "source": [
        "#### Builtin functions for working with numbers\n",
        "\n",
        "min and max return the minimum and maximum of their arguments, respectively..."
      ],
      "metadata": {
        "id": "nBDdI6woGcYZ"
      }
    },
    {
      "cell_type": "code",
      "source": [
        "print(min(1, 2, 3))\n",
        "print(max(1, 2, 3))"
      ],
      "metadata": {
        "id": "KbNvsECCGgof",
        "outputId": "eb9f6fbd-9220-45b2-ec0a-8ec16ecbce6c",
        "colab": {
          "base_uri": "https://localhost:8080/"
        }
      },
      "execution_count": 12,
      "outputs": [
        {
          "output_type": "stream",
          "name": "stdout",
          "text": [
            "1\n",
            "3\n"
          ]
        }
      ]
    },
    {
      "cell_type": "markdown",
      "source": [
        "abs returns the absolute value of an argument:"
      ],
      "metadata": {
        "id": "MjhfBwUB6NjK"
      }
    },
    {
      "cell_type": "code",
      "source": [
        "print(abs(32))\n",
        "print(abs(-32))"
      ],
      "metadata": {
        "colab": {
          "base_uri": "https://localhost:8080/"
        },
        "id": "_bwYBKnQ6PFW",
        "outputId": "052ea705-b754-4da7-a8f0-0629444ab270"
      },
      "execution_count": 13,
      "outputs": [
        {
          "output_type": "stream",
          "name": "stdout",
          "text": [
            "32\n",
            "32\n"
          ]
        }
      ]
    },
    {
      "cell_type": "markdown",
      "source": [
        "In addition to being the names of Python's two main numerical types, int and float can also be called as functions which convert their arguments to the corresponding type:"
      ],
      "metadata": {
        "id": "FxdZWNz66SRJ"
      }
    },
    {
      "cell_type": "code",
      "source": [
        "print(float(10))\n",
        "print(int(3.33))\n",
        "# They can even be called on strings!\n",
        "print(int('807') + 1)"
      ],
      "metadata": {
        "colab": {
          "base_uri": "https://localhost:8080/"
        },
        "id": "BFmqVJuV6ZuV",
        "outputId": "38e5fc9b-316a-4a1e-9709-301bed4bc932"
      },
      "execution_count": 14,
      "outputs": [
        {
          "output_type": "stream",
          "name": "stdout",
          "text": [
            "10.0\n",
            "3\n",
            "808\n"
          ]
        }
      ]
    },
    {
      "cell_type": "markdown",
      "source": [
        "## Functions and Getting Help\n",
        "\n",
        "Calling functions and defining our own, and using Python's builtin documentation\n",
        "\n",
        "You've already seen and used functions such as print and abs. But Python has many more functions, and defining your own functions is a big part of python programming.\n",
        "\n",
        "In this lesson, you will learn more about using and defining functions.\n",
        "\n",
        "Getting Help\n",
        "You saw the abs function in the previous tutorial, but what if you've forgotten what it does?\n",
        "\n",
        "The help() function is possibly the most important Python function you can learn. If you can remember how to use help(), you hold the key to understanding most other functions.\n",
        "\n",
        "Here is an example:"
      ],
      "metadata": {
        "id": "eazgIONS8U-x"
      }
    },
    {
      "cell_type": "code",
      "source": [
        "help(round)"
      ],
      "metadata": {
        "colab": {
          "base_uri": "https://localhost:8080/"
        },
        "id": "E84NpXIB8hdj",
        "outputId": "9d5a209e-983a-434f-e391-b938cd79d0fb"
      },
      "execution_count": 15,
      "outputs": [
        {
          "output_type": "stream",
          "name": "stdout",
          "text": [
            "Help on built-in function round in module builtins:\n",
            "\n",
            "round(number, ndigits=None)\n",
            "    Round a number to a given precision in decimal digits.\n",
            "    \n",
            "    The return value is an integer if ndigits is omitted or None.  Otherwise\n",
            "    the return value has the same type as the number.  ndigits may be negative.\n",
            "\n"
          ]
        }
      ]
    },
    {
      "cell_type": "markdown",
      "source": [
        "help() displays two things:\n",
        "\n",
        "the header of that function round(number, ndigits=None). In this case, this tells us that round() takes an argument we can describe as number. Additionally, we can optionally give a separate argument which could be described as ndigits.\n",
        "A brief English description of what the function does.\n",
        "\n",
        "What happens if we invoke help on a call to the function round()? Unhide the output of the cell below to see."
      ],
      "metadata": {
        "id": "NTCt47D18vBE"
      }
    },
    {
      "cell_type": "code",
      "source": [
        "help(round(-2.01))"
      ],
      "metadata": {
        "id": "uqOsM8pI9EfR",
        "outputId": "1e7caf82-6145-4369-a35e-b916c2894909",
        "colab": {
          "base_uri": "https://localhost:8080/"
        }
      },
      "execution_count": 16,
      "outputs": [
        {
          "output_type": "stream",
          "name": "stdout",
          "text": [
            "Help on int object:\n",
            "\n",
            "class int(object)\n",
            " |  int([x]) -> integer\n",
            " |  int(x, base=10) -> integer\n",
            " |  \n",
            " |  Convert a number or string to an integer, or return 0 if no arguments\n",
            " |  are given.  If x is a number, return x.__int__().  For floating point\n",
            " |  numbers, this truncates towards zero.\n",
            " |  \n",
            " |  If x is not a number or if base is given, then x must be a string,\n",
            " |  bytes, or bytearray instance representing an integer literal in the\n",
            " |  given base.  The literal can be preceded by '+' or '-' and be surrounded\n",
            " |  by whitespace.  The base defaults to 10.  Valid bases are 0 and 2-36.\n",
            " |  Base 0 means to interpret the base from the string as an integer literal.\n",
            " |  >>> int('0b100', base=0)\n",
            " |  4\n",
            " |  \n",
            " |  Built-in subclasses:\n",
            " |      bool\n",
            " |  \n",
            " |  Methods defined here:\n",
            " |  \n",
            " |  __abs__(self, /)\n",
            " |      abs(self)\n",
            " |  \n",
            " |  __add__(self, value, /)\n",
            " |      Return self+value.\n",
            " |  \n",
            " |  __and__(self, value, /)\n",
            " |      Return self&value.\n",
            " |  \n",
            " |  __bool__(self, /)\n",
            " |      True if self else False\n",
            " |  \n",
            " |  __ceil__(...)\n",
            " |      Ceiling of an Integral returns itself.\n",
            " |  \n",
            " |  __divmod__(self, value, /)\n",
            " |      Return divmod(self, value).\n",
            " |  \n",
            " |  __eq__(self, value, /)\n",
            " |      Return self==value.\n",
            " |  \n",
            " |  __float__(self, /)\n",
            " |      float(self)\n",
            " |  \n",
            " |  __floor__(...)\n",
            " |      Flooring an Integral returns itself.\n",
            " |  \n",
            " |  __floordiv__(self, value, /)\n",
            " |      Return self//value.\n",
            " |  \n",
            " |  __format__(self, format_spec, /)\n",
            " |      Default object formatter.\n",
            " |  \n",
            " |  __ge__(self, value, /)\n",
            " |      Return self>=value.\n",
            " |  \n",
            " |  __getattribute__(self, name, /)\n",
            " |      Return getattr(self, name).\n",
            " |  \n",
            " |  __getnewargs__(self, /)\n",
            " |  \n",
            " |  __gt__(self, value, /)\n",
            " |      Return self>value.\n",
            " |  \n",
            " |  __hash__(self, /)\n",
            " |      Return hash(self).\n",
            " |  \n",
            " |  __index__(self, /)\n",
            " |      Return self converted to an integer, if self is suitable for use as an index into a list.\n",
            " |  \n",
            " |  __int__(self, /)\n",
            " |      int(self)\n",
            " |  \n",
            " |  __invert__(self, /)\n",
            " |      ~self\n",
            " |  \n",
            " |  __le__(self, value, /)\n",
            " |      Return self<=value.\n",
            " |  \n",
            " |  __lshift__(self, value, /)\n",
            " |      Return self<<value.\n",
            " |  \n",
            " |  __lt__(self, value, /)\n",
            " |      Return self<value.\n",
            " |  \n",
            " |  __mod__(self, value, /)\n",
            " |      Return self%value.\n",
            " |  \n",
            " |  __mul__(self, value, /)\n",
            " |      Return self*value.\n",
            " |  \n",
            " |  __ne__(self, value, /)\n",
            " |      Return self!=value.\n",
            " |  \n",
            " |  __neg__(self, /)\n",
            " |      -self\n",
            " |  \n",
            " |  __or__(self, value, /)\n",
            " |      Return self|value.\n",
            " |  \n",
            " |  __pos__(self, /)\n",
            " |      +self\n",
            " |  \n",
            " |  __pow__(self, value, mod=None, /)\n",
            " |      Return pow(self, value, mod).\n",
            " |  \n",
            " |  __radd__(self, value, /)\n",
            " |      Return value+self.\n",
            " |  \n",
            " |  __rand__(self, value, /)\n",
            " |      Return value&self.\n",
            " |  \n",
            " |  __rdivmod__(self, value, /)\n",
            " |      Return divmod(value, self).\n",
            " |  \n",
            " |  __repr__(self, /)\n",
            " |      Return repr(self).\n",
            " |  \n",
            " |  __rfloordiv__(self, value, /)\n",
            " |      Return value//self.\n",
            " |  \n",
            " |  __rlshift__(self, value, /)\n",
            " |      Return value<<self.\n",
            " |  \n",
            " |  __rmod__(self, value, /)\n",
            " |      Return value%self.\n",
            " |  \n",
            " |  __rmul__(self, value, /)\n",
            " |      Return value*self.\n",
            " |  \n",
            " |  __ror__(self, value, /)\n",
            " |      Return value|self.\n",
            " |  \n",
            " |  __round__(...)\n",
            " |      Rounding an Integral returns itself.\n",
            " |      \n",
            " |      Rounding with an ndigits argument also returns an integer.\n",
            " |  \n",
            " |  __rpow__(self, value, mod=None, /)\n",
            " |      Return pow(value, self, mod).\n",
            " |  \n",
            " |  __rrshift__(self, value, /)\n",
            " |      Return value>>self.\n",
            " |  \n",
            " |  __rshift__(self, value, /)\n",
            " |      Return self>>value.\n",
            " |  \n",
            " |  __rsub__(self, value, /)\n",
            " |      Return value-self.\n",
            " |  \n",
            " |  __rtruediv__(self, value, /)\n",
            " |      Return value/self.\n",
            " |  \n",
            " |  __rxor__(self, value, /)\n",
            " |      Return value^self.\n",
            " |  \n",
            " |  __sizeof__(self, /)\n",
            " |      Returns size in memory, in bytes.\n",
            " |  \n",
            " |  __sub__(self, value, /)\n",
            " |      Return self-value.\n",
            " |  \n",
            " |  __truediv__(self, value, /)\n",
            " |      Return self/value.\n",
            " |  \n",
            " |  __trunc__(...)\n",
            " |      Truncating an Integral returns itself.\n",
            " |  \n",
            " |  __xor__(self, value, /)\n",
            " |      Return self^value.\n",
            " |  \n",
            " |  as_integer_ratio(self, /)\n",
            " |      Return integer ratio.\n",
            " |      \n",
            " |      Return a pair of integers, whose ratio is exactly equal to the original int\n",
            " |      and with a positive denominator.\n",
            " |      \n",
            " |      >>> (10).as_integer_ratio()\n",
            " |      (10, 1)\n",
            " |      >>> (-10).as_integer_ratio()\n",
            " |      (-10, 1)\n",
            " |      >>> (0).as_integer_ratio()\n",
            " |      (0, 1)\n",
            " |  \n",
            " |  bit_count(self, /)\n",
            " |      Number of ones in the binary representation of the absolute value of self.\n",
            " |      \n",
            " |      Also known as the population count.\n",
            " |      \n",
            " |      >>> bin(13)\n",
            " |      '0b1101'\n",
            " |      >>> (13).bit_count()\n",
            " |      3\n",
            " |  \n",
            " |  bit_length(self, /)\n",
            " |      Number of bits necessary to represent self in binary.\n",
            " |      \n",
            " |      >>> bin(37)\n",
            " |      '0b100101'\n",
            " |      >>> (37).bit_length()\n",
            " |      6\n",
            " |  \n",
            " |  conjugate(...)\n",
            " |      Returns self, the complex conjugate of any int.\n",
            " |  \n",
            " |  to_bytes(self, /, length, byteorder, *, signed=False)\n",
            " |      Return an array of bytes representing an integer.\n",
            " |      \n",
            " |      length\n",
            " |        Length of bytes object to use.  An OverflowError is raised if the\n",
            " |        integer is not representable with the given number of bytes.\n",
            " |      byteorder\n",
            " |        The byte order used to represent the integer.  If byteorder is 'big',\n",
            " |        the most significant byte is at the beginning of the byte array.  If\n",
            " |        byteorder is 'little', the most significant byte is at the end of the\n",
            " |        byte array.  To request the native byte order of the host system, use\n",
            " |        `sys.byteorder' as the byte order value.\n",
            " |      signed\n",
            " |        Determines whether two's complement is used to represent the integer.\n",
            " |        If signed is False and a negative integer is given, an OverflowError\n",
            " |        is raised.\n",
            " |  \n",
            " |  ----------------------------------------------------------------------\n",
            " |  Class methods defined here:\n",
            " |  \n",
            " |  from_bytes(bytes, byteorder, *, signed=False) from builtins.type\n",
            " |      Return the integer represented by the given array of bytes.\n",
            " |      \n",
            " |      bytes\n",
            " |        Holds the array of bytes to convert.  The argument must either\n",
            " |        support the buffer protocol or be an iterable object producing bytes.\n",
            " |        Bytes and bytearray are examples of built-in objects that support the\n",
            " |        buffer protocol.\n",
            " |      byteorder\n",
            " |        The byte order used to represent the integer.  If byteorder is 'big',\n",
            " |        the most significant byte is at the beginning of the byte array.  If\n",
            " |        byteorder is 'little', the most significant byte is at the end of the\n",
            " |        byte array.  To request the native byte order of the host system, use\n",
            " |        `sys.byteorder' as the byte order value.\n",
            " |      signed\n",
            " |        Indicates whether two's complement is used to represent the integer.\n",
            " |  \n",
            " |  ----------------------------------------------------------------------\n",
            " |  Static methods defined here:\n",
            " |  \n",
            " |  __new__(*args, **kwargs) from builtins.type\n",
            " |      Create and return a new object.  See help(type) for accurate signature.\n",
            " |  \n",
            " |  ----------------------------------------------------------------------\n",
            " |  Data descriptors defined here:\n",
            " |  \n",
            " |  denominator\n",
            " |      the denominator of a rational number in lowest terms\n",
            " |  \n",
            " |  imag\n",
            " |      the imaginary part of a complex number\n",
            " |  \n",
            " |  numerator\n",
            " |      the numerator of a rational number in lowest terms\n",
            " |  \n",
            " |  real\n",
            " |      the real part of a complex number\n",
            "\n"
          ]
        }
      ]
    },
    {
      "cell_type": "markdown",
      "source": [
        "Python evaluates an expression like this from the inside out. First it calculates the value of round(-2.01), then it provides help on the output of that expression.\n",
        "\n",
        "(And it turns out to have a lot to say about integers! After we talk later about objects, methods, and attributes in Python, the help output above will make more sense.)\n",
        "\n",
        "round is a very simple function with a short docstring. help shines even more when dealing with more complex, configurable functions like print. Don't worry if the following output looks inscrutable... for now, just see if you can pick anything new out from this help."
      ],
      "metadata": {
        "id": "EUH5gDcb9G5Q"
      }
    },
    {
      "cell_type": "code",
      "source": [
        "help(print)\n"
      ],
      "metadata": {
        "colab": {
          "base_uri": "https://localhost:8080/"
        },
        "id": "t7NwUC2k9WjY",
        "outputId": "5d4ac092-607b-45f2-8cb1-c3703ac3105a"
      },
      "execution_count": 17,
      "outputs": [
        {
          "output_type": "stream",
          "name": "stdout",
          "text": [
            "Help on built-in function print in module builtins:\n",
            "\n",
            "print(...)\n",
            "    print(value, ..., sep=' ', end='\\n', file=sys.stdout, flush=False)\n",
            "    \n",
            "    Prints the values to a stream, or to sys.stdout by default.\n",
            "    Optional keyword arguments:\n",
            "    file:  a file-like object (stream); defaults to the current sys.stdout.\n",
            "    sep:   string inserted between values, default a space.\n",
            "    end:   string appended after the last value, default a newline.\n",
            "    flush: whether to forcibly flush the stream.\n",
            "\n"
          ]
        }
      ]
    },
    {
      "cell_type": "markdown",
      "source": [
        "If you were looking for it, you might learn that print can take an argument called sep, and that this describes what we put between all the other arguments when we print them."
      ],
      "metadata": {
        "id": "bYpV6_c19clK"
      }
    },
    {
      "cell_type": "markdown",
      "source": [
        "## Defining functions\n",
        "\n",
        "Builtin functions are great, but we can only get so far with them before we need to start defining our own functions. Below is a simple example."
      ],
      "metadata": {
        "id": "wcOHxi7K9iy4"
      }
    },
    {
      "cell_type": "code",
      "source": [
        "def least_difference(a, b, c):\n",
        "    diff1 = abs(a - b)\n",
        "    diff2 = abs(b - c)\n",
        "    diff3 = abs(a - c)\n",
        "    return min(diff1, diff2, diff3)"
      ],
      "metadata": {
        "id": "5herb3fK9mNf"
      },
      "execution_count": 18,
      "outputs": []
    },
    {
      "cell_type": "markdown",
      "source": [
        "This creates a function called least_difference, which takes three arguments, a, b, and c.\n",
        "\n",
        "Functions start with a header introduced by the def keyword. The indented block of code following the : is run when the function is called.\n",
        "\n",
        "return is another keyword uniquely associated with functions. When Python encounters a return statement, it exits the function immediately, and passes the value on the right hand side to the calling context.\n",
        "\n",
        "Is it clear what least_difference() does from the source code? If we're not sure, we can always try it out on a few examples:"
      ],
      "metadata": {
        "id": "at22tA6392B4"
      }
    },
    {
      "cell_type": "code",
      "source": [
        "print(\n",
        "    least_difference(1, 10, 100),\n",
        "    least_difference(1, 10, 10),\n",
        "    least_difference(5, 6, 7),\n",
        ")"
      ],
      "metadata": {
        "colab": {
          "base_uri": "https://localhost:8080/"
        },
        "id": "vrvW09v394PA",
        "outputId": "0776edab-dca3-42b7-8ed0-3555cc20e7aa"
      },
      "execution_count": 19,
      "outputs": [
        {
          "output_type": "stream",
          "name": "stdout",
          "text": [
            "9 0 1\n"
          ]
        }
      ]
    },
    {
      "cell_type": "markdown",
      "source": [
        "When I write a function, I can provide a description in what's called the **docstring**.\n"
      ],
      "metadata": {
        "id": "mVtv9mZq-RFq"
      }
    },
    {
      "cell_type": "code",
      "source": [
        "def least_difference(a, b, c):\n",
        "    \"\"\"Return the smallest difference between any two numbers\n",
        "    among a, b and c.\n",
        "\n",
        "    >>> least_difference(1, 5, -5)\n",
        "    4\n",
        "    \"\"\"\n",
        "    diff1 = abs(a - b)\n",
        "    diff2 = abs(b - c)\n",
        "    diff3 = abs(a - c)\n",
        "    return min(diff1, diff2, diff3)"
      ],
      "metadata": {
        "id": "OwydNFIM-SyK"
      },
      "execution_count": 20,
      "outputs": []
    },
    {
      "cell_type": "markdown",
      "source": [
        "The docstring is a triple-quoted string (which may span multiple lines) that comes immediately after the header of a function. When we call help() on a function, it shows the docstring."
      ],
      "metadata": {
        "id": "pjEtaW-x-dMC"
      }
    },
    {
      "cell_type": "code",
      "source": [
        "help(least_difference)"
      ],
      "metadata": {
        "colab": {
          "base_uri": "https://localhost:8080/"
        },
        "id": "2fYmkQvz-fXy",
        "outputId": "50a43dd7-c92d-4ae5-d1be-377402bcf29f"
      },
      "execution_count": 21,
      "outputs": [
        {
          "output_type": "stream",
          "name": "stdout",
          "text": [
            "Help on function least_difference in module __main__:\n",
            "\n",
            "least_difference(a, b, c)\n",
            "    Return the smallest difference between any two numbers\n",
            "    among a, b and c.\n",
            "    \n",
            "    >>> least_difference(1, 5, -5)\n",
            "    4\n",
            "\n"
          ]
        }
      ]
    },
    {
      "cell_type": "markdown",
      "source": [
        "Good programmers use docstrings unless they expect to throw away the code soon after it's used (which is rare). So, you should start writing docstrings, too!"
      ],
      "metadata": {
        "id": "o8kitSdo-m4i"
      }
    },
    {
      "cell_type": "markdown",
      "source": [
        "## Functions that don't return\n",
        "\n",
        "What would happen if we didn't include the return keyword in our function?"
      ],
      "metadata": {
        "id": "_Tarxu4n-uKI"
      }
    },
    {
      "cell_type": "code",
      "source": [
        "def least_difference(a, b, c):\n",
        "    \"\"\"Return the smallest difference between any two numbers\n",
        "    among a, b and c.\n",
        "    \"\"\"\n",
        "    diff1 = abs(a - b)\n",
        "    diff2 = abs(b - c)\n",
        "    diff3 = abs(a - c)\n",
        "    min(diff1, diff2, diff3)\n",
        "\n",
        "print(\n",
        "    least_difference(1, 10, 100),\n",
        "    least_difference(1, 10, 10),\n",
        "    least_difference(5, 6, 7),\n",
        ")\n"
      ],
      "metadata": {
        "colab": {
          "base_uri": "https://localhost:8080/"
        },
        "id": "mHnGHj8n-xjz",
        "outputId": "d9cebd3e-9ec6-448a-ca2c-4adaf8ac054e"
      },
      "execution_count": 22,
      "outputs": [
        {
          "output_type": "stream",
          "name": "stdout",
          "text": [
            "None None None\n"
          ]
        }
      ]
    },
    {
      "cell_type": "markdown",
      "source": [
        "Python allows us to define such functions. The result of calling them is the special value None. (This is similar to the concept of \"null\" in other languages.)\n",
        "\n",
        "Without a return statement, least_difference is completely pointless, but a function with side effects may do something useful without returning anything. We've already seen two examples of this: print() and help() don't return anything. We only call them for their side effects (putting some text on the screen). Other examples of useful side effects include writing to a file, or modifying an input.\n",
        "\n"
      ],
      "metadata": {
        "id": "69cayMkZ-0x5"
      }
    },
    {
      "cell_type": "code",
      "source": [
        "mystery = print()\n",
        "print(mystery)"
      ],
      "metadata": {
        "colab": {
          "base_uri": "https://localhost:8080/"
        },
        "id": "gUFfkgqL-238",
        "outputId": "e3e799f1-08d4-4cdd-f471-2621feecf2ba"
      },
      "execution_count": 23,
      "outputs": [
        {
          "output_type": "stream",
          "name": "stdout",
          "text": [
            "\n",
            "None\n"
          ]
        }
      ]
    },
    {
      "cell_type": "markdown",
      "source": [
        "### Default arguments\n",
        "\n",
        "When we called help(print), we saw that the print function has several optional arguments. For example, we can specify a value for sep to put some special string in between our printed arguments:"
      ],
      "metadata": {
        "id": "kIUtVCAe_IUj"
      }
    },
    {
      "cell_type": "code",
      "source": [
        "print(1, 2, 3, sep=' < ')"
      ],
      "metadata": {
        "colab": {
          "base_uri": "https://localhost:8080/"
        },
        "id": "Nxi9hIBl_Lja",
        "outputId": "378b8cb2-7cc1-46f7-9d8e-b88f01817fb3"
      },
      "execution_count": 24,
      "outputs": [
        {
          "output_type": "stream",
          "name": "stdout",
          "text": [
            "1 < 2 < 3\n"
          ]
        }
      ]
    },
    {
      "cell_type": "markdown",
      "source": [
        "But if we don't specify a value, sep is treated as having a default value of ' ' (a single space)."
      ],
      "metadata": {
        "id": "uAY4aO6W_UyE"
      }
    },
    {
      "cell_type": "code",
      "source": [
        "print(1, 2, 3)"
      ],
      "metadata": {
        "colab": {
          "base_uri": "https://localhost:8080/"
        },
        "id": "K2um--dJ_VRw",
        "outputId": "1397da4f-d1c3-40ab-ffec-85ff5e61d928"
      },
      "execution_count": 25,
      "outputs": [
        {
          "output_type": "stream",
          "name": "stdout",
          "text": [
            "1 2 3\n"
          ]
        }
      ]
    },
    {
      "cell_type": "markdown",
      "source": [
        "Adding optional arguments with default values to the functions we define turns out to be pretty easy:"
      ],
      "metadata": {
        "id": "9XhZPPLP_ZPh"
      }
    },
    {
      "cell_type": "code",
      "source": [
        "def greet(who=\"Colin\"):\n",
        "    print(\"Hello,\", who)\n",
        "\n",
        "greet()\n",
        "greet(who=\"Kaggle\")\n",
        "# (In this case, we don't need to specify the name of the argument, because it's unambiguous.)\n",
        "greet(\"world\")"
      ],
      "metadata": {
        "colab": {
          "base_uri": "https://localhost:8080/"
        },
        "id": "qQ97pYBV_a7s",
        "outputId": "39c8defe-0c6f-47d8-b235-a2bdf3820a03"
      },
      "execution_count": 26,
      "outputs": [
        {
          "output_type": "stream",
          "name": "stdout",
          "text": [
            "Hello, Colin\n",
            "Hello, Kaggle\n",
            "Hello, world\n"
          ]
        }
      ]
    },
    {
      "cell_type": "markdown",
      "source": [
        "### Functions Applied to Functions\n",
        "\n",
        "Here's something that's powerful, though it can feel very abstract at first. You can supply functions as arguments to other functions. Some example may make this clearer:"
      ],
      "metadata": {
        "id": "BBRpCO-e_n56"
      }
    },
    {
      "cell_type": "code",
      "source": [
        "def mult_by_five(x):\n",
        "    return 5 * x\n",
        "\n",
        "def call(fn, arg):\n",
        "    \"\"\"Call fn on arg\"\"\"\n",
        "    return fn(arg)\n",
        "\n",
        "def squared_call(fn, arg):\n",
        "    \"\"\"Call fn on the result of calling fn on arg\"\"\"\n",
        "    return fn(fn(arg))\n",
        "\n",
        "print(\n",
        "    call(mult_by_five, 1),\n",
        "    squared_call(mult_by_five, 1),\n",
        "    sep='\\n',\n",
        ")"
      ],
      "metadata": {
        "colab": {
          "base_uri": "https://localhost:8080/"
        },
        "id": "QKPjq59q_rqq",
        "outputId": "32f3949a-f0e0-4662-ba62-cc208d5c61e8"
      },
      "execution_count": 27,
      "outputs": [
        {
          "output_type": "stream",
          "name": "stdout",
          "text": [
            "5\n",
            "25\n"
          ]
        }
      ]
    },
    {
      "cell_type": "markdown",
      "source": [
        "Functions that operate on other functions are called \"higher-order functions.\" You probably won't write your own for a little while. But there are higher-order functions built into Python that you might find useful to call.\n",
        "\n",
        "Here's an interesting example using the max function.\n",
        "\n",
        "By default, max returns the largest of its arguments. But if we pass in a function using the optional key argument, it returns the argument x that maximizes key(x) (aka the 'argmax').\n",
        "\n"
      ],
      "metadata": {
        "id": "BIsD0T_eAQl4"
      }
    },
    {
      "cell_type": "code",
      "source": [
        "def mod_5(x):\n",
        "    \"\"\"Return the remainder of x after dividing by 5\"\"\"\n",
        "    return x % 5\n",
        "\n",
        "print(\n",
        "    'Which number is biggest?',\n",
        "    max(100, 51, 14),\n",
        "    'Which number is the biggest modulo 5?',\n",
        "    max(100, 51, 14, key=mod_5),\n",
        "    sep='\\n',\n",
        ")"
      ],
      "metadata": {
        "colab": {
          "base_uri": "https://localhost:8080/"
        },
        "id": "l2QSgi-ZA045",
        "outputId": "77ef5dfa-9780-441b-87e7-75bc38d2b5a7"
      },
      "execution_count": 28,
      "outputs": [
        {
          "output_type": "stream",
          "name": "stdout",
          "text": [
            "Which number is biggest?\n",
            "100\n",
            "Which number is the biggest modulo 5?\n",
            "14\n"
          ]
        }
      ]
    },
    {
      "cell_type": "markdown",
      "source": [
        "## Booleans and Conditionals\n",
        "\n",
        "Using booleans for branching logic\n",
        "\n",
        "### Booleans\n",
        "Python has a type of variable called bool. It has two possible values: True and False."
      ],
      "metadata": {
        "id": "TrYEks6xDWem"
      }
    },
    {
      "cell_type": "code",
      "source": [
        "x = True\n",
        "print(x)\n",
        "print(type(x))"
      ],
      "metadata": {
        "colab": {
          "base_uri": "https://localhost:8080/"
        },
        "id": "TyiFxvvLDfjw",
        "outputId": "f68db298-4e77-44aa-eaff-e27ae6188b20"
      },
      "execution_count": 29,
      "outputs": [
        {
          "output_type": "stream",
          "name": "stdout",
          "text": [
            "True\n",
            "<class 'bool'>\n"
          ]
        }
      ]
    },
    {
      "cell_type": "markdown",
      "source": [
        "Rather than putting True or False directly in our code, we usually get boolean values from boolean operators. These are operators that answer yes/no questions. We'll go through some of these operators below.\n",
        "\n",
        "### Comparison Operations\n",
        "\n",
        "| Operation |\tDescription\t| \tOperation\t| Description |\n",
        "| -------- | --------- | --------- | ---------- |\n",
        "| a == b |\ta equal to b\t|\ta != b |\ta not equal to b |\n",
        "| a < b |\ta less than b\t|\ta > b |\ta greater than b |\n",
        "| a <= b |\ta less than or equal to b\t|\ta >= b |\ta greater than or equal to b |"
      ],
      "metadata": {
        "id": "Xzd1KFMewTlR"
      }
    },
    {
      "cell_type": "code",
      "source": [
        "def can_run_for_president(age):\n",
        "    \"\"\"Can someone of the given age run for president in the US?\"\"\"\n",
        "    # The US Constitution says you must be at least 35 years old\n",
        "    return age >= 35\n",
        "\n",
        "print(\"Can a 19-year-old run for president?\", can_run_for_president(19))\n",
        "print(\"Can a 45-year-old run for president?\", can_run_for_president(45))"
      ],
      "metadata": {
        "colab": {
          "base_uri": "https://localhost:8080/"
        },
        "id": "_7fmX3A9wUCh",
        "outputId": "8cd7f1a8-1930-4302-f602-941ca6a2f249"
      },
      "execution_count": 30,
      "outputs": [
        {
          "output_type": "stream",
          "name": "stdout",
          "text": [
            "Can a 19-year-old run for president? False\n",
            "Can a 45-year-old run for president? True\n"
          ]
        }
      ]
    },
    {
      "cell_type": "markdown",
      "source": [
        "Comparisons frequently work like you'd hope"
      ],
      "metadata": {
        "id": "kiaI2aNhw5m-"
      }
    },
    {
      "cell_type": "code",
      "source": [
        "3.0 == 3"
      ],
      "metadata": {
        "colab": {
          "base_uri": "https://localhost:8080/"
        },
        "id": "hz4MXxVpw6DJ",
        "outputId": "2602f867-2885-4cd7-873f-c6ccef65e160"
      },
      "execution_count": 31,
      "outputs": [
        {
          "output_type": "execute_result",
          "data": {
            "text/plain": [
              "True"
            ]
          },
          "metadata": {},
          "execution_count": 31
        }
      ]
    },
    {
      "cell_type": "markdown",
      "source": [
        "But sometimes they can be tricky"
      ],
      "metadata": {
        "id": "GVaKOc16w-RZ"
      }
    },
    {
      "cell_type": "code",
      "source": [
        "'3' == 3"
      ],
      "metadata": {
        "id": "v0zO3gPAw_mG",
        "outputId": "918b6716-93ce-499c-8c1d-ad7ed54c8d40",
        "colab": {
          "base_uri": "https://localhost:8080/"
        }
      },
      "execution_count": 32,
      "outputs": [
        {
          "output_type": "execute_result",
          "data": {
            "text/plain": [
              "False"
            ]
          },
          "metadata": {},
          "execution_count": 32
        }
      ]
    },
    {
      "cell_type": "markdown",
      "source": [
        "Comparison operators can be combined with the arithmetic operators we've already seen to express a virtually limitless range of mathematical tests. For example, we can check if a number is odd by checking that the modulus with 2 returns 1:"
      ],
      "metadata": {
        "id": "rdgLd0vTxAlM"
      }
    },
    {
      "cell_type": "code",
      "source": [
        "def is_odd(n):\n",
        "    return (n % 2) == 1\n",
        "\n",
        "print(\"Is 100 odd?\", is_odd(100))\n",
        "print(\"Is -1 odd?\", is_odd(-1))"
      ],
      "metadata": {
        "colab": {
          "base_uri": "https://localhost:8080/"
        },
        "id": "R0cTX9UAxHTe",
        "outputId": "2aa672ce-ff8f-472f-d95b-153539f6dce0"
      },
      "execution_count": 33,
      "outputs": [
        {
          "output_type": "stream",
          "name": "stdout",
          "text": [
            "Is 100 odd? False\n",
            "Is -1 odd? True\n"
          ]
        }
      ]
    },
    {
      "cell_type": "markdown",
      "source": [
        "Remember to use == instead of = when making comparisons. If you write n == 2 you are asking about the value of n. When you write n = 2 you are changing the value of n."
      ],
      "metadata": {
        "id": "iMSKXy5GxL5N"
      }
    },
    {
      "cell_type": "markdown",
      "source": [
        "### Combining Boolean Values\n",
        "\n",
        "You can combine boolean values using the standard concepts of \"and\", \"or\", and \"not\". In fact, the words to do this are: and, or, and not.\n",
        "\n",
        "With these, we can make our can_run_for_president function more accurate."
      ],
      "metadata": {
        "id": "XzhJ-sr2xOnE"
      }
    },
    {
      "cell_type": "code",
      "source": [
        "def can_run_for_president(age, is_natural_born_citizen):\n",
        "    \"\"\"Can someone of the given age and citizenship status run for president in the US?\"\"\"\n",
        "    # The US Constitution says you must be a natural born citizen *and* at least 35 years old\n",
        "    return is_natural_born_citizen and (age >= 35)\n",
        "\n",
        "print(can_run_for_president(19, True))\n",
        "print(can_run_for_president(55, False))\n",
        "print(can_run_for_president(55, True))"
      ],
      "metadata": {
        "colab": {
          "base_uri": "https://localhost:8080/"
        },
        "id": "JaznA6xvxZkb",
        "outputId": "1f8d4969-f424-42b4-d74f-276df2647393"
      },
      "execution_count": 34,
      "outputs": [
        {
          "output_type": "stream",
          "name": "stdout",
          "text": [
            "False\n",
            "False\n",
            "True\n"
          ]
        }
      ]
    },
    {
      "cell_type": "code",
      "source": [
        "True or True and False"
      ],
      "metadata": {
        "colab": {
          "base_uri": "https://localhost:8080/"
        },
        "id": "mJRHj78xxkZW",
        "outputId": "f997c842-e727-4e31-d79a-e435455e43ce"
      },
      "execution_count": 35,
      "outputs": [
        {
          "output_type": "execute_result",
          "data": {
            "text/plain": [
              "True"
            ]
          },
          "metadata": {},
          "execution_count": 35
        }
      ]
    },
    {
      "cell_type": "markdown",
      "source": [
        "For example, and is evaluated before or. That's why the first expression above is True. If we evaluated it from left to right, we would have calculated True or True first (which is True), and then taken the and of that result with False, giving a final value of False.\n",
        "\n",
        "You could try to memorize the order of precedence, but a safer bet is to just use liberal parentheses. Not only does this help prevent bugs, it makes your intentions clearer to anyone who reads your code.\n",
        "\n",
        "For example, consider the following expression:\n",
        "\n",
        "```\n",
        "prepared_for_weather = have_umbrella or rain_level < 5 and have_hood or not rain_level > 0 and is_workday\n",
        "```\n",
        "\n",
        "I'm trying to say that I'm safe from today's weather....\n",
        "\n",
        "- if I have an umbrella...\n",
        "- or if the rain isn't too heavy and I have a hood...\n",
        "- otherwise, I'm still fine unless it's raining and it's a workday\n",
        "\n",
        "But not only is my Python code hard to read, it has a bug. We can address both problems by adding some parentheses:\n",
        "\n",
        "```\n",
        "prepared_for_weather = have_umbrella or (rain_level < 5 and have_hood) or not (rain_level > 0 and is_workday)\n",
        "```\n",
        "\n",
        "You can add even more parentheses if you think it helps readability:\n",
        "\n",
        "```\n",
        "prepared_for_weather = have_umbrella or ((rain_level < 5) and have_hood) or (not (rain_level > 0 and is_workday))\n",
        "```\n",
        "\n",
        "We can also split it over multiple lines to emphasize the 3-part structure described above:\n",
        "\n",
        "```\n",
        "prepared_for_weather = (\n",
        "    have_umbrella\n",
        "    or ((rain_level < 5) and have_hood)\n",
        "    or (not (rain_level > 0 and is_workday))\n",
        ")\n",
        "```"
      ],
      "metadata": {
        "id": "HYqWbhmWxzEC"
      }
    },
    {
      "cell_type": "markdown",
      "source": [
        "### Conditionals¶\n",
        "\n",
        "Booleans are most useful when combined with conditional statements, using the keywords if, elif, and else.\n",
        "\n",
        "Conditional statements, often referred to as if-then statements, let you control what pieces of code are run based on the value of some Boolean condition. Here's an example:"
      ],
      "metadata": {
        "id": "Ep1jQZc_yLUi"
      }
    },
    {
      "cell_type": "code",
      "source": [
        "def inspect(x):\n",
        "    if x == 0:\n",
        "        print(x, \"is zero\")\n",
        "    elif x > 0:\n",
        "        print(x, \"is positive\")\n",
        "    elif x < 0:\n",
        "        print(x, \"is negative\")\n",
        "    else:\n",
        "        print(x, \"is unlike anything I've ever seen...\")\n",
        "\n",
        "inspect(0)\n",
        "inspect(-15)"
      ],
      "metadata": {
        "colab": {
          "base_uri": "https://localhost:8080/"
        },
        "id": "fJGZmcPQyyGZ",
        "outputId": "07d05a6e-6226-4e0c-a9aa-c2c67f44f4a9"
      },
      "execution_count": 36,
      "outputs": [
        {
          "output_type": "stream",
          "name": "stdout",
          "text": [
            "0 is zero\n",
            "-15 is negative\n"
          ]
        }
      ]
    },
    {
      "cell_type": "markdown",
      "source": [
        "The if and else keywords are often used in other languages; its more unique keyword is elif, a contraction of \"else if\". In these conditional clauses, elif and else blocks are optional; additionally, you can include as many elif statements as you would like.\n",
        "\n",
        "Note especially the use of colons (:) and whitespace to denote separate blocks of code. This is similar to what happens when we define a function - the function header ends with :, and the following line is indented with 4 spaces. All subsequent indented lines belong to the body of the function, until we encounter an unindented line, ending the function definition."
      ],
      "metadata": {
        "id": "X3aaN2sgy1oJ"
      }
    },
    {
      "cell_type": "code",
      "source": [
        "def f(x):\n",
        "    if x > 0:\n",
        "        print(\"Only printed when x is positive; x =\", x)\n",
        "        print(\"Also only printed when x is positive; x =\", x)\n",
        "    print(\"Always printed, regardless of x's value; x =\", x)\n",
        "\n",
        "f(1)\n",
        "f(0)"
      ],
      "metadata": {
        "colab": {
          "base_uri": "https://localhost:8080/"
        },
        "id": "XHb42CoXy3wX",
        "outputId": "041f5b60-6b35-403a-b66d-4a7d5f7daf79"
      },
      "execution_count": 37,
      "outputs": [
        {
          "output_type": "stream",
          "name": "stdout",
          "text": [
            "Only printed when x is positive; x = 1\n",
            "Also only printed when x is positive; x = 1\n",
            "Always printed, regardless of x's value; x = 1\n",
            "Always printed, regardless of x's value; x = 0\n"
          ]
        }
      ]
    },
    {
      "cell_type": "markdown",
      "source": [
        "### Boolean conversion¶\n",
        "\n",
        "We've seen int(), which turns things into ints, and float(), which turns things into floats, so you might not be surprised to hear that Python has a bool() function which turns things into bools."
      ],
      "metadata": {
        "id": "0ziQSA5gzM7m"
      }
    },
    {
      "cell_type": "code",
      "source": [
        "print(bool(1)) # all numbers are treated as true, except 0\n",
        "print(bool(0))\n",
        "print(bool(\"asf\")) # all strings are treated as true, except the empty string \"\"\n",
        "print(bool(\"\"))\n",
        "# Generally empty sequences (strings, lists, and other types we've yet to see like lists and tuples)\n",
        "# are \"falsey\" and the rest are \"truthy\""
      ],
      "metadata": {
        "colab": {
          "base_uri": "https://localhost:8080/"
        },
        "id": "7UYPhvA-zQlG",
        "outputId": "f9739381-3719-4358-cc4b-e09d597f096f"
      },
      "execution_count": 38,
      "outputs": [
        {
          "output_type": "stream",
          "name": "stdout",
          "text": [
            "True\n",
            "False\n",
            "True\n",
            "False\n"
          ]
        }
      ]
    },
    {
      "cell_type": "markdown",
      "source": [
        "We can use non-boolean objects in if conditions and other places where a boolean would be expected. Python will implicitly treat them as their corresponding boolean value:"
      ],
      "metadata": {
        "id": "x8Yt9HZ_zWUN"
      }
    },
    {
      "cell_type": "code",
      "source": [
        "if 0:\n",
        "    print(0)\n",
        "elif \"spam\":\n",
        "    print(\"spam\")"
      ],
      "metadata": {
        "id": "MwOf16GfzZq1",
        "outputId": "4d3b2d22-b573-439b-9fa1-4189fac65ca1",
        "colab": {
          "base_uri": "https://localhost:8080/"
        }
      },
      "execution_count": 39,
      "outputs": [
        {
          "output_type": "stream",
          "name": "stdout",
          "text": [
            "spam\n"
          ]
        }
      ]
    },
    {
      "cell_type": "markdown",
      "source": [
        "## Lists\n",
        "\n",
        "Lists and the things you can do with them. Includes indexing, slicing and mutating\n",
        "\n",
        "### Lists¶\n",
        "Lists in Python represent ordered sequences of values. Here is an example of how to create them:"
      ],
      "metadata": {
        "id": "fms7OwLr7A8W"
      }
    },
    {
      "cell_type": "code",
      "source": [
        "primes = [2, 3, 5, 7]"
      ],
      "metadata": {
        "id": "Ia7EjXHz7J1N"
      },
      "execution_count": 40,
      "outputs": []
    },
    {
      "cell_type": "markdown",
      "source": [
        "We can put other types of things in lists:"
      ],
      "metadata": {
        "id": "A2gqv51r7M_O"
      }
    },
    {
      "cell_type": "code",
      "source": [
        "planets = ['Mercury', 'Venus', 'Earth', 'Mars', 'Jupiter', 'Saturn', 'Uranus', 'Neptune']"
      ],
      "metadata": {
        "id": "AVxuPXnR7Ngn"
      },
      "execution_count": 41,
      "outputs": []
    },
    {
      "cell_type": "markdown",
      "source": [
        "We can even make a list of lists:"
      ],
      "metadata": {
        "id": "Rg4DCI8C9V4j"
      }
    },
    {
      "cell_type": "code",
      "source": [
        "hands = [\n",
        "    ['J', 'Q', 'K'],\n",
        "    ['2', '2', '2'],\n",
        "    ['6', 'A', 'K'],\n",
        "]\n",
        "# or written like\n",
        "hands = [['J', 'Q', 'K'], ['2', '2', '2'], ['6', 'A', 'K']]"
      ],
      "metadata": {
        "id": "11T_vT0V9XWE"
      },
      "execution_count": 42,
      "outputs": []
    },
    {
      "cell_type": "markdown",
      "source": [
        "A list can contain a mix of different types of variables:"
      ],
      "metadata": {
        "id": "IoQR-zUt9jnB"
      }
    },
    {
      "cell_type": "code",
      "source": [
        "my_favourite_things = [32, 'raindrops on roses', help]\n",
        "# (Yes, Python's help function is *definitely* one of my favourite things)"
      ],
      "metadata": {
        "id": "M3VKgb7Q9kcR"
      },
      "execution_count": 43,
      "outputs": []
    },
    {
      "cell_type": "markdown",
      "source": [
        "## Indexing\n",
        "\n",
        "You can access individual list elements with square brackets.\n",
        "\n",
        "Which planet is closest to the sun? Python uses zero-based indexing, so the first element has index 0."
      ],
      "metadata": {
        "id": "LtMg1rfP9o_Y"
      }
    },
    {
      "cell_type": "code",
      "source": [
        "planets[0]"
      ],
      "metadata": {
        "colab": {
          "base_uri": "https://localhost:8080/",
          "height": 35
        },
        "id": "boQCDTnZ9upR",
        "outputId": "96adac7d-ce33-4cec-e49a-4a4d74cf21f4"
      },
      "execution_count": 44,
      "outputs": [
        {
          "output_type": "execute_result",
          "data": {
            "text/plain": [
              "'Mercury'"
            ],
            "application/vnd.google.colaboratory.intrinsic+json": {
              "type": "string"
            }
          },
          "metadata": {},
          "execution_count": 44
        }
      ]
    },
    {
      "cell_type": "markdown",
      "source": [
        "What's the next closest planet?"
      ],
      "metadata": {
        "id": "9qKDWwsP9xap"
      }
    },
    {
      "cell_type": "code",
      "source": [
        "planets[1]"
      ],
      "metadata": {
        "colab": {
          "base_uri": "https://localhost:8080/",
          "height": 35
        },
        "id": "Trwys2ae9yBv",
        "outputId": "91a81af5-e736-4457-95f0-cb5971ee9962"
      },
      "execution_count": 45,
      "outputs": [
        {
          "output_type": "execute_result",
          "data": {
            "text/plain": [
              "'Venus'"
            ],
            "application/vnd.google.colaboratory.intrinsic+json": {
              "type": "string"
            }
          },
          "metadata": {},
          "execution_count": 45
        }
      ]
    },
    {
      "cell_type": "markdown",
      "source": [
        "Which planet is furthest from the sun?\n",
        "\n",
        "Elements at the end of the list can be accessed with negative numbers, starting from -1:"
      ],
      "metadata": {
        "id": "vRVIC1Ne93Xg"
      }
    },
    {
      "cell_type": "code",
      "source": [
        "planets[-1]\n"
      ],
      "metadata": {
        "colab": {
          "base_uri": "https://localhost:8080/",
          "height": 35
        },
        "id": "qdhMTJvP937b",
        "outputId": "7e6cfb77-f2de-4b47-a6c7-0d1bdc5e37f7"
      },
      "execution_count": 46,
      "outputs": [
        {
          "output_type": "execute_result",
          "data": {
            "text/plain": [
              "'Neptune'"
            ],
            "application/vnd.google.colaboratory.intrinsic+json": {
              "type": "string"
            }
          },
          "metadata": {},
          "execution_count": 46
        }
      ]
    },
    {
      "cell_type": "code",
      "source": [
        "planets[-2]"
      ],
      "metadata": {
        "colab": {
          "base_uri": "https://localhost:8080/",
          "height": 35
        },
        "id": "gEwEbMzM96e_",
        "outputId": "25524c1d-fb92-4e65-b7d2-8b84dd1c9962"
      },
      "execution_count": 47,
      "outputs": [
        {
          "output_type": "execute_result",
          "data": {
            "text/plain": [
              "'Uranus'"
            ],
            "application/vnd.google.colaboratory.intrinsic+json": {
              "type": "string"
            }
          },
          "metadata": {},
          "execution_count": 47
        }
      ]
    },
    {
      "cell_type": "markdown",
      "source": [
        "## Slicing\n",
        "\n",
        "What are the first three planets? We can answer this question using slicing:"
      ],
      "metadata": {
        "id": "tRp-vVQg98Eo"
      }
    },
    {
      "cell_type": "code",
      "source": [
        "planets[0:3]"
      ],
      "metadata": {
        "colab": {
          "base_uri": "https://localhost:8080/"
        },
        "id": "-Fisf6P2-B6p",
        "outputId": "b9f7ac8c-1a64-4116-b029-d7c51a781ab5"
      },
      "execution_count": 48,
      "outputs": [
        {
          "output_type": "execute_result",
          "data": {
            "text/plain": [
              "['Mercury', 'Venus', 'Earth']"
            ]
          },
          "metadata": {},
          "execution_count": 48
        }
      ]
    },
    {
      "cell_type": "markdown",
      "source": [
        "planets[0:3] is our way of asking for the elements of planets starting from index 0 and continuing up to but not including index 3.\n",
        "\n",
        "The starting and ending indices are both optional. If I leave out the start index, it's assumed to be 0. So I could rewrite the expression above as:"
      ],
      "metadata": {
        "id": "Vya2kf-u-EVx"
      }
    },
    {
      "cell_type": "code",
      "source": [
        "planets[:3]"
      ],
      "metadata": {
        "colab": {
          "base_uri": "https://localhost:8080/"
        },
        "id": "gUuz1Fnt-HqQ",
        "outputId": "cc9d0487-daa5-4631-ac6d-20a2ea762ada"
      },
      "execution_count": 49,
      "outputs": [
        {
          "output_type": "execute_result",
          "data": {
            "text/plain": [
              "['Mercury', 'Venus', 'Earth']"
            ]
          },
          "metadata": {},
          "execution_count": 49
        }
      ]
    },
    {
      "cell_type": "markdown",
      "source": [
        "If I leave out the end index, it's assumed to be the length of the list."
      ],
      "metadata": {
        "id": "DWHYtRM1-JZg"
      }
    },
    {
      "cell_type": "code",
      "source": [
        "planets[3:]"
      ],
      "metadata": {
        "colab": {
          "base_uri": "https://localhost:8080/"
        },
        "id": "u7ljoG-5-KrS",
        "outputId": "639043fb-80a4-408e-d97d-db4f6dff6228"
      },
      "execution_count": 50,
      "outputs": [
        {
          "output_type": "execute_result",
          "data": {
            "text/plain": [
              "['Mars', 'Jupiter', 'Saturn', 'Uranus', 'Neptune']"
            ]
          },
          "metadata": {},
          "execution_count": 50
        }
      ]
    },
    {
      "cell_type": "markdown",
      "source": [
        "i.e. the expression above means \"give me all the planets from index 3 onward\".\n",
        "\n",
        "We can also use negative indices when slicing:"
      ],
      "metadata": {
        "id": "Om-X0Ryh-MX4"
      }
    },
    {
      "cell_type": "code",
      "source": [
        "# All the planets except the first and last\n",
        "planets[1:-1]"
      ],
      "metadata": {
        "colab": {
          "base_uri": "https://localhost:8080/"
        },
        "id": "Owff9ngo-N9d",
        "outputId": "4195ad0b-b486-4f0a-c0ed-f96bd9c708bc"
      },
      "execution_count": 51,
      "outputs": [
        {
          "output_type": "execute_result",
          "data": {
            "text/plain": [
              "['Venus', 'Earth', 'Mars', 'Jupiter', 'Saturn', 'Uranus']"
            ]
          },
          "metadata": {},
          "execution_count": 51
        }
      ]
    },
    {
      "cell_type": "code",
      "source": [
        "# The last 3 planets\n",
        "planets[-3:]"
      ],
      "metadata": {
        "colab": {
          "base_uri": "https://localhost:8080/"
        },
        "id": "lit1IN3w-TY_",
        "outputId": "de9a4e2f-4da4-40ed-9501-49b5c8c6b9d6"
      },
      "execution_count": 52,
      "outputs": [
        {
          "output_type": "execute_result",
          "data": {
            "text/plain": [
              "['Saturn', 'Uranus', 'Neptune']"
            ]
          },
          "metadata": {},
          "execution_count": 52
        }
      ]
    },
    {
      "cell_type": "markdown",
      "source": [
        "## Changing lists\n",
        "\n",
        "Lists are \"mutable\", meaning they can be modified \"in place\".\n",
        "\n",
        "One way to modify a list is to assign to an index or slice expression.\n",
        "\n",
        "For example, let's say we want to rename Mars:"
      ],
      "metadata": {
        "id": "ugDsaL5j-VGY"
      }
    },
    {
      "cell_type": "code",
      "source": [
        "planets[3] = 'Malacandra'\n",
        "planets"
      ],
      "metadata": {
        "colab": {
          "base_uri": "https://localhost:8080/"
        },
        "id": "_aU5utti-e4q",
        "outputId": "e5f39386-adc3-42d4-885a-be657a9cd572"
      },
      "execution_count": 53,
      "outputs": [
        {
          "output_type": "execute_result",
          "data": {
            "text/plain": [
              "['Mercury',\n",
              " 'Venus',\n",
              " 'Earth',\n",
              " 'Malacandra',\n",
              " 'Jupiter',\n",
              " 'Saturn',\n",
              " 'Uranus',\n",
              " 'Neptune']"
            ]
          },
          "metadata": {},
          "execution_count": 53
        }
      ]
    },
    {
      "cell_type": "markdown",
      "source": [
        "Hm, that's quite a mouthful. Let's compensate by shortening the names of the first 3 planets.\n",
        "\n"
      ],
      "metadata": {
        "id": "wji6Dq3a-kYw"
      }
    },
    {
      "cell_type": "code",
      "source": [
        "planets[:3] = ['Mur', 'Vee', 'Ur']\n",
        "print(planets)\n",
        "# That was silly. Let's give them back their old names\n",
        "planets[:4] = ['Mercury', 'Venus', 'Earth', 'Mars',]"
      ],
      "metadata": {
        "colab": {
          "base_uri": "https://localhost:8080/"
        },
        "id": "DNb6AcSQ-k6b",
        "outputId": "8055323d-47b7-47d3-a942-d28018303128"
      },
      "execution_count": 54,
      "outputs": [
        {
          "output_type": "stream",
          "name": "stdout",
          "text": [
            "['Mur', 'Vee', 'Ur', 'Malacandra', 'Jupiter', 'Saturn', 'Uranus', 'Neptune']\n"
          ]
        }
      ]
    },
    {
      "cell_type": "markdown",
      "source": [
        "### List functions\n",
        "Python has several useful functions for working with lists.\n",
        "\n",
        "len gives the length of a list:"
      ],
      "metadata": {
        "id": "jfKKA-11-o-p"
      }
    },
    {
      "cell_type": "code",
      "source": [
        "# How many planets are there?\n",
        "len(planets)"
      ],
      "metadata": {
        "colab": {
          "base_uri": "https://localhost:8080/"
        },
        "id": "C7Z2rstx-rcR",
        "outputId": "a14c4c13-9513-4501-85f6-3a07e965716e"
      },
      "execution_count": 55,
      "outputs": [
        {
          "output_type": "execute_result",
          "data": {
            "text/plain": [
              "8"
            ]
          },
          "metadata": {},
          "execution_count": 55
        }
      ]
    },
    {
      "cell_type": "markdown",
      "source": [
        "sorted returns a sorted version of a list:"
      ],
      "metadata": {
        "id": "Rrg8gQX5-tkF"
      }
    },
    {
      "cell_type": "code",
      "source": [
        "# The planets sorted in alphabetical order\n",
        "sorted(planets)"
      ],
      "metadata": {
        "colab": {
          "base_uri": "https://localhost:8080/"
        },
        "id": "sN_3LUHH-vZb",
        "outputId": "bf70a802-6df3-45ce-c58f-411e0bdcaeb9"
      },
      "execution_count": 56,
      "outputs": [
        {
          "output_type": "execute_result",
          "data": {
            "text/plain": [
              "['Earth', 'Jupiter', 'Mars', 'Mercury', 'Neptune', 'Saturn', 'Uranus', 'Venus']"
            ]
          },
          "metadata": {},
          "execution_count": 56
        }
      ]
    },
    {
      "cell_type": "markdown",
      "source": [
        "sum does what you might expect:"
      ],
      "metadata": {
        "id": "NFTxZGKt-xf2"
      }
    },
    {
      "cell_type": "code",
      "source": [
        "primes = [2, 3, 5, 7]\n",
        "sum(primes)"
      ],
      "metadata": {
        "colab": {
          "base_uri": "https://localhost:8080/"
        },
        "id": "VJ6NYvPY-x7c",
        "outputId": "4111e06a-bf60-4d7b-9f0e-4f6cc7a70ac4"
      },
      "execution_count": 57,
      "outputs": [
        {
          "output_type": "execute_result",
          "data": {
            "text/plain": [
              "17"
            ]
          },
          "metadata": {},
          "execution_count": 57
        }
      ]
    },
    {
      "cell_type": "markdown",
      "source": [
        "We've previously used the min and max to get the minimum or maximum of several arguments. But we can also pass in a single list argument."
      ],
      "metadata": {
        "id": "-qZmk4Ry-03h"
      }
    },
    {
      "cell_type": "code",
      "source": [
        "max(primes)"
      ],
      "metadata": {
        "colab": {
          "base_uri": "https://localhost:8080/"
        },
        "id": "xDZ7-v2Q-2Hj",
        "outputId": "2eb8359d-52b2-4482-aebf-554f09ac2536"
      },
      "execution_count": 58,
      "outputs": [
        {
          "output_type": "execute_result",
          "data": {
            "text/plain": [
              "7"
            ]
          },
          "metadata": {},
          "execution_count": 58
        }
      ]
    },
    {
      "cell_type": "markdown",
      "source": [
        "### Interlude: objects\n",
        "\n",
        "I've used the term 'object' a lot so far - you may have even read that everything in Python is an object. What does that mean?\n",
        "\n",
        "In short, objects carry some things around with them. You access that stuff using Python's dot syntax.\n",
        "\n",
        "For example, numbers in Python carry around an associated variable called imag representing their imaginary part. (You'll probably never need to use this unless you're doing some very weird math.)"
      ],
      "metadata": {
        "id": "IkDe0Sfs-4Hg"
      }
    },
    {
      "cell_type": "code",
      "source": [
        "x = 12\n",
        "# x is a real number, so its imaginary part is 0.\n",
        "print(x.imag)\n",
        "# Here's how to make a complex number, in case you've ever been curious:\n",
        "c = 12 + 3j\n",
        "print(c.imag)"
      ],
      "metadata": {
        "colab": {
          "base_uri": "https://localhost:8080/"
        },
        "id": "ov6czo-1_GJb",
        "outputId": "f65170a0-6137-4cb1-f715-dbd9cbce15f9"
      },
      "execution_count": 59,
      "outputs": [
        {
          "output_type": "stream",
          "name": "stdout",
          "text": [
            "0\n",
            "3.0\n"
          ]
        }
      ]
    },
    {
      "cell_type": "markdown",
      "source": [
        "The things an object carries around can also include functions. A function attached to an object is called a method. (Non-function things attached to an object, such as imag, are called attributes).\n",
        "\n",
        "For example, numbers have a method called bit_length. Again, we access it using dot syntax:"
      ],
      "metadata": {
        "id": "PwHSs1Vm_NrR"
      }
    },
    {
      "cell_type": "code",
      "source": [
        "x.bit_length\n"
      ],
      "metadata": {
        "colab": {
          "base_uri": "https://localhost:8080/"
        },
        "id": "RO95QZhR_TgD",
        "outputId": "74a7e3d5-f39d-4f20-acb7-3df9673a65de"
      },
      "execution_count": 60,
      "outputs": [
        {
          "output_type": "execute_result",
          "data": {
            "text/plain": [
              "<function int.bit_length()>"
            ]
          },
          "metadata": {},
          "execution_count": 60
        }
      ]
    },
    {
      "cell_type": "markdown",
      "source": [
        "To actually call it, we add parentheses:"
      ],
      "metadata": {
        "id": "gFtudXVC_V_A"
      }
    },
    {
      "cell_type": "code",
      "source": [
        "x.bit_length()"
      ],
      "metadata": {
        "colab": {
          "base_uri": "https://localhost:8080/"
        },
        "id": "AQTU9SIN_Y2j",
        "outputId": "d0c982c1-48b5-4ba9-da56-608cb906307e"
      },
      "execution_count": 61,
      "outputs": [
        {
          "output_type": "execute_result",
          "data": {
            "text/plain": [
              "4"
            ]
          },
          "metadata": {},
          "execution_count": 61
        }
      ]
    },
    {
      "cell_type": "markdown",
      "source": [
        "In the same way that we can pass functions to the help function (e.g. help(max)), we can also pass in methods:"
      ],
      "metadata": {
        "id": "XpZpxC3N_gr8"
      }
    },
    {
      "cell_type": "code",
      "source": [
        "help(x.bit_length)"
      ],
      "metadata": {
        "id": "pTdYBWHx_kYR",
        "outputId": "58bc53bb-687b-4903-bcbf-082aac7fbca6",
        "colab": {
          "base_uri": "https://localhost:8080/"
        }
      },
      "execution_count": 62,
      "outputs": [
        {
          "output_type": "stream",
          "name": "stdout",
          "text": [
            "Help on built-in function bit_length:\n",
            "\n",
            "bit_length() method of builtins.int instance\n",
            "    Number of bits necessary to represent self in binary.\n",
            "    \n",
            "    >>> bin(37)\n",
            "    '0b100101'\n",
            "    >>> (37).bit_length()\n",
            "    6\n",
            "\n"
          ]
        }
      ]
    },
    {
      "cell_type": "markdown",
      "source": [
        "The examples above were utterly obscure. None of the types of objects we've looked at so far (numbers, functions, booleans) have attributes or methods you're likely ever to use.\n",
        "\n",
        "But it turns out that lists have several methods which you'll use all the time."
      ],
      "metadata": {
        "id": "Jf4O3p72_n-U"
      }
    },
    {
      "cell_type": "markdown",
      "source": [
        "## List methods\n",
        "\n",
        "list.append modifies a list by adding an item to the end:"
      ],
      "metadata": {
        "id": "ktkCeRNxcKej"
      }
    },
    {
      "cell_type": "code",
      "source": [
        "# Pluto is a planet darn it!\n",
        "planets.append('Pluto')"
      ],
      "metadata": {
        "id": "6kriQ_3scQnw"
      },
      "execution_count": 63,
      "outputs": []
    },
    {
      "cell_type": "code",
      "source": [
        "planets"
      ],
      "metadata": {
        "colab": {
          "base_uri": "https://localhost:8080/"
        },
        "id": "qSKmvemFcn2P",
        "outputId": "c0fa1b85-b369-4506-9935-4d0daa64ae33"
      },
      "execution_count": 64,
      "outputs": [
        {
          "output_type": "execute_result",
          "data": {
            "text/plain": [
              "['Mercury',\n",
              " 'Venus',\n",
              " 'Earth',\n",
              " 'Mars',\n",
              " 'Jupiter',\n",
              " 'Saturn',\n",
              " 'Uranus',\n",
              " 'Neptune',\n",
              " 'Pluto']"
            ]
          },
          "metadata": {},
          "execution_count": 64
        }
      ]
    },
    {
      "cell_type": "markdown",
      "source": [
        "list.pop removes and returns the last element of a list:"
      ],
      "metadata": {
        "id": "3PE-VP1qcs3_"
      }
    },
    {
      "cell_type": "code",
      "source": [
        "planets.pop()\n",
        "planets"
      ],
      "metadata": {
        "colab": {
          "base_uri": "https://localhost:8080/"
        },
        "id": "xdcEbdFoct1l",
        "outputId": "aa5df9dd-9b4c-4016-a9b3-60daed7d8272"
      },
      "execution_count": 65,
      "outputs": [
        {
          "output_type": "execute_result",
          "data": {
            "text/plain": [
              "['Mercury', 'Venus', 'Earth', 'Mars', 'Jupiter', 'Saturn', 'Uranus', 'Neptune']"
            ]
          },
          "metadata": {},
          "execution_count": 65
        }
      ]
    },
    {
      "cell_type": "markdown",
      "source": [
        "### Searching lists\n",
        "\n",
        "Where does Earth fall in the order of planets? We can get its index using the list.index method."
      ],
      "metadata": {
        "id": "--aH0QLHc3mk"
      }
    },
    {
      "cell_type": "code",
      "source": [
        "planets.index('Earth')\n"
      ],
      "metadata": {
        "colab": {
          "base_uri": "https://localhost:8080/"
        },
        "id": "-YdHUQwDc94e",
        "outputId": "b52d388c-2626-464b-f853-b042e613bceb"
      },
      "execution_count": 66,
      "outputs": [
        {
          "output_type": "execute_result",
          "data": {
            "text/plain": [
              "2"
            ]
          },
          "metadata": {},
          "execution_count": 66
        }
      ]
    },
    {
      "cell_type": "markdown",
      "source": [
        "It comes third (i.e. at index 2 - 0 indexing!).\n",
        "\n",
        "At what index does Pluto occur?\n",
        "\n",
        "Oh, that's right...\n",
        "\n",
        "To avoid unpleasant surprises like this, we can use the in operator to determine whether a list contains a particular value:"
      ],
      "metadata": {
        "id": "I2hqocJSdJG6"
      }
    },
    {
      "cell_type": "code",
      "source": [
        "# Is Earth a planet?\n",
        "\"Earth\" in planets"
      ],
      "metadata": {
        "colab": {
          "base_uri": "https://localhost:8080/"
        },
        "id": "wHuOkRvddP0I",
        "outputId": "c2aed50a-1d70-4507-d630-d07627132171"
      },
      "execution_count": 67,
      "outputs": [
        {
          "output_type": "execute_result",
          "data": {
            "text/plain": [
              "True"
            ]
          },
          "metadata": {},
          "execution_count": 67
        }
      ]
    },
    {
      "cell_type": "code",
      "source": [
        "# Is Calbefraques a planet?\n",
        "\"Calbefraques\" in planets"
      ],
      "metadata": {
        "colab": {
          "base_uri": "https://localhost:8080/"
        },
        "id": "LZ_r7WP_dT6w",
        "outputId": "ffe76c77-699e-45c3-9875-4ccd9369c961"
      },
      "execution_count": 68,
      "outputs": [
        {
          "output_type": "execute_result",
          "data": {
            "text/plain": [
              "False"
            ]
          },
          "metadata": {},
          "execution_count": 68
        }
      ]
    },
    {
      "cell_type": "markdown",
      "source": [
        "There are a few more interesting list methods we haven't covered. If you want to learn about all the methods and attributes attached to a particular object, we can call help() on the object itself. For example, help(planets) will tell us about all the list methods:"
      ],
      "metadata": {
        "id": "WhyWrbK-dX_w"
      }
    },
    {
      "cell_type": "code",
      "source": [
        "help(planets)"
      ],
      "metadata": {
        "colab": {
          "base_uri": "https://localhost:8080/"
        },
        "id": "PzWUYsmgdfMz",
        "outputId": "a412a62e-479d-490a-c793-5f80d12b9c3b"
      },
      "execution_count": 69,
      "outputs": [
        {
          "output_type": "stream",
          "name": "stdout",
          "text": [
            "Help on list object:\n",
            "\n",
            "class list(object)\n",
            " |  list(iterable=(), /)\n",
            " |  \n",
            " |  Built-in mutable sequence.\n",
            " |  \n",
            " |  If no argument is given, the constructor creates a new empty list.\n",
            " |  The argument must be an iterable if specified.\n",
            " |  \n",
            " |  Methods defined here:\n",
            " |  \n",
            " |  __add__(self, value, /)\n",
            " |      Return self+value.\n",
            " |  \n",
            " |  __contains__(self, key, /)\n",
            " |      Return key in self.\n",
            " |  \n",
            " |  __delitem__(self, key, /)\n",
            " |      Delete self[key].\n",
            " |  \n",
            " |  __eq__(self, value, /)\n",
            " |      Return self==value.\n",
            " |  \n",
            " |  __ge__(self, value, /)\n",
            " |      Return self>=value.\n",
            " |  \n",
            " |  __getattribute__(self, name, /)\n",
            " |      Return getattr(self, name).\n",
            " |  \n",
            " |  __getitem__(...)\n",
            " |      x.__getitem__(y) <==> x[y]\n",
            " |  \n",
            " |  __gt__(self, value, /)\n",
            " |      Return self>value.\n",
            " |  \n",
            " |  __iadd__(self, value, /)\n",
            " |      Implement self+=value.\n",
            " |  \n",
            " |  __imul__(self, value, /)\n",
            " |      Implement self*=value.\n",
            " |  \n",
            " |  __init__(self, /, *args, **kwargs)\n",
            " |      Initialize self.  See help(type(self)) for accurate signature.\n",
            " |  \n",
            " |  __iter__(self, /)\n",
            " |      Implement iter(self).\n",
            " |  \n",
            " |  __le__(self, value, /)\n",
            " |      Return self<=value.\n",
            " |  \n",
            " |  __len__(self, /)\n",
            " |      Return len(self).\n",
            " |  \n",
            " |  __lt__(self, value, /)\n",
            " |      Return self<value.\n",
            " |  \n",
            " |  __mul__(self, value, /)\n",
            " |      Return self*value.\n",
            " |  \n",
            " |  __ne__(self, value, /)\n",
            " |      Return self!=value.\n",
            " |  \n",
            " |  __repr__(self, /)\n",
            " |      Return repr(self).\n",
            " |  \n",
            " |  __reversed__(self, /)\n",
            " |      Return a reverse iterator over the list.\n",
            " |  \n",
            " |  __rmul__(self, value, /)\n",
            " |      Return value*self.\n",
            " |  \n",
            " |  __setitem__(self, key, value, /)\n",
            " |      Set self[key] to value.\n",
            " |  \n",
            " |  __sizeof__(self, /)\n",
            " |      Return the size of the list in memory, in bytes.\n",
            " |  \n",
            " |  append(self, object, /)\n",
            " |      Append object to the end of the list.\n",
            " |  \n",
            " |  clear(self, /)\n",
            " |      Remove all items from list.\n",
            " |  \n",
            " |  copy(self, /)\n",
            " |      Return a shallow copy of the list.\n",
            " |  \n",
            " |  count(self, value, /)\n",
            " |      Return number of occurrences of value.\n",
            " |  \n",
            " |  extend(self, iterable, /)\n",
            " |      Extend list by appending elements from the iterable.\n",
            " |  \n",
            " |  index(self, value, start=0, stop=9223372036854775807, /)\n",
            " |      Return first index of value.\n",
            " |      \n",
            " |      Raises ValueError if the value is not present.\n",
            " |  \n",
            " |  insert(self, index, object, /)\n",
            " |      Insert object before index.\n",
            " |  \n",
            " |  pop(self, index=-1, /)\n",
            " |      Remove and return item at index (default last).\n",
            " |      \n",
            " |      Raises IndexError if list is empty or index is out of range.\n",
            " |  \n",
            " |  remove(self, value, /)\n",
            " |      Remove first occurrence of value.\n",
            " |      \n",
            " |      Raises ValueError if the value is not present.\n",
            " |  \n",
            " |  reverse(self, /)\n",
            " |      Reverse *IN PLACE*.\n",
            " |  \n",
            " |  sort(self, /, *, key=None, reverse=False)\n",
            " |      Sort the list in ascending order and return None.\n",
            " |      \n",
            " |      The sort is in-place (i.e. the list itself is modified) and stable (i.e. the\n",
            " |      order of two equal elements is maintained).\n",
            " |      \n",
            " |      If a key function is given, apply it once to each list item and sort them,\n",
            " |      ascending or descending, according to their function values.\n",
            " |      \n",
            " |      The reverse flag can be set to sort in descending order.\n",
            " |  \n",
            " |  ----------------------------------------------------------------------\n",
            " |  Class methods defined here:\n",
            " |  \n",
            " |  __class_getitem__(...) from builtins.type\n",
            " |      See PEP 585\n",
            " |  \n",
            " |  ----------------------------------------------------------------------\n",
            " |  Static methods defined here:\n",
            " |  \n",
            " |  __new__(*args, **kwargs) from builtins.type\n",
            " |      Create and return a new object.  See help(type) for accurate signature.\n",
            " |  \n",
            " |  ----------------------------------------------------------------------\n",
            " |  Data and other attributes defined here:\n",
            " |  \n",
            " |  __hash__ = None\n",
            "\n"
          ]
        }
      ]
    },
    {
      "cell_type": "markdown",
      "source": [
        "### Tuples\n",
        "\n",
        "\n",
        "Tuples are almost exactly the same as lists. They differ in just two ways.\n",
        "\n",
        "1: The syntax for creating them uses parentheses instead of square brackets"
      ],
      "metadata": {
        "id": "Vw_Bi5p6dtAZ"
      }
    },
    {
      "cell_type": "code",
      "source": [
        "t = (1, 2, 3)"
      ],
      "metadata": {
        "id": "Da3oAgezdyAC"
      },
      "execution_count": 70,
      "outputs": []
    },
    {
      "cell_type": "code",
      "source": [
        "t = 1, 2, 3 # equivalent to above\n",
        "t"
      ],
      "metadata": {
        "colab": {
          "base_uri": "https://localhost:8080/"
        },
        "id": "Sn1g2gCgd406",
        "outputId": "a312cd01-337b-48c4-b41b-601c6f44df1f"
      },
      "execution_count": 71,
      "outputs": [
        {
          "output_type": "execute_result",
          "data": {
            "text/plain": [
              "(1, 2, 3)"
            ]
          },
          "metadata": {},
          "execution_count": 71
        }
      ]
    },
    {
      "cell_type": "markdown",
      "source": [
        "2: <mark>They cannot be modified (they are immutable).</mark>\n",
        "\n",
        "\n",
        "Tuples are often used for functions that have multiple return values.\n",
        "\n",
        "For example, the as_integer_ratio() method of float objects returns a numerator and a denominator in the form of a tuple:\n",
        "\n"
      ],
      "metadata": {
        "id": "yIIF7_oAd8xi"
      }
    },
    {
      "cell_type": "code",
      "source": [
        "x = 0.125\n",
        "x.as_integer_ratio()"
      ],
      "metadata": {
        "colab": {
          "base_uri": "https://localhost:8080/"
        },
        "id": "3W62M2gTeWra",
        "outputId": "0fb1ac95-06ac-4467-92dd-56ad23f02bc0"
      },
      "execution_count": 72,
      "outputs": [
        {
          "output_type": "execute_result",
          "data": {
            "text/plain": [
              "(1, 8)"
            ]
          },
          "metadata": {},
          "execution_count": 72
        }
      ]
    },
    {
      "cell_type": "markdown",
      "source": [
        "These multiple return values can be individually assigned as follows:"
      ],
      "metadata": {
        "id": "nxXYOM1RecTZ"
      }
    },
    {
      "cell_type": "code",
      "source": [
        "numerator, denominator = x.as_integer_ratio()\n",
        "print(numerator / denominator)\n"
      ],
      "metadata": {
        "colab": {
          "base_uri": "https://localhost:8080/"
        },
        "id": "-OYqFrn6egNK",
        "outputId": "1b9440f2-92fe-4351-b383-b844e63f1d8d"
      },
      "execution_count": 73,
      "outputs": [
        {
          "output_type": "stream",
          "name": "stdout",
          "text": [
            "0.125\n"
          ]
        }
      ]
    },
    {
      "cell_type": "markdown",
      "source": [
        "Finally we have some insight into the classic Stupid Python Trick™ for swapping two variables!"
      ],
      "metadata": {
        "id": "ikRWdzbEepr0"
      }
    },
    {
      "cell_type": "code",
      "source": [
        "a = 1\n",
        "b = 0\n",
        "a, b = b, a\n",
        "print(a, b)\n"
      ],
      "metadata": {
        "colab": {
          "base_uri": "https://localhost:8080/"
        },
        "id": "qZVbzQoneqaN",
        "outputId": "046e7b36-8385-48f7-eeb6-4c15e258ec41"
      },
      "execution_count": 74,
      "outputs": [
        {
          "output_type": "stream",
          "name": "stdout",
          "text": [
            "0 1\n"
          ]
        }
      ]
    },
    {
      "cell_type": "markdown",
      "source": [
        "## Loops and List Comprehensions\n",
        "\n",
        "For and while loops, and a much-loved Python feature: list comprehensions\n",
        "\n",
        "### Loops\n",
        "\n",
        "Loops are a way to repeatedly execute some code. Here's an example:"
      ],
      "metadata": {
        "id": "8hE2PVCPk7vL"
      }
    },
    {
      "cell_type": "code",
      "source": [
        "planets = ['Mercury', 'Venus', 'Earth', 'Mars', 'Jupiter', 'Saturn', 'Uranus', 'Neptune']\n",
        "for planet in planets:\n",
        "    print(planet, end=' ') # print all on same line"
      ],
      "metadata": {
        "colab": {
          "base_uri": "https://localhost:8080/"
        },
        "id": "ceS9Ld10lKqn",
        "outputId": "360ac770-0d5f-42eb-f117-42506781450d"
      },
      "execution_count": 75,
      "outputs": [
        {
          "output_type": "stream",
          "name": "stdout",
          "text": [
            "Mercury Venus Earth Mars Jupiter Saturn Uranus Neptune "
          ]
        }
      ]
    },
    {
      "cell_type": "markdown",
      "source": [
        "The for loop specifies\n",
        "\n",
        "the variable name to use (in this case, planet)\n",
        "the set of values to loop over (in this case, planets)\n",
        "You use the word \"in\" to link them together.\n",
        "\n",
        "The object to the right of the \"in\" can be any object that supports iteration. Basically, if it can be thought of as a group of things, you can probably loop over it. In addition to lists, we can iterate over the elements of a tuple:"
      ],
      "metadata": {
        "id": "aBiaHs-X2IwF"
      }
    },
    {
      "cell_type": "code",
      "source": [
        "multiplicands = (2, 2, 2, 3, 3, 5)\n",
        "product = 1\n",
        "for mult in multiplicands:\n",
        "    product = product * mult\n",
        "product"
      ],
      "metadata": {
        "colab": {
          "base_uri": "https://localhost:8080/"
        },
        "id": "WVA04Xmz2RQl",
        "outputId": "a8640325-5d11-451a-a898-072842eae7f8"
      },
      "execution_count": 76,
      "outputs": [
        {
          "output_type": "execute_result",
          "data": {
            "text/plain": [
              "360"
            ]
          },
          "metadata": {},
          "execution_count": 76
        }
      ]
    },
    {
      "cell_type": "markdown",
      "source": [
        "You can even loop through each character in a string:"
      ],
      "metadata": {
        "id": "FrbkUg4-2cXH"
      }
    },
    {
      "cell_type": "code",
      "source": [
        "s = 'steganograpHy is the practicE of conceaLing a file, message, image, or video within another fiLe, message, image, Or video.'\n",
        "msg = ''\n",
        "# print all the uppercase letters in s, one at a time\n",
        "for char in s:\n",
        "    if char.isupper():\n",
        "        print(char, end='')"
      ],
      "metadata": {
        "colab": {
          "base_uri": "https://localhost:8080/"
        },
        "id": "eyTY71Li2fOZ",
        "outputId": "caafcd7f-9b20-4672-b151-421e7c8f63cc"
      },
      "execution_count": 77,
      "outputs": [
        {
          "output_type": "stream",
          "name": "stdout",
          "text": [
            "HELLO"
          ]
        }
      ]
    },
    {
      "cell_type": "markdown",
      "source": [
        "range()\n",
        "range() is a function that returns a sequence of numbers. It turns out to be very useful for writing loops.\n",
        "\n",
        "For example, if we want to repeat some action 5 times:"
      ],
      "metadata": {
        "id": "Fpr3P9ce2mU7"
      }
    },
    {
      "cell_type": "code",
      "source": [
        "for i in range(5):\n",
        "    print(\"Doing important work. i =\", i)"
      ],
      "metadata": {
        "colab": {
          "base_uri": "https://localhost:8080/"
        },
        "id": "4Pc3_0n02pZ9",
        "outputId": "1ad64a52-e843-44c4-95e1-bc0f4672902e"
      },
      "execution_count": 78,
      "outputs": [
        {
          "output_type": "stream",
          "name": "stdout",
          "text": [
            "Doing important work. i = 0\n",
            "Doing important work. i = 1\n",
            "Doing important work. i = 2\n",
            "Doing important work. i = 3\n",
            "Doing important work. i = 4\n"
          ]
        }
      ]
    },
    {
      "cell_type": "markdown",
      "source": [
        "while loops\n",
        "The other type of loop in Python is a while loop, which iterates until some condition is met:"
      ],
      "metadata": {
        "id": "hOR-WCuv2yph"
      }
    },
    {
      "cell_type": "code",
      "source": [
        "i = 0\n",
        "while i < 10:\n",
        "    print(i, end=' ')\n",
        "    i += 1 # increase the value of i by 1"
      ],
      "metadata": {
        "colab": {
          "base_uri": "https://localhost:8080/"
        },
        "id": "W1cAQhKl2xb8",
        "outputId": "28cd1e91-f601-4727-8893-6a366d2963a1"
      },
      "execution_count": 79,
      "outputs": [
        {
          "output_type": "stream",
          "name": "stdout",
          "text": [
            "0 1 2 3 4 5 6 7 8 9 "
          ]
        }
      ]
    },
    {
      "cell_type": "markdown",
      "source": [
        "The argument of the while loop is evaluated as a boolean statement, and the loop is executed until the statement evaluates to False."
      ],
      "metadata": {
        "id": "CZTRULDq25o2"
      }
    },
    {
      "cell_type": "markdown",
      "source": [
        "## List comprehensions\n",
        "\n",
        "List comprehensions are one of Python's most beloved and unique features. The easiest way to understand them is probably to just look at a few examples:"
      ],
      "metadata": {
        "id": "fKkrdQ3M28pJ"
      }
    },
    {
      "cell_type": "code",
      "source": [
        "squares = [n**2 for n in range(10)]\n",
        "squares"
      ],
      "metadata": {
        "colab": {
          "base_uri": "https://localhost:8080/"
        },
        "id": "L1-w71Nq3Hxv",
        "outputId": "936dffba-93bb-4ff3-9b5d-72a620fdf675"
      },
      "execution_count": 80,
      "outputs": [
        {
          "output_type": "execute_result",
          "data": {
            "text/plain": [
              "[0, 1, 4, 9, 16, 25, 36, 49, 64, 81]"
            ]
          },
          "metadata": {},
          "execution_count": 80
        }
      ]
    },
    {
      "cell_type": "markdown",
      "source": [
        "Here's how we would do the same thing without a list comprehension:"
      ],
      "metadata": {
        "id": "1dA4A2lU3OdR"
      }
    },
    {
      "cell_type": "code",
      "source": [
        "squares = []\n",
        "for n in range(10):\n",
        "    squares.append(n**2)\n",
        "squares"
      ],
      "metadata": {
        "colab": {
          "base_uri": "https://localhost:8080/"
        },
        "id": "gxXKYex-3Qwr",
        "outputId": "6f5aad59-39c2-4b07-cbd3-a59b07c7a957"
      },
      "execution_count": 81,
      "outputs": [
        {
          "output_type": "execute_result",
          "data": {
            "text/plain": [
              "[0, 1, 4, 9, 16, 25, 36, 49, 64, 81]"
            ]
          },
          "metadata": {},
          "execution_count": 81
        }
      ]
    },
    {
      "cell_type": "markdown",
      "source": [
        "We can also add an if condition:"
      ],
      "metadata": {
        "id": "f4uY51CW3XV4"
      }
    },
    {
      "cell_type": "code",
      "source": [
        "short_planets = [planet for planet in planets if len(planet) < 6]\n",
        "short_planets"
      ],
      "metadata": {
        "colab": {
          "base_uri": "https://localhost:8080/"
        },
        "id": "bAjA8I6BtKnn",
        "outputId": "fe878631-f26c-43f9-dd76-df92c26e4f10"
      },
      "execution_count": 82,
      "outputs": [
        {
          "output_type": "execute_result",
          "data": {
            "text/plain": [
              "['Venus', 'Earth', 'Mars']"
            ]
          },
          "metadata": {},
          "execution_count": 82
        }
      ]
    },
    {
      "cell_type": "markdown",
      "source": [
        "(If you're familiar with SQL, you might think of this as being like a \"WHERE\" clause)\n",
        "\n",
        "Here's an example of filtering with an if condition and applying some transformation to the loop variable:"
      ],
      "metadata": {
        "id": "MyiLO9_XtUHl"
      }
    },
    {
      "cell_type": "code",
      "source": [
        "loud_short_planets = [planet.upper() + '!' for planet in planets if len(planet) < 6]\n",
        "loud_short_planets"
      ],
      "metadata": {
        "colab": {
          "base_uri": "https://localhost:8080/"
        },
        "id": "pDVRXBRutVG2",
        "outputId": "ef590dd6-b166-416a-b3bd-0c1b33175919"
      },
      "execution_count": 83,
      "outputs": [
        {
          "output_type": "execute_result",
          "data": {
            "text/plain": [
              "['VENUS!', 'EARTH!', 'MARS!']"
            ]
          },
          "metadata": {},
          "execution_count": 83
        }
      ]
    },
    {
      "cell_type": "markdown",
      "source": [
        "People usually write these on a single line, but you might find the structure clearer when it's split up over 3 lines:"
      ],
      "metadata": {
        "id": "-CKSQkE2twbU"
      }
    },
    {
      "cell_type": "code",
      "source": [
        "[\n",
        "    planet.upper() + '!'\n",
        "    for planet in planets\n",
        "    if len(planet) < 6\n",
        "]"
      ],
      "metadata": {
        "colab": {
          "base_uri": "https://localhost:8080/"
        },
        "id": "OgFU1iVXtwFL",
        "outputId": "9b31dfb4-053a-44c9-d8c4-e62d02a533d3"
      },
      "execution_count": 84,
      "outputs": [
        {
          "output_type": "execute_result",
          "data": {
            "text/plain": [
              "['VENUS!', 'EARTH!', 'MARS!']"
            ]
          },
          "metadata": {},
          "execution_count": 84
        }
      ]
    },
    {
      "cell_type": "markdown",
      "source": [
        "(Continuing the SQL analogy, you could think of these three lines as SELECT, FROM, and WHERE)\n",
        "\n",
        "The expression on the left doesn't technically have to involve the loop variable (though it'd be pretty unusual for it not to). What do you think the expression below will evaluate to? Press the 'output' button to check."
      ],
      "metadata": {
        "id": "5s4wCj5Jt6Uj"
      }
    },
    {
      "cell_type": "code",
      "source": [
        "[32 for planet in planets]"
      ],
      "metadata": {
        "colab": {
          "base_uri": "https://localhost:8080/"
        },
        "id": "pqHSOA8ZuDQo",
        "outputId": "feac69cf-9edd-4de7-b370-795debd6bb04"
      },
      "execution_count": 85,
      "outputs": [
        {
          "output_type": "execute_result",
          "data": {
            "text/plain": [
              "[32, 32, 32, 32, 32, 32, 32, 32]"
            ]
          },
          "metadata": {},
          "execution_count": 85
        }
      ]
    },
    {
      "cell_type": "markdown",
      "source": [
        "List comprehensions combined with functions like min, max, and sum can lead to impressive one-line solutions for problems that would otherwise require several lines of code.\n",
        "\n",
        "For example, compare the following two cells of code that do the same thing."
      ],
      "metadata": {
        "id": "jxcEAuIJuKVq"
      }
    },
    {
      "cell_type": "code",
      "source": [
        "def count_negatives(nums):\n",
        "    \"\"\"Return the number of negative numbers in the given list.\n",
        "\n",
        "    >>> count_negatives([5, -1, -2, 0, 3])\n",
        "    2\n",
        "    \"\"\"\n",
        "    n_negative = 0\n",
        "    for num in nums:\n",
        "        if num < 0:\n",
        "            n_negative = n_negative + 1\n",
        "    return n_negative"
      ],
      "metadata": {
        "id": "HHatdDxSuSTB"
      },
      "execution_count": 86,
      "outputs": []
    },
    {
      "cell_type": "markdown",
      "source": [
        "Here's a solution using a list comprehension:"
      ],
      "metadata": {
        "id": "bwMdWGuMu0O4"
      }
    },
    {
      "cell_type": "code",
      "source": [
        "def count_negatives(nums):\n",
        "    return len([num for num in nums if num < 0])"
      ],
      "metadata": {
        "id": "5QHm2ZP0uWJS"
      },
      "execution_count": 87,
      "outputs": []
    },
    {
      "cell_type": "markdown",
      "source": [
        "Much better, right?\n",
        "\n",
        "Well if all we care about is minimizing the length of our code, this third solution is better still!\n",
        "\n"
      ],
      "metadata": {
        "id": "6nM-7jYku5Xb"
      }
    },
    {
      "cell_type": "code",
      "source": [
        "def count_negatives(nums):\n",
        "    # Reminder: in the \"booleans and conditionals\" exercises, we learned about a quirk of\n",
        "    # Python where it calculates something like True + True + False + True to be equal to 3.\n",
        "    return sum([num < 0 for num in nums])"
      ],
      "metadata": {
        "id": "z88TZozyu6RM"
      },
      "execution_count": 88,
      "outputs": []
    },
    {
      "cell_type": "markdown",
      "source": [
        "Which of these solutions is the \"best\" is entirely subjective. Solving a problem with less code is always nice, but it's worth keeping in mind the following lines from The Zen of Python:\n",
        "\n",
        "Readability counts.\n",
        "Explicit is better than implicit.\n",
        "\n",
        "So, use these tools to make compact readable programs. But when you have to choose, favor code that is easy for others to understand."
      ],
      "metadata": {
        "id": "-8O7O1KmvUj1"
      }
    },
    {
      "cell_type": "markdown",
      "source": [
        "## ASSESSMENT\n",
        "\n",
        "Solution: Remember that return causes a function to exit immediately. So our original implementation always ran for just one iteration. We can only return False if we've looked at every element of the list (and confirmed that none of them are lucky). Though we can return early if the answer is True:\n",
        "\n"
      ],
      "metadata": {
        "id": "GW9GYAGAw0M6"
      }
    },
    {
      "cell_type": "code",
      "source": [
        "def has_lucky_number(nums):\n",
        "    for num in nums:\n",
        "        if num % 7 == 0:\n",
        "            return True\n",
        "    # We've exhausted the list without finding a lucky number\n",
        "    return False\n",
        "\n",
        "\n",
        "\n",
        "## Here's a one-line version using a list comprehension with Python's any function (you can read about what it does by calling help(any)):\n",
        "\n",
        "def has_lucky_number(nums):\n",
        "    return any([num % 7 == 0 for num in nums])"
      ],
      "metadata": {
        "id": "1eGNFSJzwz0m"
      },
      "execution_count": 89,
      "outputs": []
    },
    {
      "cell_type": "code",
      "source": [
        "def menu_is_boring(meals):\n",
        "    \"\"\"Given a list of meals served over some period of time, return True if the\n",
        "    same meal has ever been served two days in a row, and False otherwise.\n",
        "    \"\"\"\n",
        "    for i in range(len(meals)-1):\n",
        "      if meals[i] == meals[i+1]:\n",
        "        return True\n",
        "    return False"
      ],
      "metadata": {
        "id": "wGY9S7HL0Ef6"
      },
      "execution_count": 90,
      "outputs": []
    },
    {
      "cell_type": "markdown",
      "source": [
        "The key to our solution is the call to range. range(len(meals)) would give us all the indices of meals. If we had used that range, the last iteration of the loop would be comparing the last element to the element after it, which is... IndexError! range(len(meals)-1) gives us all the indices except the index of the last element.\n",
        "\n",
        "But don't we need to check if meals is empty? Turns out that range(0) == range(-1) - they're both empty. So if meals has length 0 or 1, we just won't do any iterations of our for loop."
      ],
      "metadata": {
        "id": "YmAz32Fe0VvQ"
      }
    },
    {
      "cell_type": "markdown",
      "source": [
        "## Strings and Dictionaries\n",
        "\n",
        "Working with strings and dictionaries, two fundamental Python data types\n",
        "\n",
        "### Strings\n",
        "One place where the Python language really shines is in the manipulation of strings. This section will cover some of Python's built-in string methods and formatting operations.\n",
        "\n",
        "Such string manipulation patterns come up often in the context of data science work.\n",
        "\n",
        "### String syntax\n",
        "You've already seen plenty of strings in examples during the previous lessons, but just to recap, strings in Python can be defined using either single or double quotations. They are functionally equivalent."
      ],
      "metadata": {
        "id": "0lrhea4x1mTS"
      }
    },
    {
      "cell_type": "code",
      "source": [
        "x = 'Pluto is a planet'\n",
        "y = \"Pluto is a planet\"\n",
        "x == y"
      ],
      "metadata": {
        "colab": {
          "base_uri": "https://localhost:8080/"
        },
        "id": "vqQeL8x018VL",
        "outputId": "1b9802e3-bc8d-4eeb-b951-6d657bc2b947"
      },
      "execution_count": 91,
      "outputs": [
        {
          "output_type": "execute_result",
          "data": {
            "text/plain": [
              "True"
            ]
          },
          "metadata": {},
          "execution_count": 91
        }
      ]
    },
    {
      "cell_type": "markdown",
      "source": [
        "Double quotes are convenient if your string contains a single quote character (e.g. representing an apostrophe).\n",
        "\n",
        "Similarly, it's easy to create a string that contains double-quotes if you wrap it in single quotes:"
      ],
      "metadata": {
        "id": "K_96PIz52xhT"
      }
    },
    {
      "cell_type": "code",
      "source": [
        "print(\"Pluto's a planet!\")\n",
        "print('My dog is named \"Pluto\"')"
      ],
      "metadata": {
        "colab": {
          "base_uri": "https://localhost:8080/"
        },
        "id": "NXK8Su-220su",
        "outputId": "c750ccdb-af16-40c6-e56b-b9104d95560d"
      },
      "execution_count": 92,
      "outputs": [
        {
          "output_type": "stream",
          "name": "stdout",
          "text": [
            "Pluto's a planet!\n",
            "My dog is named \"Pluto\"\n"
          ]
        }
      ]
    },
    {
      "cell_type": "markdown",
      "source": [
        "If we try to put a single quote character inside a single-quoted string, Python gets confused:"
      ],
      "metadata": {
        "id": "1HGaH4vo24IY"
      }
    },
    {
      "cell_type": "code",
      "source": [
        "'Pluto's a planet!'"
      ],
      "metadata": {
        "colab": {
          "base_uri": "https://localhost:8080/",
          "height": 108
        },
        "id": "SNoj_Vin296D",
        "outputId": "b54e6ec7-5e59-4f0d-a82a-cb7da7da646a"
      },
      "execution_count": 93,
      "outputs": [
        {
          "output_type": "error",
          "ename": "SyntaxError",
          "evalue": "unterminated string literal (detected at line 1) (<ipython-input-93-a43631749f52>, line 1)",
          "traceback": [
            "\u001b[0;36m  File \u001b[0;32m\"<ipython-input-93-a43631749f52>\"\u001b[0;36m, line \u001b[0;32m1\u001b[0m\n\u001b[0;31m    'Pluto's a planet!'\u001b[0m\n\u001b[0m                      ^\u001b[0m\n\u001b[0;31mSyntaxError\u001b[0m\u001b[0;31m:\u001b[0m unterminated string literal (detected at line 1)\n"
          ]
        }
      ]
    },
    {
      "cell_type": "markdown",
      "source": [
        "We can fix this by \"escaping\" the single quote with a backslash."
      ],
      "metadata": {
        "id": "8cxtbfR43DQ3"
      }
    },
    {
      "cell_type": "code",
      "source": [
        "'Pluto\\'s a planet!'"
      ],
      "metadata": {
        "colab": {
          "base_uri": "https://localhost:8080/",
          "height": 35
        },
        "id": "dQZx-Cem3GlR",
        "outputId": "e611c34d-1c43-4b46-e328-712c1fc883af"
      },
      "execution_count": 94,
      "outputs": [
        {
          "output_type": "execute_result",
          "data": {
            "text/plain": [
              "\"Pluto's a planet!\""
            ],
            "application/vnd.google.colaboratory.intrinsic+json": {
              "type": "string"
            }
          },
          "metadata": {},
          "execution_count": 94
        }
      ]
    },
    {
      "cell_type": "markdown",
      "source": [
        "The table below summarizes some important uses of the backslash character.\n",
        "\n",
        "\n",
        "![image.png](data:image/png;base64,iVBORw0KGgoAAAANSUhEUgAABOIAAAGQCAYAAAADVM8rAAAMP2lDQ1BJQ0MgUHJvZmlsZQAASImVVwdYU8kWnluSkJCEEkBASuhNEJESQEoILYD0ItgISYBQYgwEFTu6qODaRQRs6KqIYgfEjthZFHtfLCgo62LBrrxJAV33le+d75t7//vPmf+cOXduGQA0TvAkkhxUE4Bccb40NiSAOSY5hUnqAgggADqggmE8fp6EHR0dAaANnP9u725Ab2hXHeVa/+z/r6YlEObxAUCiIU4T5PFzIT4AAF7Fl0jzASDKeYsp+RI5hg3oSGGCEC+U4wwlrpLjNCXeo/CJj+VA3AKAGpXHk2YAQL8MeWYBPwNq0HshdhYLRGIANJgQ++bmThJAnAqxLfSRQCzXZ6X9oJPxN820QU0eL2MQK+eiMLVAUZ4khzft/yzH/7bcHNlADGvYqJnS0Fj5nGHdbmVPCpdjKsQ94rTIKIi1If4gEij8IUYpmbLQBKU/asTP48CaAT2InQW8wHCIjSAOFudERqj4tHRRMBdiuELQqaJ8bjzE+hAvFOYFxal8NkonxapiofXpUg5bxZ/jSRVx5bEeyLIT2Cr915lCrkofoxdmxidBTIHYskCUGAkxHWKnvOy4cJXPqMJMTuSAj1QWK8/fEuJYoTgkQKmPFaRLg2NV/iW5eQPzxTZmiriRKrwvPzM+VFkfrIXPU+QP54JdForZCQM6wrwxEQNzEQgDg5Rzx7qE4oQ4lc4HSX5ArHIsTpHkRKv8cXNhToicN4fYNa8gTjUWT8yHC1Kpj6dL8qPjlXnihVm8sGhlPvgyEAE4IBAwgQy2NDAJZAFRW09DD7xS9gQDHpCCDCAEjipmYESSokcMj3GgEPwJkRDkDY4LUPQKQQHkvw6yyqMjSFf0FihGZIOnEOeCcJADr2WKUeLBaIngCWRE/4jOg40P882BTd7/7/kB9jvDhkyEipENRGRqDHgSg4iBxFBiMNEON8R9cW88Ah79YXPBWbjnwDy++xOeEtoJjwjXCR2E2xNFRdKfshwNOqB+sKoWaT/WAreGmm54AO4D1aEyrocbAkfcFcZh434wshtkOaq85VVh/qT9txn8cDdUfmRnMkoeQvYn2/48km5PdxtUkdf6x/ooc00brDdnsOfn+Jwfqi+A5/CfPbGF2H7sLHYSO48dwRoAEzuONWKt2FE5HlxdTxSrayBarCKfbKgj+ke8gTsrr2Sec61zt/MXZV++cKr8HQ04kyTTpKKMzHwmG34RhEyumO80jOni7OIKgPz7onx9vYlRfDcQvdbv3Lw/APA53t/ff/g7F3YcgL0e8PE/9J2zZcFPhzoA5w7xZdICJYfLDwT4ltCAT5oBMAEWwBbOxwW4A2/gD4JAGIgC8SAZTIDZZ8J1LgVTwAwwFxSDUrAMrAYVYAPYDLaDXWAfaABHwElwBlwEl8F1cBeunk7wAvSCd+AzgiAkhIYwEAPEFLFCHBAXhIX4IkFIBBKLJCOpSAYiRmTIDGQeUoqsQCqQTUgNshc5hJxEziPtyG3kIdKNvEY+oRhKRXVQY9QaHY6yUDYajsaj49EMdDJaiM5Hl6DlaDW6E61HT6IX0etoB/oC7cMApo7pYWaYI8bCOFgUloKlY1JsFlaClWHVWB3WBO/zVawD68E+4kScgTNxR7iCQ/EEnI9Pxmfhi/EKfDtej7fgV/GHeC/+jUAjGBEcCF4ELmEMIYMwhVBMKCNsJRwknIbPUifhHZFI1CPaED3gs5hMzCJOJy4mriPuJp4gthMfE/tIJJIByYHkQ4oi8Uj5pGLSWtJO0nHSFVIn6YOaupqpmotasFqKmlitSK1MbYfaMbUras/UPpM1yVZkL3IUWUCeRl5K3kJuIl8id5I/U7QoNhQfSjwlizKXUk6po5ym3KO8UVdXN1f3VI9RF6nPUS9X36N+Tv2h+keqNtWeyqGOo8qoS6jbqCeot6lvaDSaNc2flkLLpy2h1dBO0R7QPtAZdCc6ly6gz6ZX0uvpV+gvNcgaVhpsjQkahRplGvs1Lmn0aJI1rTU5mjzNWZqVmoc0b2r2aTG0RmhFaeVqLdbaoXVeq0ubpG2tHaQt0J6vvVn7lPZjBsawYHAYfMY8xhbGaUanDlHHRoerk6VTqrNLp02nV1db11U3UXeqbqXuUd0OPUzPWo+rl6O3VG+f3g29T0OMh7CHCIcsGlI35MqQ9/pD9f31hfol+rv1r+t/MmAaBBlkGyw3aDC4b4gb2hvGGE4xXG942rBnqM5Q76H8oSVD9w29Y4Qa2RvFGk032mzUatRnbGIcYiwxXmt8yrjHRM/E3yTLZJXJMZNuU4apr6nIdJXpcdPnTF0mm5nDLGe2MHvNjMxCzWRmm8zazD6b25gnmBeZ7za/b0GxYFmkW6yyaLbotTS1HG05w7LW8o4V2YpllWm1xuqs1XtrG+sk6wXWDdZdNvo2XJtCm1qbe7Y0Wz/bybbVttfsiHYsu2y7dXaX7VF7N/tM+0r7Sw6og7uDyGGdQ/swwjDPYeJh1cNuOlId2Y4FjrWOD530nCKcipwanF4OtxyeMnz58LPDvzm7Oec4b3G+O0J7RNiIohFNI1672LvwXSpdro2kjQweOXtk48hXrg6uQtf1rrfcGG6j3Ra4Nbt9dfdwl7rXuXd7WHqkelR53GTpsKJZi1nnPAmeAZ6zPY94fvRy98r32uf1l7ejd7b3Du+uUTajhKO2jHrsY+7D89nk0+HL9E313ejb4Wfmx/Or9nvkb+Ev8N/q/4xtx85i72S/DHAOkAYcDHjP8eLM5JwIxAJDAksC24K0gxKCKoIeBJsHZwTXBveGuIVMDzkRSggND10eepNrzOVza7i9YR5hM8NawqnhceEV4Y8i7COkEU2j0dFho1eOvhdpFSmObIgCUdyolVH3o22iJ0cfjiHGRMdUxjyNHRE7I/ZsHCNuYtyOuHfxAfFL4+8m2CbIEpoTNRLHJdYkvk8KTFqR1DFm+JiZYy4mGyaLkhtTSCmJKVtT+sYGjV09tnOc27jicTfG24yfOv78BMMJOROOTtSYyJu4P5WQmpS6I/ULL4pXzetL46ZVpfXyOfw1/BcCf8EqQbfQR7hC+CzdJ31FeleGT8bKjO5Mv8yyzB4RR1QhepUVmrUh6312VPa27P6cpJzduWq5qbmHxNribHHLJJNJUye1SxwkxZKOyV6TV0/ulYZLt+YheePzGvN14I98q8xW9ovsYYFvQWXBhymJU/ZP1Zoqnto6zX7aomnPCoMLf5uOT+dPb55hNmPujIcz2TM3zUJmpc1qnm0xe/7szjkhc7bPpczNnvt7kXPRiqK385LmNc03nj9n/uNfQn6pLaYXS4tvLvBesGEhvlC0sG3RyEVrF30rEZRcKHUuLSv9spi/+MKvI34t/7V/SfqStqXuS9cvIy4TL7ux3G/59hVaKwpXPF45emX9KuaqklVvV09cfb7MtWzDGsoa2ZqO8ojyxrWWa5et/VKRWXG9MqByd5VR1aKq9+sE666s919ft8F4Q+mGTxtFG29tCtlUX21dXbaZuLlg89MtiVvO/sb6rWar4dbSrV+3ibd1bI/d3lLjUVOzw2jH0lq0VlbbvXPczsu7Anc11jnWbdqtt7t0D9gj2/N8b+reG/vC9zXvZ+2vO2B1oOog42BJPVI/rb63IbOhozG5sf1Q2KHmJu+mg4edDm87Ynak8qju0aXHKMfmH+s/Xni874TkRM/JjJOPmyc23z015tS1lpiWttPhp8+dCT5z6iz77PFzPueOnPc6f+gC60LDRfeL9a1urQd/d/v9YJt7W/0lj0uNlz0vN7WPaj92xe/KyauBV89c4167eD3yevuNhBu3bo672XFLcKvrds7tV3cK7ny+O+ce4V7Jfc37ZQ+MHlT/YffH7g73jqMPAx+2Pop7dPcx//GLJ3lPvnTOf0p7WvbM9FlNl0vXke7g7svPxz7vfCF58bmn+E+tP6te2r488Jf/X629Y3o7X0lf9b9e/Mbgzba3rm+b+6L7HrzLfff5fckHgw/bP7I+nv2U9OnZ5ylfSF/Kv9p9bfoW/u1ef25/v4Qn5Sl+BTDY0PR0AF5vA4CWDAAD7s8oY5X7P4Uhyj2rAoH/hJV7RIW5A1AH/99jeuDfzU0A9myB2y+orzEOgGgaAPGeAB05crAN7NUU+0q5EeE+YGPk17TcNPBvTLnn/CHvn89AruoKfj7/Cy9ffFZw3LHUAAAAlmVYSWZNTQAqAAAACAAFARIAAwAAAAEAAQAAARoABQAAAAEAAABKARsABQAAAAEAAABSASgAAwAAAAEAAgAAh2kABAAAAAEAAABaAAAAAAAAAJAAAAABAAAAkAAAAAEAA5KGAAcAAAASAAAAhKACAAQAAAABAAAE4qADAAQAAAABAAABkAAAAABBU0NJSQAAAFNjcmVlbnNob3T1qhffAAAACXBIWXMAABYlAAAWJQFJUiTwAAAC3GlUWHRYTUw6Y29tLmFkb2JlLnhtcAAAAAAAPHg6eG1wbWV0YSB4bWxuczp4PSJhZG9iZTpuczptZXRhLyIgeDp4bXB0az0iWE1QIENvcmUgNi4wLjAiPgogICA8cmRmOlJERiB4bWxuczpyZGY9Imh0dHA6Ly93d3cudzMub3JnLzE5OTkvMDIvMjItcmRmLXN5bnRheC1ucyMiPgogICAgICA8cmRmOkRlc2NyaXB0aW9uIHJkZjphYm91dD0iIgogICAgICAgICAgICB4bWxuczpleGlmPSJodHRwOi8vbnMuYWRvYmUuY29tL2V4aWYvMS4wLyIKICAgICAgICAgICAgeG1sbnM6dGlmZj0iaHR0cDovL25zLmFkb2JlLmNvbS90aWZmLzEuMC8iPgogICAgICAgICA8ZXhpZjpVc2VyQ29tbWVudD5TY3JlZW5zaG90PC9leGlmOlVzZXJDb21tZW50PgogICAgICAgICA8ZXhpZjpQaXhlbFhEaW1lbnNpb24+MTI1MDwvZXhpZjpQaXhlbFhEaW1lbnNpb24+CiAgICAgICAgIDxleGlmOlBpeGVsWURpbWVuc2lvbj40MDA8L2V4aWY6UGl4ZWxZRGltZW5zaW9uPgogICAgICAgICA8dGlmZjpSZXNvbHV0aW9uVW5pdD4yPC90aWZmOlJlc29sdXRpb25Vbml0PgogICAgICAgICA8dGlmZjpYUmVzb2x1dGlvbj4xNDQvMTwvdGlmZjpYUmVzb2x1dGlvbj4KICAgICAgICAgPHRpZmY6WVJlc29sdXRpb24+MTQ0LzE8L3RpZmY6WVJlc29sdXRpb24+CiAgICAgICAgIDx0aWZmOk9yaWVudGF0aW9uPjE8L3RpZmY6T3JpZW50YXRpb24+CiAgICAgIDwvcmRmOkRlc2NyaXB0aW9uPgogICA8L3JkZjpSREY+CjwveDp4bXBtZXRhPgrQspKBAABAAElEQVR4AeydBZxVxRfHDwhIKSVduxIqICAYgPpXkJAQA1EaSenu7i4p6bQQbJGyA2yUMgDpbgsE4z+/2Z3HfW/ve/vui933dn+Hz/JuzMyd+d6YmTNnzqT5T4lQSIAESIAESIAESIAESIAESIAESIAESIAESIAEwkogbVhTZ+IkQAIkQAIkQAIkQAIkQAIkQAIkQAIkQAIkQAKaABVxfBBIgARIgARIgARIgARIgARIgARIgARIgARIIAkIUBGXBJB5CRIgARIgARIgARIgARIgARIgARIgARIgARKgIo7PAAmQAAmQAAmQAAmQAAmQAAmQAAmQAAmQAAkkAQEq4pIAMi9BAiRAAiRAAiRAAiRAAiRAAiRAAiRAAiRAAlTE8RkgARIgARIgARIgARIgARIgARIgARIgARIggSQgQEVcEkDmJUiABEiABEiABEiABEiABEiABEiABEiABEggnb8Iftl3SAdNnyG9v1EYjgRIIAACVy5f0bH4rgUAj1GiggCf8ai4TcwkCZAACZCAHwRYp/kBiUFIgARIIAUTMPXAjbGF/S6l34o4pPif+vfvv//6nTgDkgAJOCeA9wzCd805O8aIDgJ8xqPjPjGXJEACJEACiRNgnZY4I4YgARIggZRMAPVAGvXPifitiIN1DhQDuXNld5I+w5IACTgkcOrMeR2D75pDcAweNQT4jEfNrWJGSYAESIAEEiHAOi0RQDxNAiRAAimcAOqBtGmdeX1zFjqFA2TxSIAESIAESIAESIAESIAESIAESIAESIAESCBcBKiICxdZpksCJEACJEACJEACJEACJEACJEACJEACJEACFgJUxFlgcJMESIAESIAESIAESIAESIAESIAESIAESIAEwkWAirhwkWW6JEACJEACJEACJEACJEACJEACJEACJEACJGAhQEWcBQY3SYAESIAESIAESIAESIAESIAESIAESIAESCBcBKiICxdZpksCJEACJEACJEACJEACJEACJEACJEACJEACFgJUxFlgcJMESIAESIAESIAESIAESIAESIAESIAESIAEwkWAirhwkWW6JEACJEACJEACJEACJEACJEACJEACJEACJGAhQEWcBQY3SYAESIAESIAESIAESIAESIAESIAESIAESCBcBKiICxdZpksCJEACJEACJEACJEACJEACJEACJEACJEACFgJUxFlgcJMESIAESIAESIAESIAESIAESIAESIAESIAEwkWAirhwkWW6JEACJEACJEACJEACJEACJEACJEACJEACJGAhQEWcBQY3SYAESIAESIAESIAESIAESIAESIAESIAESCBcBKiICxdZpksCJEACJEACJEACJEACJEACJEACJEACJEACFgJUxFlgcJMESIAESIAESIAESIAESIAESIAESIAESIAEwkWAirhwkWW6JEACJEACJEACJEACJEACJEACJEACJEACJGAhQEWcBQY3SYAESIAESIAESIAESIAESIAESIAESIAESCBcBKiICxdZpksCJEACJEACJEACJEACJEACJEACJEACJEACFgJUxFlgcJMESIAESIAESIAESIAESIAESIAEQODkqVPy+x9/EEYqJfDrb7/JmTNnUmnpWexwEqAiLpx0mTYJkAAJkAAJkAAJkAAJkAAJkEDUEfjm22+lU5fusuXzL6Iu78xwaAh8+OHH0rFzN/l263ehSZCpkEA8gXQkQQIkQAIkQAIkQAIkQAIkQAIkQALBEPjrr7/kN2VBdMMNNwSTTETE3b5jp4wcPU7nJWeO7BGRp9SSicFDh8s33261LW6RwoVlwbw5tufCcfDGG2Pkyt9/y4hRY2TcmJFSpnTpcFyGaaZCAsliEffW22tlzauvydmz57wiP3jwkA6DcL7MgXfv2aPDbd6yxZXW22vX6WOXLl1yHeMGCaQ2Anv3/qLfg08/2+yz6Os3bNThvvrqa5/h3njzLR3u3PnzOtwv+/bpfW8Vpc/EeJIESCBZCPC9TRbsvCgJkAAJpHgCv/76q7Rs3VaatWwtq15eE9XlPX36tIxUipcrV67IoAH9pGKFClFdHmY+cAJQvPXv21s/C8NHjpZTp04HnhhjkoCFQLJYxH3+xZday505UyapU/tBS3aubkI58Orrb+gDefPkkXvvufvqScvW62+8Je+9/4E0a9JYqlSurM88/8KLAmVB1fvvk4wZM1pCh2fzjz/+lAMHD0rWLFmkSJHC4blIhKb633//yQ8//iRp0ojccvPNEZrL1Jmty1cuy6LFSyVnzhxyz91VbCH8/vvv8sysOYL7WLRoEbnjjtttwx07flyenb9QMmTIIPXr1dVhfvjhR51+7QdrqQbKbbbxQn1w/4ED8uefFyU2pqhkUt8PSvgI8N0OH9vkTDk53tvkLC+vTQIkQAIkkDQEYGBx/vwFfbE9e/cmzUUtVzl0+LD8qPokEPQbg+kDzpg5WxuC1KtbRyrddaflKtxMCgKdOj6t2vt/ul1qwcLFAivF5BA8A7Vq1hDoJ/BsjB09IjmywWumMALJYhFX4ba4Tvt332/zinPr99+7zvkK9/227TpchSRSBLgyZdn46eefpVeffjJ33nzL0dSx+c8//+qy9+rTP3UUOIpKeVPJkpIlS2ZteXrw0CHbnG/bvl0r4XDywIGDcu6cvZXqtvj3rEzpUloZZ5tYEhycqZSGeNf2/vJLElwtdV+C73bqvv8sPQmQAAmQAAk4IRCjBkmfatFcG0I0afSkk6ghCQsfXlOnP6P/4GA/UPnk08/k62++laxZs0qL5k0DTYbxgiBQsEABKVG8uNtfFmXwkpzSUj0LUO7Cb+BHH3+SnFnhtVMIgWRRxBnrGasSwMrzwoULsn//Adeh7767qpRzHVQbR44eFZgOQ9lw800lrae4TQKpnkDatGmlfLlymsP3XpTeW79zV4Z7U3qb48mp8E71N5QASIAESIAESIAESCCCCTR6sqGexhcbGxPBufSdtdVrXtEB6j9UV66/7jrfgXk21RDIkSOH1K0TN5PvFeU6i0ICwRJIFkUcRkzwMMN8GVM6PQWdfkyLgsIOH0Ao3OzmYxtruHJlywmUDr4ECjtMa0O6/sjfyikjrrtz1w9y7Nhx2yh///2PngJrrIgwHdb8XbyYuH86TGlFeF9h//33X1eadplAHpDPXWqa4MmTJ32W7/LlyzotT1Nfk665lr+jSLqs8RZU4GrKDietEJMejvsSOw7mGO6DEaQDk3NfvgVNWPMLP4H79u0XmMij/KlNjNLbvCue5TdKbkzjhnxnsUS1hv1+W5zCrmK8Nav1nHUb9wusMeXVH8Fzg3cbzy8s8vA82wnSi3ve4p6lc+euvmt24a3HzHOfWJ4wAIBrWJ85azp4L37+ebfAx9bFixetp9y2zXPv6z0y1/L3e+R2AbVz8tQp/S6Ydw3nTTl9fU8QDrx/+PFH228qzkPiWMdZR9q923GhIvN/f975f/6J/3ar++3tHphvEH7txN9nF3HN/TbpIC6+S978n+K+4llL7Fttvf94d2ApivcoFN86f54TUx7+kgAJkAAJJD8B+DMLpWDhheSSUJfF33Ls2LlTft69Rwd/oFpVf6PZhkNdj/ZGckswLO3axGhveGs7+SprMPnwla6Tc8HeD/NM4BnZuXOXk0szLAkkIJAsPuKQiwq3lde+3WCpE1O0qFvGjPXNnXfeoc2CYf75nVIE1Higmls4Y+VTsUJ5t+PWnTfeeltef/1NgY8rCKzn7r3nHunWpZOt8g5KnlUvr5Z1ag64tTNTqFBB7Yfu/vv+50r+hx9+kL4DBrn20QFq3LSF3n/i8QbSulVL1zm7jXfWrZfFS5fJncov16gRw+yCCMyjx0+crBnNmzvLLcyq1WvkNeVHz/hjwEmY8jZv1kSs+TSRNr37nsya86zAp1f3rp3NYdcvFHrtnu6k01i8cJ7ruLcNU1Zz3uzDOnHGtCm68mnXvqPubM6cMU1Klihugrr99ujVR+DXYcigAS5fZjNnz9Fmv2NGjdDPwMTJU9wUoqXVFMnOyn/AjbGxbmmZHXRg5ytfAu9/8KF2ronjaZQjO7Du2KG95Mub1wRN0b+3qfcMsm1b3BRUMDBy5uxZzf3666+Xxo2ekA8+/Egp4twt5BAW9wbvBZTnsbEx6khCgTJ60pRpWnGN9wbXKVy4kHrOukjpUrckiIAwb699R1aveVUrfUwA5KWu8huJqQDWvI4aM15gQWtk7PiJZlPefG2Nz+my+/bvl+49++jn6KXnV0i6dAk/e2DRrEUr/U14bsVSyZE9uyt9LBwzf+EivWy5aXikS3eN/O/ee+Xpdm0kW7ZsrrDY8Oc96tCpqy738yuXSa6cOd3i+9rB/Zm3YKGbxXCxG2+UAf376HuM99vbtwe+OZcuX6EVNeYayHvLFs2kdq2abrzNu2zCmX3zbpvjkfTr5J1XbWMZMGiIZtGhfTt55OGH3IoCBVnrtk8LHE+PHD5U7lJ1kRGnzy7imfuNZ3Xl8y8oHyOb9KpyGEAC04H9+0nu3DcIFkxZou4RLMLxrOEdwOhruzat5dprrzVZcD1jiDtl0kT1TCyQjZvec9VZqOceqV9fmjVt7HZfXQn42HDynPhIhqdIgARIgATCQODMmTNqJc+xOuU+vXvqegptKbSRMBCH/gp8Njd8/DHB6pK+BAvezZo9VwdBPZQ/fz7ZvOVzQT2wffsO3Xe65ppr5Lby5QTtcU+BqxA7RQ3C3aN8tKE94kuef/El+UJdq2zZstK29VOCRcZeUn0w9O8wmAkfxyVLlND9KbuywF/YwkWLXZew9ofgVD+9R3uvuJrqiP6fL3nv/Q/1adSv6FM5FQzGvvnWWvn8yy9l9+7dqg/yt8TGxEgJ1Qd6suHjuq73TBP1/TQ1pRbGKWijYnEIb6vOou/3WfwibC2aN5PbK1bwTE4wIIn+4RdffiWHDx/R/bDs2bNJoYKF5KF6dVT79R7btkHP3v1U3+1v3eYA203vvaf7XgUK5Nd9LvSd0M7EOTwX6Mt36dTBLa+hfD4TFCzAA2jTvfjSKtmxY5ceTEd7qnjxYlKmVCl5omEDn30Iz0ui3wl/8OgbvK/6TeiPUkggUAIJe6SBpuQwHix1sMgCLHUeru/eCTJWOrerMFjQQSvi1PTUBIq4eCsdb9PlPvzwY9XxXC43qo4qKhFYkWCFRzhaRGeqr6rArJ19vKg9+/SVEydO6g45FAgx6uP59Tff6A/ZxMlT9YfHLBwBxUStmtV1B91Y7GEfUrJkiUSJVKt6nyxZtlzF36o7ZdfZmD9/+NHHOp3q1d2VkM89/6I8pxalgOCDcJOqqKCshBLAM586UBj+Q1kxKoL7CDFlz5cvn95Pnz69/O9/9woUjiiHnSIOFhxQ9KDsds5Q9ysrxhUrn9edUlQ2+HjiHmIUYuiwkTJzxlTJlSuXvp75D6MdUNQgHPKAZw3po2JHpbRVPUszpk32qsQz6aSE3/zqXqBhBatOKKSsikvznqEiRQMnj1oUBc8+lNaIZ8QovBHOTmAdhgYP3i8oOrGIAhqEqKSGDh8pE8eP0T4erHEnTJqiG3s4hmvfemsZQYPw5593y4urXpY/VZodn27ninLnHRVVOfLKho3v6mNoHJUpE1f5pU17jSuc3QZ85aFhisYIfH7YPWcff/KpfsbwrFiVcLCkHThkmKBhAb8QOA+FzzbVQIWS96h63yZNGOeoErfLoz/H8K5g6XQ0sPA8Iy9QIO5SVru9lY/GOvHm8nZp4V6PGTdev6+4t+ANv4HgDb97aHBjRSgjib3bJlyk/Dp956FI7dGti/I32F8pxp5X/mz+56ZQXfncC7pzc5/6flmVcCiv02fXyuh1tfLwG2++LeXKlZU06gS+UbAGHTF6jLRUDeox4yaod6WYPKgUo9t37NDPLFYBz5A+g7RXSl9PgULxmZmzVGP5ff3OlilTWo3k79YKRnRwIBiY8VecPif+pstwJEACJEACoSFw+coVl8XW8y+8JKb9YlJHWwd/m7dsUQPcA3X/x5zz/EX7zVh/wRJ+/caNCVY7Rf36l5cZJYjrTRHnTz/o+PET+vrXqvYV2ncYhLdaLGEQGEpBtN0wKIZ2j1Uw08Hk33oc27A69xRcJzExM0PQTnIqaD9PVoPSqNetAl/i+PtYGZb079dblcNdeYa+aEOltOzWs7du402eOl0mjBvj1kdFemhbL1u+UrdXsUChnRIO5R40dLibz2ekDyUl/mDx99bb76j0RycYmN69Z7duJ2JxNsz+MHL06DEZP2GyZM6cWbf1cRz3CfcG/elxY0aZoBLK59OVaBAb6PPBbyDa80auqHcI7R38QfEMQxAoG/0VzA5CHwfxKSQQDIFkU8TBUgcfBnRozcg/CmIUAXnz5pGCBQtKxviVET0fdlif4YMCJYNVaWCFsXzlc8rSbLjW2JvjUPwNHDxUd6LhSBQddCNYYRLXh4XJePWBsvoFWPPKq7JoyTI9UmMUcYjbs3s3rYgbpDrr5VXnCvv+ChRIUBDCueinanQDlmpWgWIQlQ+sJqrdf7/r1MZN72olHKyHJislAFa7NILwUIrgI55TWdrYWSOZsMH+oqxGEYd7aVf26sqKEYo4NBTatWmVoFL56KM4Z5fo8NpZKuGelL31VnUfh7pWP8IHdM6z87VCdfjIMTJ18gQ3a5E5c+fpDi4qqKGDB7qdQ+XyhuoMT58xS56ZPsXWKjJYLpEWHw0XdOZhTeWmiFP7kIrxo2lQfL+zfoOuWPI/aFHEqXdGh/NoAOmD6j8oWbHa6tTJE7XiE8dRMUOp8KWy8FnzymvK4qevCa7fPVR8sNqZNH6cFCt2o+scGiqwXntTWbJCgYCViCGPN3hM/x46dFg3cHr26CpYTtxfqV6tmixbsVIr9e0UcR/FK7xrVH/AlSQUbkOUIhFKuMcefUQ5IG7mUrih8Yd3DIpdWKwOGzIowbPtSigEG2iMDhsxWjfQWjRrKvDBgu8CBKPGffoNkJdWrba9EhRuuBfKJlSPaFsbbmis9+rbX1tDYoS0cqW7dBr+vNu2F0umg4G887AYwGpob729Vg3YrNSKOWQfdQusNfH976SsZ60C5avTZ9caH1YLGDwwVuDo+LTv0FlbAQwbMUpbsGEFcCOoF3DvYNn9VMvmrufPnMf7AsXbiGFD3BTMUNr26TdQoIzDQA2+r4lJIM9JYmnyPAmQAAmQQPgIwFABfRZYPxe7MVYNpJ7Q7RJYQ8GtAuqVFUsX6RkNieVi1py5WnllBsbRt1JNezmrXIGgT2YnmJkCCzCrYDYK2oBOBJZwGGC/rXx5efSR+mqAtpD8ptpZW7Z8IS8rf21Ib+68BTJ/7mzVV7g6+Ao/yAvmzXFd6oMPPtKDuTgARRYs6qyS0WJZbj1utjGgbNwRwRLPiWAa76DBw/RgNtq3rVq2lDtur6jbxTt37ZKFqj8DF0Joyy2a/6zuv1rTR10N67Ip02ZoI5XVqt9ptSiEK4pJU6brPjMs03r1TNjfRL9xuBqwxSwV9DExawOD6BhIRnsP1nSY/QJlHPJjHfC25gVlmTppguTOk1vPXEE7CWlfn+16mTZlkuYKIwm0idCHhTEKrPo9JZTPp2fa/uxjdsHQ4SN0XxV99ratWylr0ZuU8cvvun8NYxgoHIeoMAvnzdXGNv6kC2s6CIxfvJXdn3QYhgTienLJwAFWJ7HK2gwdWusS12ZqnBktwLQt+JQz0+hMVmH9BfEcHTHn8dvoiYZuSjgcK1f2Vr2kNbZhgWOVLp066g4NlD5WJRzC1KxZQ3/8DygLLacVjPUanttQVEGM5Zv1/ObNW/S0SpTRWpksVx8/CCw6rEo4HEMnu0njJ3UeYd6d3FLqlpv1KANGInZ4zKWHAvZD1YiA1PCw+DP5xn3A6BEqESOwckMHGZUWnh2MdhhBBQplUuFChWTwwP5uSjiE6dC+rSBPuPdQEqUGMasUG8s2U2Yz6mf8vhmFnHkHEQ73CMprKFrNNFcT3/zCSnGYUnjivhjJkEFZ8LRto3f37NlrDuvfalXv11OXx44e5aaEw0lYrxUvVkxfd48aaQ2VVKt2vy7Dls+/EE+fJxjB/PGnn7XSz6qkg/IYlThGdduoaeYok5GsWbNKrx7dtPUc0twdwryaa1h/P/rkE60QxHcR04iNEg5h8I4MHtDfLX/WuFDQoQGFBp5VCYcwaJgYSziMrEejBPPOt1LKLTRWN2zc5BpVf3b+Aj3S20FZZHpOOw722UVnySjhwBr1oLH0Rueifr26brfgnrur6O8nRp5N58AtgNpBQ9363OI8OmboIEHQifFHUvpz4g8DhiEBEiCBaCJQonhxmT51kh5Ew6wG9HHat22t2ycoBwauX1VKOX8EllTwFwzFXe+e3XVforEyWEBd8vhjj9omAQOCunVqu/3ZDarbRrYcxMBnvbq1ZezoEbqdgrIYBWPTxo10yCNHjmgFkiWamoGRUc+qwMwK/GXPcdWtCCyczHHzi3R9yU+qLWgE13ciK9VMJbQn0VacNnmSLg8UmOi/wYBj9jPTBNNDUZ+bGU2e6aNPaGYXrVDGJNZ+6vRnZmurLj11VfVvzEC1NQ24t4CyD4LprRhgRXsVcdCXRnsPykEIlGjepJ6avoopl3ly55bGTz7hCvbow/V1HwqKQLRFjRxX5baTUD6fdun7Oob+yww1YwAGI2jrzpk5Q7eV0K7DPlySjI2fbg2Lv3ffi5vd5StNc85q1GC9R+Y8f0nAXwLJpohDBs2UUnT0jRjlwO0VbzOHXMo2q1WcUSoYJYMrsGXjVi9mxTeqUSMIRmCsgo4QOjSeUx0RJr36iGXKlFm/0HhhQyVVKlfSFQksA2H1YhWjnDPKOpxDGFjoQAmFuHbSUFkPoaP+88+77U4n+THj2NKUx2TgB7XwAioMKM2ggLGT21WFYedDCxUdpm9BrEoQWIdA0IHFFElPgULJKJzsFgrxDJ8S9mGpCV8OGAEzI5dmFCc2Nsal5MV0OTw3UMShAoNgOiv8ZEFpbp2yqU/G/wc/GlYlnDlXsGAB3SA5euxYggVJEAd/noLrZlMjbpADhw55ng54H42Jsup7gGmdMKW3irHKxDRqaznM+4P3Cfw8BZW5eQZhmRROMc84Gqp4hj0FCnlvo7d4J/BtgxLJTtBwR7lhEWXuu124SD0WzDuPaRZQUKLcz6rRdvjkxPMPhaU3XsE8u2XLJJzqclP8e1Ba+SqBlbOn5L4hbpT5rBrhtpNaapDITlBvoHwYPPI2dcgaL6U/J9aycpsESIAEUgKBOrVr2Q7CwbofShDI2nfW+1W3Izxc9ti1ncPNChZk7du2tb0MXEcYgTuQcMqFCxdcyUNp5q/AAu3V117XwdFm9DSSwAnU7w0bNNBhYJVmXWxJH4z/r3PHDnrADgqkCZOm6nYrZhZhqjEEg9x2rn5wrpiaYTJ86GBtVAKjAztB/wiC60NxaCfWwd7Mma/2pbLEz1JBnCyZs7iiYrDXTkL5fNql7+sYZhRgkB3StXOnBIYZOA49gXE/gpk4/or12ThveWb8jc9wJGAIJNvUVGQAll6Y8gmlmhltQScInV6shGoEViCvvPq6snzappxM1tUVChRXCAclgzfxNt8bfucgF1Wn3E7wIYZycJ+yhjmmlAiYroqpPsYSDqMZoRJYet1TpYr28fOxssAxTsMx7RYsUDmZ6WK4punwW60qPPMCJRXKDjNk5N2bSblnvHDtQxEHn3bo5MKSzSg1zHRAq6LRMw9Fi1ydduvtnNWi8qd45SOm73r7OJqK57Ca5pgaBJ1xKA+wAjBGbqD0NEptY3kKDhhdQzj4toAlWGxsjH4PcM4ozbHtKQWUvzY7gcIIzzfem0t/XdIKZ2s4HMd7BrNwPKtQymJE1qw2Gsr3DNfFc4brwVTeOlXvw48/1tnytMo0z5Jdg8qUAyOMEKO0M8dD/WuUTb7e+5iYIglGizE15ciRo3GKpvkLvWbrWvXNQEPq5MlTyf698JpJLyfMfQr0ncf3FQ1TNNqmTNunn9NuNovZWC8f6LOLaR3eBJaldmIUr3ZKUnzr4Z7Bm+D7iRVyoVA3nTK7sKnhObErN4+RAAmQQEolAN/SaPPB2gwD+N6c/5vyY0qoVQFjjifFL/ygWqecWq+JfCNfGEiGT7lwCvpeENS7ThSSe5Rhhxnovvfeu71msVy5W/U5hMUg9U1qRoOnoF4fPKi/dOvRS7Xfjmi/tGbmz73Ksq7+Q+6W89b4xvLPesxz2zrgdwEuntQU5OQQp8+n0zyadjMGzTEQ700wGK0XtVCs/RVYGRq5oFyMUEggUALJqoiD/zJ8cGCpg043OuMYVcBxKKCMlFHmsQgHJ5XojEAphimtCAclQ6gETkunzZipfQBZlQCY+gWF3+49e92cX4bqutXVyBWcbX/40UcuRdwnn36qP+pYmRFlNwKrFUhiq37iwwqeCJ/cijjkFfcQq+ygMoG1CSohKB5R2T1Q7X4UyVbsfA6YgHnjTcwPK0WDEfh3gmAq8zo1RdWXwBdEahEo0qCIg3JXK+LUL8RzajesBaGI2/r993GKOC/hguUGZ/ivv/mm9mFi0oIiAube+f752zVN0JwLxe89d6upAcp/4Fdff6Ovi28MnhcoHeGPEj7DrIJFRCC+3rV8+eJW3z0YZqUuFGSQXLly6l+7/3LmSHjukMXKLbH3AWninUju74Vd2XwdC8U7Dx+AUMRh2nLNGtX1dAxv10yOZ9dbXvA8GEWdXZg8yr8LFHFQxvpSxKWG58SOD4+RAAmQQEolYF3xE4PyiSnirrMoFyKJCZRwGMBHv+HKlSthzZoZwM+i+pa+6lbPTGCwywh8WHuTf/7+23UK7ia8zQbCTCFYcU1SCz+YWRwYdOvZvasrvq8NzP7Aip6fK9cpp0+f0VNajfHJf/+5+/TzlU44zzl9Pp3mBQP7EDDvN3Cw3rb7z1hBov2HWWdWV1B24XEMs0jQN8egrFHeegvL4yTgi0CyKuLwEN+qpup88+232uG0sSqxWukg8wgHbTYWIoAyDCv8QXxZ6egADv8bphY5QNp4CRs8+qhW9BUqVFDPr0dSHbt0C4siDmXD1DmY0B4/cUJ3/I3vNE9rscIqP5AT8T4A9I7Nf6h0Ici/v2JVPvobx99wKAcUcbCCgyJum7JMgqNyLFbhq3Hga/QL1ooQwwTbBQvmV8+TCHxKYLTFl1gVnL7CpYRz8AMHBQK4w6cUrFCh+IKC1Cp49xAOFnOPqNWMsXIjOHmGs8Zxug3rSDiRR7qwhMV7DKuznGoVYjR8sKCGt1WwnF7LGh6+RO6uUjl+sYgtyi/hA3L1PatqDaq3MbUWFTmUYN7eo0DeMyTu9F2D5R2+j1isopiaemAnh21G8wqoMkDQiF204Fm7aG7H7KaBuwWIwJ1QvPMrn4vzu4nnD1NGGj7+mJ4y71nc5Hp2PfNh9k+dOq2fJWNlbI6bX2P96+35NeFSw3NiyspfEiABEkgNBKwKhdPKIo4SPgKHDl51pWL6qIldDX0gXwL3GFjdFINpkFYtW/hlfILFE8aNn6hnOSAe2jXZlT9azJTC9p9/XtQzUHAuOSXcz6cZIMdsD//viX+KOHADSy3mN26P/5OAIwLJqohDTitWKK8VcbDUMU4yK1r8w5nSwFIHijgoELYp5YCOq5QLoRJoxPGiwqHls7NnJnDSjev8+utvobqcWzp4matVu1+vegh/VVWr3ie7lPUSPpqeq56a0RNjBeKWUPwO/AHBBxgs+awmx2ZuP6wJ7eSnn3bbHQ7JMZhTY5ToM7VaZlc1gvCBzSqVdhfy5cfNnINzfyNxfNaq1ZZ+cyu7OZ9af7HgAKaeYsEMTOXD9E+zmpOVyU0qHFbMgtIUimFMWYNyzuo7zRo+kO2PlbUnBCupWqddm7S8+c0w54P5hUIYDmrhr1Ar4pQVKt4/TJ/2FDxLUMTtVz62vCkycA5i3ktsG78Z3nxmQDlipt8ivD+C9KGIwzRsb4q4X365utS8SdN8A3BNvP/YT2kS7Dv/rrJGhqUuRqDr1HlQ5i9YJDOemSVT1IphroZWPLTkfHbt7hu+9Zjegrx7CqzHD6rOgXbSXDRuCrVnGLOfGp4TU1b+kgAJkEBqIGBt61unI6aGsgdaRuP76w81nRd1qGcbwFu61yo3LBC4Y+nTq4e3YG7HY2Nj3PY9d+DOxyjhcA6D5HfcfnsCNy/WeJjhMXrseOWX+aJ2NQOjBPSfYVVoBAuMjRw91uwm22+4n8+MGePcfaCNiMFVfySvmsHlj2Aw3Sz8lt2HyxF/0mKY1E3g6puZTByMVRvmZ8P6Bh0CO6fjZgrdls8/lx1KSYD52VAuhEpgugvBdEfPlfJwHB0a+FiwE/Ohhh+GQMUoAj5QioGPlQ8rVADmmDVNLCQBqxUoALA6jp28ohyG4iNx003uzvBNBx4KTzvn3WDrVMxAAPJ78eIlr9ExhRhKFzBCJfDZ5i26MoGFki/5+ptvtJ87zzC4FlZHhZhlpLFtngkz/RDHPGWzUgZiGhqUTKlFUAmXV9aHqDiee/4FXWxPy1McxLMMK0VU4i8oqzUIlOWhFPMe2TmbxdQDs2CL3TWvvmsX7U4negxlwzsExQtWzcXUAGOR6hkZSkkI/FMiX54CZdqGDZv04ZtuuvotwigfFraAct9Mb7XGxfPvVMzCFsvVKlqYvu8pcORrlIKe58w7YXwyep7HOwlfnfDVZxV/321rnOTYNuUL5J3HQiQLFi7W2e7SuaO2AkWjDdO43177ToLiBPPsJkgsRAfWvrPONiVMRcb0FFibQhmXmBiOTp+TxNLleRIgARIggaQncCLepQWu7MvFRtLnLHKvmF35E4PE9Wn8b2feGBuDaLrORV0Kv7OJ/VmnZurIlv+wKOB0NSAIubVMaa3gQ3ty5uw5llAJNze9955uv+dQM0zGjx0td9xxu5sSLmGM5DsS7ucTi8xB0BZP7F6Y83Yr0epEPP6z9vftdAYewblLAl4JJLsiDs7H0XH9Ua2gCcXIbbeVtx2BgAPK3Llv0P6roCSAzzarht9rCf08gZVUYQkESzJPBRfmjI8ZN8FrSvgAQ0GwX/mbMlPVvAb2csKsHIrRjDWvvqbTq16tmm3oZk0b6+PwZwdHnlbBlEJMs4IF0xMNH7eekkLKDxam58EP1Kw5z7oWn4BSa8bM2cqRfZzfMLdIiexgSpRxIP/lV1/5DG2m2T47f4H28QefXd4clJuE8ExMmjLVTcmHOflzn50nqKigXIRyxQjKCEf8ULCMGDXaNWJhzmN0aeLkqTJWmW17Ki4WLV4qnbv20EoaEx6/yMNwNW25v/Ix4OlXDtZVHTp1ldfeeNMaJSK3jdIblqUQO8tTfVxZwEFMOBNPHwzBf2VvvVWn8tobb7mlhhWixk+cnGD1YGsgo0yG4j4QwXtaTVmcQrE2bcYzOgn4aLSTe++9R69OjGdm2fKVbsprVMKwmoIvQqy45Ol/q3iJ4jrJKVNnuBT4UI5DYbZi5fNenRLb5QPH7r/vf3pFZ3yLhgwfKZvefU+nCwu5F1e9LHPVip9W61drOg3U9F+M0mLKL5TQVsG7hG/BoiXLBM+/VZy829Z4Sb0dzDs/T1m/QaGKQQ847MXz0a1LJ123LFm2IsH7HsyzGy4ub7z5th7YsKaPqd3z4xWMWMHNHwn0OfEnbYYhARIgARJIWgKb1YA3BAMxuZX7m9QgZjE+lPWSD+MAbywwhdNIYlNHTTj8xsbGqP/jBIYGwQjaZeijoJ0Jw4uhQwZJx6fb6yThOgPtSG+ya1fcNNbiqm/kbbEJu4Flb+mF83i4n0/4nIbA5RN8y4dS0PY3Yn1mzDH+koC/BBIfJvc3pSDCwX8VFiuAGMs3u+RgwbN+w0Z9KtTKAXTAHqxVQ1aveVVGKJNdWKCUUJ1pTAH98aefdCWGjq7xuWPNH7Th8HWHxSQ6dO4iBQsUlHp1a6v0alqDJbpd/YGqelVUOH7EksrenKbXfrCW9luFDnib9h11BQDrIkzvhSIQZRnQr5ceRbFeFMfbqWWvZ86aIxs2btKLJcCZNxZ1gAkvli0fNWa8NYpf2/fcU0UrtaDgeunl1VLqlluUk9GOCeLi3mKUxlj0eK5SmSCCOtCk8ZPaIumJxk21RRdWd4SCCJYeSGvksCFuyjyUEeXACAh4NGzUVOXnZjW1sJBWWuIYRrrq1qntNu0XCjYoQCEvKa5W5R4sBY3iBwoQmHobgVIFH/mlqtP+UN06flmemLhJ/VtBKbmNwCeh3XQ2nLdawKERYBStJm6wv7Vq1tDWaLDC+lIp1MoqBch55Stjp5o2+2e8kh33yU7uVisMw2cGrIC2fvedXg5++pRJ+pm3C293DApuvOd4z6CgwqrFdoKRsTGjRkjPXn3l5TWvyFvKQgr+DTEQgPzBqhQjn4MG9EswKNCiWRNtuYtVjlu2bqsXg8CqsFB69+/bW1thOWnkQSmG6wwcPFRba02dHqdENPnGAgMF8ueXZStWmkOuX3wbhgwaoJXJo8aM0wq7MmqEFYpBWCHDzxjK2qnD0644ZsPfd9uET47fQN/5b77dqqcpw7q6XZvWrqxD2YtVyV5XiuJZs+fK6JHDXeeCeXZdiYRwAyPqZcqU0lNRUD+VLVtGTyk3rgsaN3pSK3H9uWQwz4k/6TMMCZAACZBAaAlg0AV9Ak+BWw3Tbn2g2v2OB/8804uWfasbEShfihQp7Cjrca4u4qL88ss+1Z+L87ObWCKIh/YgXIigX1ClUiXbPhzajUuXr9D1sucArrkGBgiRd7Rt+qn2ImaK1apZXb7dulU+UjOmcB4znordeKOJ4vq99toMevvQocO2/mPRBl2t2rNJJcn5fKJPvWr1Gq3QfEYZm0ydPNHWzQ4GuF946SVp3rSJ7Yw4O1Z4v4x4zj4zx/lLAv4QSHaLOGTSqlTzrYi76hMOyrtQS5tWTwn+YKWFqUnoiGEKW6lbSsnYUSMlo7Im8yYjhw8R+EG7cuVv7ccJnTyncp+yejFTiGooX1a+pGWLZoI/+H3AB2HDxne1Eg6dMSiiYBVmJ3VUhd2xQ3uthIFCAcoB+AobNXyYFFZWh4EIFFPNmjTW1nbIC6Z92gksGKvef58+BSUjlJeJCZRFkyeM09aQsFRE2lDC3XzzTaqDPMx2oQcwHKZGkNBphkBpgmlmuJe51TLo/fr0SqAoxHFYu6Diu/OOO9yyVa5sWX0dLC5QvtxV6zsEqlr1fh0HSi5z79wiR9AOpiaYRgV8RngTLJ5hGi9W5Z238E6PV7rrTq3gwnWwqi/uDe5rZqUMGjdmlJpKV9RrkrBawr1FXFhEwpIWDQ4ngql6xq8gzNFhJepNoLAcO2akVgLjfYHPDiiCoczFO4b3xs6qEw2sEUpJjOdUBdV5vFE1mnp27+Z6B7xd09txPH8Txo3Rf42ebKjzhAY4fO316tHNWzR9HApEKOOw6AMGE6BQhjUnlJH4bi2YN9fWD56/77bPiyfBSafvPKZoQ8kGad2qpXJknM0tly2bN9NTmDHdFZyMBPPsmjRC/dutS2etOIQzbtQDUMJhJBzPCBTCTiTQ58TJNRiWBEiABEggNATggmDx0mVa2YAUMcCGmTH9Bw3Rlv9o0zZs0CA0F7NJBW1+KI2sf8biCn61rcexDQv0cEqRwkVcbbKlaiYDrmkElmZQlPkSzLwy7WRrXF9xcA79m57duuqFsdBW7Nq9p24vXrlyRUfFtTHYjPsCdycjRo7Rg7qe6Vot3p584nFtqW/CoK5H3wlpGYs5c878wogDAgOBKdNmuKz6oYBD+7V7r956sM6E9+bL2JwP9jeY5xNtVc/nB777IODqeQ79WavADU3rp1roQ1AIduvZW99/tN8h8FG3ecsW6dqjl+qHrFOzZGbq4/78t1cpaSHoo0bjImf+lJFhkoZAGvVAxj2RiVzv0JHj+qOeO9dVs91EokTtaSDBXPwLF35VSoEijhyc4+MAf3O5cuXUq0I6gQAFU6OmLXQn/6XnV3g1K7amidEVfKxgAYaPDpQtqHj9EcSBA/dQKZDADau5wsLE2zx7rDr43Asvaku3Fs2aes0mpihi5AfWQ0Z5B0u6o2rKKZQjqCz9EXS4wQerBGF1VUw/9iUwBYc/O09BwwL31k7p4i2OZxr+7p86c14HTQ3vGnxuHVIWmViYBPfVicA0PI36h6ntTqXvgEF6cRYotjDN3R+B0uq4epbSpU+nrMryq3cn4XNilw4aQHh+/A1vl4Y/x2CVidG/p1o010oYb3FOnz6tGmen1buQVTc40YBMTPx5txNLw3o+nM+403femi8n28E8u06uYxcW9VO7pzvp+7d44TwdBFO79x/YrzsE6EjYfavs0vJ2LJDnxFtaPE4CJEACKZlAOOs0T25o07Zq014fNrNMMFCH9v+p06dcrlzQF+ikBt4fqlfXMwnXPmby9BswWO+PHjFM+xRznfRjo97Dj7m57UgsSpdOHfWMIRMO1v0YGIRf3RdVv8ebPPRIA90Gf/Th+vJ0+7begunjUHQtXLzEFQYWZWmvSav7dGjLrFy2xGcfAu46MOsCM6NmTJviSsefDSwENlvFNwqudOmukXzKQOL48RMuTui/wLjDDHibdFGvd1NKIbQZMYg7VS0Y5bkiOlyl9Ok3UCtcMYg6eGB/E13/QknXQ83isPr8xbOB40agrNu+PW7RQ8xewgwhI/UeflTl8x9tsPHwQ/X0YfRNH2nwhN6GIQNWc4XAkqxJ85Z6e/jQwa7F10L1fA4eOlwt5ui/Ucv/7r1HzxzRGYr/D/d7ybLlbr6eMVCZI0d27cII5yEY5EcZ7Pp/8Um5/XTq0l0zxrvVuWPC2SRugbmTagigHkCfqnDBfH6XOSKmpvqd2yQKiMoLPukkAAMx+GbLn9//G2AtEhYfwAcPHzlvc/ut4bENJRo08vhzKqF2MAluvhzComzvrF+vs+nN/52vMqDBgT8ngs6ok6mV3j7CeLG8dWy9xXGSz9QaVi8+ohTIgUigo1C79+zR00ah+EPl66/AasrTcsqfuL4s7vyJb8JgwZi/Lv+VwB+dOY9psJDEFIuwJsSfE0ns3XaSVrjDOn3nA81PMM9uoNf0FQ8NfmPp6Sucv+cCeU78TZvhSIAESIAEgifQrEkjgZXQ68pPMWYYQFBfw4gAg3Kw4k5t8ugj9SVN2jR6lVFYpxkrPHApVuxGuXzlqlLKjs0D1apqRdyPamE7KJW8+d+1iwt/vlB0YREozMaBwQPc/0DQNoGyqGXzpgnaYBhAHDtuolbCYdB2QL8+CZRwSOOWm28W+AlfvuI5beH2xptvycP1H8IpLVC6TZo4Ti/Ktvad9Vp5aZRw6As1Vc9LOTX43KhJcz1AvE0p5KyKOJNOqH6T+/nEPcdMt7srV9aWo7v37NWWiHguIBjIhxupJsqNh79GKbA2NIpOTH+lkEAwBGgRFwy9EMSFlVWaNGnl5927ZdiIUdq8fO7sZxwpj0KQjbAmgdEdtQaRdh4OH392oxaeGbCziPMMk1L3k3JkNaUy9CwXRr3Q0MEqmeMmTNKm+Z4js55xImkfZvV9+g1Qo3WZlJVoHzcfhmhkrlXTe5crvySwRn35xecS+KyLpLIgL3zGg7sjdhZxwaXI2CRAAiRAAoESSMo6zWpx1L1rZ+0jDlb3cNdxQbVxoHAJtwV+oJySMh4su44dP6Ytt9B2KpC/gN9cuvfso312w0+1r9k7iZUHMzeOHTsm2bNlF/jkhqIsqQTTlDGLA7M5YIWXJ0+eJLl0JD+f6AscVYsynlcz3m5QRgDg4s+sECs4zOrC7K7SpW7Rfues57idugnQIi4K7z+cwOOFNuaxDR57JEUp4TAS06hpc20WjTLCCq9V/Jz9KLxdzHKUEtihfHP07T9QjxTjOcSUg9oP1oya0pQoXkzurlJZ4D9k0BDlz1FZwMYof2+n1BRTLCaDMsGKtmf3ro4bFVEDgRklARIgARIgARJIQADKhELK/UohKZjgXGo9ACvxQGcMPd7gUe2H7U21KnmDRx/1W4HnyRozNwKdveGZltN9TGstWLCg/nMaN9ThI+X5hIVcMExgSYeV6iENHw+f78VQ82d6kUuAU1OT+d7EjVTkViM1+fQqOk5XWk3m7Cd6+WPKp5sZcbipRAm9wIQ/0+KyKD9t8BlhVgBK9EIMQAI+CMCUHE5uMSpZvnxZvbiIp+8NH9GT/RQaD/CXCGXcS6tWy4GDB13TUNDIK64Ude3btXE5GU72DDMDYSWARi2+j1ish0ICJEACJEACJBA6AvC/dscdtwsWiXvxpVXStk2r0CXOlKKWwAvqWfhNzUKpXOmuVDntO2pvXARnnFNTI/jmMGupk0BSTnFInYSjv9SwgDt16pS2gktsAZJILC2f8Ui8K8wTCZAACZBAIASSsk6zm/oXSJ4ZxzcBLMj0dKeu8scff8jokcMFq4pTEieQUp/Pb7d+J1hA4jrlAmbe3NkBLRSXOD2GiGYCgUxNTXy5vGgmwryTAAmQQAokAAs5+PuIRiVcCrwdLBIJkAAJkAAJkEAKIoAFmUaplWTh123MuAmyfcfOFFQ6FsUJge+3bZdRY8bpBTdGKaUsFnmgkEAoCFARFwqKTIMESIAESIAESIAESIAESIAEwkggY8aMUqVyJf2XN2/eMF6JSZe65WYZOXyoVsBgMQxK4gRS4vN56NBhyaTeO1hGwsc0hQRCRYBTU0NFkumQQIgIJOUUhxBlmcmQgCMCfMYd4WJgEiABEiCBCCbAOi2Cb04Isnb27DnJmPFatXJ95hCkxiSijcDvv/8uWIU3e/Zs0ZZ15jcJCQQyNZWLNSThDeKlSIAESIAESIAESIAESIAESIAEooMApyJGx30KVy6zKr9wFBIIBwFOTQ0HVaZJAiRAAiRAAiRAAiRAAiRAAiRAAiRAAiRAAh4EqIjzAMJdEiABEiABEiABEiABEiABEiABEiABEiABEggHASriwkGVaZIACZAACZAACZAACZAACZAACZAACZAACZCABwEq4jyAcJcESIAESIAESIAESIAESIAESIAESIAESIAEwkGAirhwUGWaJEACJEACJEACJEACJEACJEACJEACJEACJOBBgIo4DyDcJQESIAESIAESIAESIAESIAESIAESIAESIIFwEKAiLhxUmSYJkAAJkAAJkAAJkAAJkAAJkAAJkAAJkAAJeBCgIs4DCHdJgARIgARIgARIgARIgARIgARIgARIgARIIBwEqIgLB1WmSQIkQAIkQAIkQAIkQAIkQAIkQAIkQAIkQAIeBKiI8wDCXRIgARIgARIgARIgARIgARIgARIgARIgARIIBwEq4sJBlWmSAAmQAAmQAAmQAAmQAAmQAAmQAAmQAAmQgAcBKuI8gHCXBEiABEiABEiABEiABEiABEiABEiABEiABMJBgIq4cFBlmiRAAiRAAiRAAiRAAiRAAiRAAiRAAiRAAiTgQYCKOA8g3CUBEiABEiABEiABEiABEiABEiABEiABEiCBcBBI52+iVy5fkf/Uv1NnzvsbheFIgAQCIPD333/rWHzXAoDHKFFBgM94VNwmZpIESIAESMAPAqzT/IDEICRAAiSQggmgHkij/jkRvxVxSBSJp01LIzongBmWBJwSMC8x3zWn5Bg+WgjwGY+WO8V8kgAJkAAJJEaAdVpihHieBEiABFI2AVMPOCml34q47Nmv1+nmzJHNSfoMSwIk4JDA2XMXdAy+aw7BMXjUEOAzHjW3ihklARIgARJIhADrtEQA8TQJkAAJpHACph5wUkyatzmhxbAkQAIkQAIkQAIkQAIkQAIkQAIkQAIkQAIkECABKuICBMdoJEACJEACJEACJEACJEACJEACJEACJEACJOCEABVxTmgxLAmQAAmQAAmQAAmQAAmQAAmQAAmQAAmQAAkESICKuADBMRoJkAAJkAAJkAAJkAAJkAAJkAAJkAAJkAAJOCFARZwTWgxLAiRAAiRAAiRAAiRAAiRAAiRAAiRAAiRAAgESoCIuQHCMRgIkQAIkQAIkQAIkQAIkQAIkQAIkQAIkQAJOCFAR54QWw5IACZAACZAACZAACZAACZAACZAACZAACZBAgASoiAsQHKORAAmQAAmQAAmQAAmQAAmQAAmQAAmQAAmQgBMCVMQ5ocWwJEACJEACJEACJEACJEACJEACJEACJEACJBAgASriAgTHaCRAAiRAAiRAAiRAAiRAAiRAAiRAAiRAAiTghAAVcU5oMSwJkAAJkAAJkAAJkAAJkAAJkAAJkAAJkAAJBEiAirgAwTEaCZAACZAACZAACZAACZAACZAACZAACZAACTghQEWcE1oMSwIkQAIkQAIkQAIkQAIkQAIkQAIkQAIkQAIBEqAiLkBwjEYCJEACJEACJEACJEACJEACJEACJEACJEACTghQEeeEFsOSAAmQAAmQAAmQAAmQAAmQAAmQAAmQAAmQQIAEqIgLEByjkQAJkAAJkAAJkAAJkAAJkAAJkAAJkAAJkIATAlTEOaHFsCRAAiRAAiRAAiRAAiRAAiRAAiRAAiRAAiQQIAEq4gIEx2gkQAIkQAIkQAIkQAIkQAIkQAIkQAIkQAIk4IQAFXFOaDEsCZAACZAACZAACZAACZAACZAACZAACZAACQRIgIq4AMExGgmQAAmQAAmQAAmQAAmQAAmQAAmQAAmQAAk4IZDqFHFVq9eS/1WtLr/8ss8JJ4YlgVRDYPuOnfodqVf/0VRTZhY0dRFIrmf8icbN9Ls1YtSY1AXcj9Im1z3xI2tRG+Svv/6SI0eOyKVLlwIqw4rnntfP65BhIwKKz0gkQAKRSWD9ho363UZ/6ODBQ5GZyQBzxe9WgOB8RPvtt9/kyNGj8vfff/sIxVMkQAJOCaRzGiEpwx86fFi6du8ladKILHh2juTOnTtkl0+TViVKIQES8EogTdpUp6f3yoInUiYBf5/xxs1ayp9//imtn2ohD9d/yAVj7rwFsmHjJild6hYZN2aU6/jWrd/JiNFj9f6yxQskR44crnMpZWPy1Gny6WdbpEb1atKlU8eQFcvfexKyC6awhC5evCirX3lV3nprrZw8dUr+++8/XcJcuXKqe1VdWjRrIlmzZnVU6rSsCxzxYmASCBeBN996WxYvXS6ZM2WSF59f4brMuXPn5Kk27fX+6JHDpeytZVzn+g0YLD/9/LPUqllDOnWIC+M6mYI3+N0K7uaeOHlSli1fKZ98+pn8+uuvOjEwLViggDzRsIHUq1tHrrnmmuAuwtgkkMoJRHRPu3ChQnJDrlxy5sxZWadGb0IhplGaSVViFBIggYQE+I4kZMIjKYuA02c8Q/r0go7O4cNH3EDs3LlTH9+2bbvb8WPHj+vjGEXOlj2727lI23nv/Q9k3foNAos0J1KlcmVdxrVr18klZXkVrDi9J8FeLyXGP3/+guqMt5NFi5cKOlGGKcqKdtRLq16Wps2fklNKQeeXxOnwhO0lv2gxEAmEncD111+vv7uwTsLgkJG9apYP6ij87d69xxzWv/v2xZ3LmiWL2/FI2/n99991XYT6COULWPjdChidiYj2QBM1ALn2nXUuJRzO/fvvvwIjmanTn5HuvfrofROHvyRAAs4JRLQiDsWpW7e2LtW6dRvcGpXOi+oeI9IrJPfcco8Ekp4A35GkZ84rJi0Bf5/xvHnz6oydOn3aLYO/xLs4+FUp3E6fOeM6d/p03HYeZcWdFibdESzTZ8yU8RMn6wa3k2xWuutOgZXVH6oz+OFHHzuJ6jOsv/fEZyKp9OTI0WPk2LHjahZBGmnS6ElZuWyJrFv7pqxYtlgaPfmE/adLEAAAQABJREFUwJrh3PnzMnb8JEeEskR4B95RYRiYBKKYQL74ughFMPUMtk1dpLf3/YIfLVDGnzl7Vm/nzZsn/mhk/pw8eUrXRaiPnA4M2ZWI3y07Kokfu3DhgsAdwZUrV+S6666TXj26y+pVL8g7b70uz86ZJVUqV9KJYABy5XMvJJ4gQ5AACXglEPGKuBoPVJMMGTLo0ZHvvt/mtSB+n4ifppGZDUu/kTFgKiMQ/46wEZPK7ntqKq7DZzxfvrgOjFXZBosjKKGM7N17tfNz+kycwi5vvjgFngmTkn4xJeXBmjV1kd5Ro+ZBi8N7EvT1UlgCeDa/+XarLlWzJo2lw9PtpGjRIpIlc2aJKVpUT0l77NFH9Plvt26Vs/Gdc18YjEUdlaO+KPEcCSQdAWudYuoZXP0XZfVmZO/eq9vnlVLF+PXKl4LrI1N2/PK7ZaXhfPurr7/RlpWIOXLYEHnk4Yckb5482qWBdsMxdrSULFFCJ7zp3fecX4AxSIAEXAQiXhEHXyb/u/ceneF31q13ZTzQDVgsY5pFpFspBFo+xiOBYAn8J3F2/VmyZA42KcYngYgk4PQZNxZxp09dtYizWiCgkNb9U6fiLOKs1guJgbgShBNkxDWdj8SuE8rzdeo8qJP7Xo2MBzWVSKXi9J74KgdG8lOC/PPPP/JvvIIysfKcOH5CbrutvP6rrvz22cm999ztOrzHojh2HfTYCOU98UiauyRAAgEQyKFcHVx77bU65im3+ujqQNC+/ftd9YG1zjL1WGKXDaYuQtrJ/f0N1XcLdWqwLBJjnVTnndQlv//+h65H7rrzDqlQsUKCLKL/fHeVyvr4YTVNFYsCUUiABAIjENGLNZgi1a1TW9597309/aVHty4SjKXOk080VIq4jCZp/pIACXgQwKIoeE9KFC/mcYa7JJAyCDh9xo1CzWoRZxRvsTExgo6P1SLhdPwUVhPPG7Uvv/pann/hRfnxp5/lL7WyZb58+eR21fBt376tXK+mhPiSnbt+kBdfWiWwxINPOlio5VfxK1QoL00aNxJv1x49drwcOnR1lbzf//hDX+azzVukfYdOCS7Zp3dP1+i350n4cYVT8G3bd8g776yXdm1bewbxe9/pPbEmjI7fm2pxAozOw38NfPOhw1q4cCGpU/tBebBWTT0t0xonVNs7lJ/AmbPm6OT69unt9bs5aMgwNZXstFSsUEGeVvfXKkuXrZAtn38ut956q7Rr00peVL7cNm58V00zPSYZ1cDhLTffpKcDPd7gMT3t1BrXbJcuXUqemTbF7Nr+pnW4SFWZUqV0XVCmdGnb9HiQBEgg6QnAOumg+oabqalQ1u/bf0DXAXCkj3OoEwrkzy/GnQKmpee+4QavmYUzfnx33nvvA+1fEotBxMQUlWZNm7iULt4iQ2EFX6NvrX1HrcB6UPujhCVugQL5pVrVqvLoI/Uls9r3FKzm3K1HL9fhv/667Npeumy5vPrqa659s7Fg3lyz6fU3mO8Wpu6/8OIq+errr9WK00flyuXLkkdNB45VLDC9/7by5bxeN9gTkVKXwAIOf76ECx76osNzJOA/gahQxFVQo7zooBxXFQs+9vUfqud/CT1CpqYVgzyKzl0S8IsAGm+dOz7tV1gGIoFoJOD0GUf9A7msGuXosMBh9t5f4iwQHqhWVRYtWaos4q5aJJjOjy+fPFhxFc7zrXJUKV7efHutfPLZZlm04FmvHSf4dXvtjTddUeETDMoodMDw97ZaQGH0yGGqA1XFFcZs7FdKw9179ppd1y/8wuDPU/744+r0W89z2MdAGRRx69WCSm1aPxWwwsvpPTF5gXK0S9ceAnZWQYcKf8jbmldek5kzpjpeLdSanrdtOBiHIhVy0TJV2TM8nhf4b7OzSkHetTJWdUS/VdNLzbOFNOCQHVNO8Qe/SYMH9ndZxHheI7F9TDky4s9Ay+23VxT8UUiABCKHAKaY4jtv6pmjSmEEqyRMRS9RvLg+h4EifFPNoBCUcN5WuDyglGc9+8x2W8QFbhcw2DNw8FC10nJTaasGCOwE36feffvrsOY86iPERz2Dv5fXvCLz587S/TgTBr+w0jLfTutxbONbib9AJNDvFr6xKC8UhFZB3xN/Wz7/Qg/qDBrQz3o6ZNvRVJd8HV+XFC5SOOD6KGTgmBAJRDGBqFDE4aNep3YtWaKW7H5b+aIJRhEXxfeKWScBEiABEkgGAlbrMlghQBFnLODuubuKrHjuedl/4KDuWCB758+d07n05pMHCpE/lCUa6rIHa9UQWIOdOHFSXl69Rj7+5FPtn2X+gkUyZNCABKV9efUrLiVc7Qdraaf8hQoVVFZgv8sXX34p8xYs1BYJY8ZOkKWLFyTo/IwZNVIrFE3CHTp31XmBC4h2bRJatFl9Epk41t+q998nzyiLMHQKv/zqK6l0113W02HfHjBwiFbCweVE+7ZtlPKxkmTLlk1PlX3t9TfkrbffkT179wosASeOHxv2/ARzAVhWwnKlaZNGUj3eP+4OpXx7adVqbXWJRTGwkny3rp0dXwYdydVrXtXxcK9z5MjhOA1GIAESSH4Cpj4ySjZTF90YGyuxsTE6g1DEoW4yyjpf3/EJk6ZoC2IomGBZ++8//yql/w5VlyzSA0/Pv/iS1KxRXYoopYunjFb1DBR26dKl08q6GtUfkFw5c8pJtTLzhg2bZPnK53R9Nlg5/1+orNnwfTOSSVnJYUEZI7BmhuUw5Ol2bXX+zblw/2KhCCxQACUc6tMO7dtJGcUivVoxfY9SJi5RVsvfb9umB5xujI3R1nHhzlMw6YezLkE9hAEuyMP1fVvOBVMGxiWB1EDg6hcxwkuLDgfmpf/440+yb9/+CM8ts0cCJEACJJBSCOTMmUPSq44GBB0bOL8+ePCQPgYrBPzBIu3w4SNaCWb8etlZPyENKOHGjRklfXr1UI390toRMqZ4jhk1Qu64/XYE0dMsPUfmcfz1N+Ms4TDqP7B/X31tWDpkz55NatWsIWNHj0QwbZHw2ebP9bb1v/z58+k4Jt/XxHeM4I/VHLP+Zoz3R2RNw7qdMWNGNf3ofn1orZqempSCe/Dz7t36kl07d5QGjz2iFY9QyhUvVkz69u6lpkU9rM/DmsGfBQqSMv921xo2ZJDuhBa78UbB1F+0fWbPnO6a8vq2mv5lZ7lol5Y5BkuL/oOGyMWLFwX3q327NuYUf0mABKKMgFGqmampxoI2NjZGoCSCmGPGR5xR3umTHv8VV25IYIGNKfz45uD7X69uHZkwbrQOCcu1tesSLsiDuvCzzZt1mKdaNteDQrC8g7IN12vZopnLkm737j2yX02ftQr6dNa6BhZ8RnLdkMvtnAlnzof6F64BUC9DJk8Yp32T51QKRawaCt+b06ZOcrlogMV5NEg46hJYOGJVW0iMWgSIirhoeBKYx0gmEDWKOPhEqFgxbooErOIoJEACJEACJJAUBGCVDT8xEFghHDp0WCvjMC0DSrDYmBh9DpYJZiU7dDLyqHrLTmCpUKVyJbtTqgNUWx+H353DR464hYGCD9PGocTr0bWL2zmzU+qWW7SFHfZ//Oknczisv3WVHzYI/Mw5VRIFk7ETJ0+4ohcsWNC1bd1oqPyqPdGwgf6zrnJrDRMp27B2M0pNa57QGWzTupU+dElNQVu3foP1tM9tTB3r23+gHsDEcwwryyKFE1q2+EyEJ0mABCKGgFGqGWs3WL9BYBEXY6mLcMz4NTVxcMxTunXppBX0nscxSAQFGASDTJ6SPl16XRehPqpfz95l0H3/u9cV7Yckqo9cF3SwgVXQIbDsM3W9NToG4jA9F3VJ5Up3uazfrWEiaTscdcn+AwfUNOR+ekAHPmzHK0WtGaCMpLIzLyQQTQSiRhEHqHXjV2jbuOndFLOSTTQ9LMwrCZAACaRWAvnyxinV0Pkx1gbo+EBiY2PU/3FWCMZKAaPp3hqpaOx7Eyy4YOToUXe/Z3GrlVXRU3bspgmZeNmzXa83z8VPkTXHw/WL6UzosMFScINaZCCppLRaTMCwfHbefG2l6HltTDPq0qmj/oO1R7RKJdX5g9Uj5ICyBPRH4Deqd78BeuoYrFQG9OvjWoXen/gMQwIkEHkEjKU1LHwxOGMUcbGxMZJfWZXBihmDRbDSNso6E8euNFCoeZP8+eKs1DzrIoTH9wiDSvgz3ybPdLIrNwFGzp87bzYj7rdc2bI6T6jDpkydrqfkemay0l136nqkc6cOXv3tecaJxP1A6hL4JOzeo7ecP39Bu36AhSAWBqGQAAkER8B7byC4dMMS+9577tYryWHEfbMaebeOtITlgkyUBEiABEiABBQBY1EARRsWbYDExsao/+MsEfC7d+8+5WsnzveWmT6E404kQ4YMruDmOq4Dlg1M9cHCDvAFc0r54zl39pz88++/OgQ6E0ktsIrDAhSYwgSrgaQQrMSHxQvg/w1Ov5s/1Vo7K8fKdhXV6rPly5W1tfRIiryF+hpQwhbIX0B3hODvzR9ZtmKl7Ny5Swft26eXnubqTzyGIQESiFwCpi7ClFF8C44oy2nUG7AKxncCq53ie4ipoK6pqfnsrbMTK2WGDHFKur8u/+U1KJSBX3zxpRqE2aQXWEB99KtauRpW3dEid915h3ZjAL+isDjGwoCwCERdAjcQWLna6t8uWspll89A6pLxEybpxY/g9mG6UsLB9QOFBEggeAJRpYiD08waNR6QV159Xdaq6alUxAX/ADAFEiABEiCBxAkYxRqmphon2cYfT6zq+EB+2feL8psSN5XHdJYST9lZCCjZho8cLZ98+pkrIvx+5VK+ea69Nk6Jh2lEvpR4rogh3IB/uvkLF+spkD/8+KPquNwcwtS9J4VVazEyD2fan3/xhfYZB79xq9TCF7BIvEcN4LVo3lTgcy3aJVeunLoIxsolsfJ8+NEnOgg6lGb6cGJxeJ4ESCCyCdyg/KfBJQIUcV9/8622ioNFMhQskBg1PRWKOHyHoRCD+LKI0wEC/A9Kt569++mVWk0SmEoPX6TIIxZ+wJTGaJAe3browRssMAErw2+3btV/i5cu0ytuY4XwJo2eSBEL3TipS1DfYEEOyOOPPUolXDQ8zMxj1BCIKkUcqOJDCEXcl19+pU2u4RiUQgIkQAIkQALhJGAUa2iU/vZrXOcmNn5qKjo5GCk+fvyEmjZ4UGfDhA91niZNmaaVcBiYaqw6BY88XF+vpGm9Tpt2TwucKielYBVO+L2DghCLNiSVIg5lvFlZK0yaMFYvxoAVadE5/Ub9wT/SBx9+JFjlrX/f3mr19ThfdknJJZTX+i2+U51Nrdrrj6CTDClVKmmUov7kiWFIgASCIwDLLKy0DWs49IUgxk1C3HYMftQq1l/rX/wXjvoIi7/06TdQK+HQF8PiDFhdFQNDRrAAQu16cQvmmGOR+gsfmlgFHH8H1CroX32j6hJVn3z3/TbBgjerXl4tWCxn5oxprsVzIrUsieXLSV1i6hGkybokMbI8TwLOCESdIg7msCVLlNCj3jAfbtGsqbMSMzQJkAAJkAAJOCRgLApgbWZWnzT+3NCAj1VWCLt++EGNoH+nU86XL25xB4eX8Rkciw1sVNN/IG1bt9KKOJ8RkvgkFF1QxL333vvSRa1imtiKq6HOHvzywTIPf5Bvvt0q02fM1B1FKDDLqamqofZrc13W61zF+FN1TMMpx0/EORSHHyh/BBYemB1WokRxf4IzDAmQQJQQgM9SKOIw6ACJjY1R/8eJGSAy5zBIYnV5YMIF+7v1u++1awSkg9W6MSCSUsSs0goLsDjfp5tk5uy5emXVwUOHy8svPhfyokZqXZI3T169AjkKXLJkyZCXmwmSQGomEFWLNZgbVTd+Vbl16zZElQ8Ck3/+kgAJkAAJRBcBY1EAJRwEfniggDNipqdilUqIUdyZ86H43bVrl56GhLTKl49zLm2XrvEVZ3fO8xj8rEFMuTzPO9mHM2tMeYHC8CNlhRZuWb3mFZkzd57Ar4+dVKxwmwwfNkSf+lf5z/tOdRxDLZiCZQTO070JpmgFI7BwNL7hsACFP1Kvbh15qF4dufkmdp784cUwJBAtBEx9ZOob4yYB+cegEMScM2H1wRD+t2PnTp0aBly8KeGc1UWZXLkLRX3kSiyRjSvK3QPqEfx9EW9haI2CBYEwG6tt66f0Ye2X7+hRa5CQbEdqXYI6HfUI/jgLLSS3momQgItAVCriqlerqkd3jqgPIUyGKSRAAiRAAiQQTgK5c9/g8sGD61inAmHfWCFgGxIOi7hrM1wbl7j636yU5zoQv4GpmN7OeYbFfuHChfXhPUrRE6xzbfgEerBmTZ0e/LiGW/YpZ+TwBYdFIjB1yE4yWaZJGaWjXbhAj8HaxFj+GQsUz7Q+V47MT5yMs2bzPGfdhz+no8fcV8rFedyX555/QQfFtLRaNeIs/qxxuU0CJJB6CBifpabE1vonT57ckiVLFnMqLHUREjf10SW1OjP6Y3ayeMkyu8O2x/IoFw/Gcm/Pnj22YcJxEL5EP1ULAKIuwQI33urBjBmvKgozK1cUoRbWJaEmyvRIIPIJRKUiDo5A/3fvPZruO+vWRz5l5pAESIAESCCqCWBUHAsiGImNjTGb+tdqkYAD4bBCKFmyhPZFh/TnLVikp4FeuXJFW8kdPHRIT50ZOWoMTmv5/fc/zKbXX6wGBzl0+LDMV2laF3k4efKUywrLawIeJ+rUifPD9v227V47Zx5RAt6t/WAt7RD8L9UR7NWnn+z95Re3tPbt2y9jJ0zUx+BTD6uohlpgFVlHWUtAoARdr6YOm47cpUuX5NXXXpdhI0b5dVmw792nvxhLE0Q6d+6cYFot0oZUq3q/doSud3z8hzxgKlX3Xn0EU8goJEACKYeAtX7Joqya8+ZxXxXVWMWhxOGwzka6Vqvs4SNGy08//6zrIliYbd+xU/oNGOxmrextsARpQbDYxE2qjoO8o2Y8mW8e9mHRDL9txrcZjoVS6sXPtMIq0+MnTpYzZ9ytmzdv+VwtCLRMX7JE8WJhWbAhUusS+FrFAlFDh4/0a0AplPeFaZFASicQdT7izA2BmfC7yg8NnDD36N5VUBFRSIAESIAESCBcBOCXxzgu9lS8WS0SrlfO9K0Oq0OVH6TZt3dPGTVmnFy4cEHgqwadF1iiofMDuSFXLsmYKaPAl90x5UMoMWnc+EmBv1UsQvHCS6vkZTXdM0f27LrDA0sHrLbZv1+fxJJxnS9cqJCUvbWMbNu+Q95Riza0a9vadS7UG7eWKS3wgwY/cFglsFWb9gJrkGzZsun7dP78BX1JMBo2ZFBYOk+4QEu1Kuumd9/TzMaNnyhTp83QFilQokEh9mCtmnLixIlEFWKwrDt//rx06tJdT/GFBcaRI0dc2NAB7Nyxg2vf1wZWjl3zyqs6SBpJI7eVL+crOM+RAAlEEQGrci0mNiZBzlE/GYU+6q1wSLmyZaV+vbry5ttrtd/udk930itVYzXXf+GcUgm+0bt++FGv8OpPfQTfoh07ddXhofyBUiyrsu47r+o7+GobPLC/ywdoKMvUtHEjbUmO7/j6DRtl46Z3pUCB/NrqD/k203xRt4wcPiyUl3ZLKxLrEvh8NUpR+GnHohwUEiCB0BCISos4FL3CbeWVuXU+wUg4PhIUEiABEiABEggnAWvnx6p4wzXhRwXW2hCrtYI+EML/qj9QTaZOnuByzo0OD5RwUNLBJ9jihfOkcqVK+opQBB08eMjn1TGINX3qZLlN1akQdHaglIMSDtObblBTcp2KWZ0UHRpYMoRTHq7/kCxdvFDurlJZT2uCFd/u3XuUQuuCYBonrOefnTtL7vvfvWHLBqYULVk0X+CTDlYNaJfAXxyel6daNJeB/ftKdqXcTEyyZs0qc+fMlDvvuF3OnT3nUsLhucJqhLNnztDPWWLp4HzRIkX0whRQ0la66w5/ojAMCZBAlBCw1jGeg0IoglU5Z623Ql28Xj27S09lDJE9ezadNOoi1ElYOKd92zYyY/pU5cYhRp/zxzIXq21PGD9WCsQvSAOrYlhkoV7CIEs43AvozKn/hg4eKBPGjdELAuIYBrNgZQ0lHFZFf7zBY7J4wTzx10enSdfJbyTWJWXKlBHUTWgrWK0gnZSLYUmABOwJpFGjtXHDFvbnXUfPnosbWc6ZI+5j6zqRjBuYy79k6XLBh3v+s7OTMSe8NAmEjkAkvmuhKx1TIgERPuOheQrgU+yQUrTBr07hIoVdvsoCTR3Kq8NHDgsWFoACDoNdsCZzKug8PfxYQ70AxKQJ45Qi6E6nSQQUHh3Ak8ryDMo4KEbRAcWU4qQUOBnff+CAtkzMnTu3X5ceq6zoNqgprbBmfHXNKh0HFo/wFwcFa0xR94VB/EpUBULzDiu5csaAv8QYjgQCI8A6TbQV8rFjx7VFMuqjQOoOQx/fLvjVPH78hMCtABSP+KYnlUChePTIUUEdC4tCuKUIpjyB5DuS6hK4wMA9MT78AikP45BASicQSD2QtC3UEN8B+IfZtetHnSo6EGZEJsSXYXIkQAIkQAIkEHEErleWUqVLlwpZvlCHhqIehfKoRbOmAj9xh5TvuqRSxKGjBOUh/pJLYDmBwcFgBVOg8BeMwDqPSrhgCDIuCZCAvwQw8ODv4ENiaeLbBeWb1fIvsTihPI8FHIoWLRLKJB2nFUl1CZShFBIggdATiGpFHJyTTpowNvRUmCIJkAAJkAAJkEDABJo2aST4o5AACZAACZAACZAACZAACbgTiFofce7F4B4JkAAJkAAJkAAJkAAJkAAJkAAJkAAJkAAJRDYBKuIi+/4wdyRAAiRAAiRAAiRAAiRAAiRAAiRAAiRAAimEQFRPTU0h94DFIAESIAESIAESSKUEbipZQq/MB59/FBIgARIgARIIhADrkkCoMQ4JJB+BqF41Nfmw8cokED4Cgay6Er7cMGUSCD0BPuOhZ8oUSYAESIAEkocA67Tk4c6rkgAJkECkEAikHuDU1Ei5e8wHCZAACZAACZAACZAACZAACZAACZAACZBAiiZARVyKvr0sHAmQAAmQAAmQAAmQAAmQAAmQAAmQAAmQQKQQoCIuUu4E80ECJEACJEACJEACJEACJEACJEACJEACJJCiCVARl6JvLwtHAiRAAiRAAiRAAiRAAiRAAiRAAiRAAiQQKQSoiIuUO8F8kAAJkAAJkAAJkAAJkAAJkAAJkAAJkAAJpGgCVMSl6NvLwpEACZAACZAACZAACZAACZAACZAACZAACUQKASriIuVOMB8kQAIkQAIkQAIkQAIkQAIkQAIkQAIkQAIpmgAVcSn69rJwJEACJEACJEACJEACJEACJEACJEACJEACkUKAirhIuRPMBwmQAAmQAAmQAAmQAAmQAAmQAAmQAAmQQIomQEVcir69LBwJkAAJkAAJkAAJkAAJkAAJkAAJkAAJkECkEKAiLlLuBPNBAiRAAiRAAiRAAiRAAiRAAiRAAiRAAiSQoglQEZeiby8LRwIkQAIkQAIkQAIkQAIkQAIkQAIkQAIkECkEqIiLlDvBfJAACZAACZAACZAACZAACZAACZAACZAACaRoAlTEpejby8KRAAmQAAmQAAmQAAmQAAmQAAmQAAmQAAlECoF0/mbk4sVLOuhZfyMwHAmQQEAE+K4FhI2RoogAn/EoulnMKgmQAAmQgE8CrNN84uFJEiABEkjxBEw9IDmy+V1WvxVxSPG///6Tf/75x+/EGZAESMA5AbxnEL5rztkxRnQQ4DMeHfeJuSQBEiABEkicAOu0xBkxBAmQAAmkZAKoB9KkSeOoiH4r4jJlyqgVA9dff52jCzAwCZCAMwK//vqbjsB3zRk3ho4eAnzGo+deMackQAIkQAK+CbBO882HZ0mABEggpRNAPXDNNdc4KiZ9xDnCxcAkQAIkQAIkQAIkQAIkQAIkQAIkQAIkQAIkEBgBKuIC48ZYJEACJEACJEACJEACJEACJEACJEACJEACJOCIABVxjnAxMAmQAAmQAAmQAAmQAAmQAAmQAAmQAAmQAAkERoCKuMC4MRYJkAAJkAAJkAAJkAAJkAAJkAAJkAAJkAAJOCJARZwjXAxMAiRAAiRAAiRAAiRAAiRAAiRAAiRAAiRAAoERoCIuMG6MRQIkQAIkQAIkQAIkQAIkQAIkQAIkQAIkQAKOCFAR5wgXA5MACZAACZAACZAACZAACZAACZAACZAACZBAYASoiAuMG2ORAAmQAAmQAAmQAAmQAAmQAAmQAAmQAAmQgCMCVMQ5wsXAJEACJEACJEACJEACJEACJEACJEACJEACJBAYASriAuPGWCRAAiRAAiRAAiRAAiRAAiRAAiRAAiRAAiTgiAAVcY5wMTAJkAAJkAAJkAAJkAAJkAAJkAAJkAAJkAAJBEaAirjAuDEWCZAACZAACZAACZAACZAACZAACZAACZAACTgiQEWcI1wMTAIkQAIkQAIkQAIkQAIkQAIkQAIkQAIkQAKBEaAiLjBujEUCJEACJEACJEACJEACJEACJEACJEACJEACjghQEecIFwOTAAmQAAmQAAmQAAmQAAmQAAmQAAmQAAmQQGAEqIgLjBtjkQAJkAAJkAAJkAAJkAAJkAAJkAAJkAAJkIAjAlTEOcLFwCRAAiRAAiRAAiRAAiRAAiRAAiRAAiRAAiQQGAEq4gLjxlgkQAIkQAIkQAIkQAIkQAIkQAIkQAIkQAIk4IgAFXGOcDEwCZAACZAACZAACZAACZAACZAACZAACZAACQRGgIq4wLgxFgmQAAmQAAmQAAmQAAmQAAmQAAmQAAmQAAk4IpBqFHGNmjSTGrVqy6HDh12AsI+/S5cuuY5xgwRSK4EjR47o9+HJRk1cCL7ftk0f69y1m+sYN0ggWgkk9zPerMVT+n0aO258tCK0zffOnbt0uR57/Anb86nlINsZIgMGDdbPgmlfWX/btGuf5I9CsPckub8ZSQ6MF0wVBDZuetf1nh46dChFlfmFF1/SZRs5akzUlivY71bUFtyS8VDWJeRpAcvNiCKQLqJy45GZw4ePSO8+fUXSpJHZs56R3Dfc4BHC+W5alZanXHPNNZ6HuE8CqZZAmrQJ9fN8R1Lt45AiC+70GW/espX89ddfjlncGBsrE8aPdRwvWiOkTZuwfo30srCdEXl3aOPGTbJoyVLJmzePzHpmRkgyGGzbz+k3IySZZiIk4EHgzbfelueef8HjqH+7/fv2kYoVK/gXOAWEisb6yBN7sN8tz/RS+z55pvYnIPLKH9GKuEKFCkquXLlk9549skmN3jRp3Chggv/995+OmylzZv1r9tOlSyfp06cPOF1GJIGUQiD+FZHMmTK5imTek8yZ4t4b1wlukEAUEgj0GT937qxSxF12XOILuXI6jpPUET748CO5cvmyFCxYUEqXLhXQ5c13ImPGq9+OgBJKhkhsZ4QWetfOneTPP/90S/TZ+Qtk+/Ydbsd87VSqdJdMf2amnDt3TmBtGehziWuYZzPQtl+g3wxf5eM5EgiUwMWLF/V7EUj8y+o7H8ny++9/yObNm3UWy9xaRgrkzx9Qds07n9HSlg0ooWSMZMoQ6HcrGbMeskuHoi4xmSFPQ4K/kUYgohVxgPXgg7Vk9+w9smHDRmnc6EllHBfciHuWeEWcuRFZslDBYFjwlwRAILPHO4JjfE9AgZJSCDh9xsePHSv//vdvguJPm/6MHD16VMqXLyfNml6d0m0CZooCxdSs2XPkt99+k1o1awal8ECZs2TJYooeVb9sZ4TudkGh6ylZs2b1PORz//rrr5cqVSrLxx9/IuvWbwj6ucTFgm37Of1m+CwgT5JAgASqVb1fbr75pgSxobBeumy5Pt5PWb7lyZM7QZjYmJgExyLpwKlTp2Ty1Gk6SyhDoIo4U6ZorY9M/vEb7HfLmla0bYeiLvEsc2rm6cmC+5FBIOIVcdWqVpX5CxbK0WPHZNv27VKubNnAyKlhTUyvu/baa93i2zWu3AJwhwRSCYH/JM5q1K3xEnfIVjmXSrCwmCmIQKDP+K1qdN5OMmXKqA/nyJ498LrJLuEoO3aVa3QObLGdEXkP3IO1ampF3MeffCKdO3WQTIFatwTZ9rv6bFuUzKwXI++BSSU5yp07t+DPU/744w/XISjqChcq5NpPbRvG+slT6RJVHIL8bkVVWZMis+SZFJR5jQAIJHQGFUAi4YySNWsWuefuu/Ul1q/fGPCl0G6yKt1cH+ooHcEPGAQjkoA3AqqigvA98QaIx6OeQAQ/43///XfAeBHX1GkBJxJMxHjFRJbMFmVFgOlduXIlwJiBR4vUdkYwz4ShEWwaeK7++ecfk1yS/d5esaJWOGAq3kfKMi5QCbrtF8HfjECZMB4J+CIQ7DcjOb7hduUJdiYHvn3BsrDLlz/Hgv5ueVwk2HKEoh5APZJc7ZRQ8/TAy10SCJhAxFvEoWQYGX3/gw/kk08/kS6dOwY0/eWhenUlrcUJPaa4Pt6ggeTPlzdgeIxIAimJwHXXXaffiZIlS7iKhekNeE8qVCjvOsYNEohWApH2jH/99Tfy0qqX5efdu/Xq3flUfVThttukTetWgrz6kh9++FFWrV4t+37ZJ8dPnNAW3/ny5tXTZJ988gnJmyePbfQJEye5rR5uLCk+/+JzsVsduUf3blKieHHbtMzBG9RCSvhOFC92oznk6PfzL76Q119/U/YfOCBnzpzRfioxLeXOO++Qho83CKjOd5QBFThS2hnfbt0q77//ofz0889y8OBBwbTOmJiiUvX++6RunTp+uefAYgdbPv9Cp3H69GkpXLiQ3FSypNSsUUM/H4mxgT/E1WvWyI4dO3UaWKikmLq3JVUajz/2mOTPny+xJII+jzZazRrV5fkXXpT1anoq7k8gEmzbL9K+GYEwYBwSSIzAr7/+qt75V+SDDz6Uk2qKKCxQixYtIk0aNRL4bPQlUK588OGHsm7dBjmoVmA9e/asHtDFd+L+++6T+vUfcvM9bNK6dOmS9O7bz+zKZYsf1hUrn5PX33jDdc5szJk102x6/b3llpt1fVSqlHOfp+fPn5dVL6+Rb779RruduHz5iprmm0diihaVhg0bJJnle7DfLcAJti4JRT1w8uRJ/VyhPtu79xfJkCG9lCxRUrsbeKLh45IxY9ysAq83M0QnQsEzRFlhMiTgRiCN+oDGj2W7HU+wc/bcBT0qev31vjsHCSKG4ACyiFXrTqjORvduXaVe3TohSJVJkEBkEvj11990xpLjXYtMIsxVSiOQUp7xDp0668YllCSDBg5I9DY1a/GUrsfuv+9/2toHHR87yZEjh8ydPUtuuCGX3WmBXzesnmcESgtrVY5FiIYNGSyVK1cyQVy/Js+uA4lsTJk8MWydD4yQjxg5WqCI8yZQhEwYN1Ypga4OEHgLG8zx5G5n4ProfELxZL2X1jIVL15Mxo4eJTlz2i8CgkUSpk6bLh9/8qk1mmsbzwkWvWrRvJnbwKQrgNo4dPiwjB4zVvbt22897NqG64JePXvI/+69x3UssY1hI0bKli2fS5EihWXxwgWJBXedP3bsuLRs1VrzWLJogVIoFnad4wYJRBKB5K7TNm/ZIsNHjNJIlixemOjU1I1qAbzJU6bq8COGD5M5c+bKKaW0txN8M1o91dLulPypLFYHDBwkGBgy4lkfoT6b9cx0tQqyu+EDBoEeeexxE82v300b1vkVLpBAW7d+J/hWQUHoTTA40LdPb2+nI+J4KOqSUNQDX3z5pUycNEX7oLUDg+/50MGDJDY2xu607bFA6xLbxHiQBEJMAPUA3KDlzJHN75SjwiIOH3WMhi5fsVKPjFIR5/f9ZUASIAESIIEII/D1N9/qlSVRl1Wv/oDkVhZlJ0+ekldefU0+/ewzvSreoiVLZEC/vglyjjBGCVezZg15smFDteJpAfn999/lq6+/loWLlmiLhAmTJsuCeXMTdH5GDBsqGOU30q1HT0GHCC4g7DpbefPaW9aZ+MH8Lly02KWEe/SRh6VOndrakg+rZX7y6Wfy3PMv6Eb8iJGjZMH8Z7V1WDDX8xU3udsZS5Yu09aRyCMsUPBs3HLzzXL+/AV57/335eXVa2TPnr2C+zpx/Dhbyzh0xL/7/ntdTPC8XymICynLQlgjvP76G/LlV19rRR9WT2zfrm0CHHiGevTsLbCOufbaDNK6VSupWLGCchieRXbs3CnLlq+QI0eOaEXdmNEj5a4770yQRigPwKIGfoFRpvVqwa52bduEMnmmRQIkoAhMUQskwM8pFEylbrlF/v33X7Va8U5ZtGSp/hasenm1VH+gmq0iHBbWUMJh8Oepli3kgWrV1EBBDq3U26SUfRhYwPd8xKjRAms268wkuEGxKuYPHznsUibCKrxK5cpJdn+wUMTI0WO0Eg7W2G3btBJY1GVIn1727N2rB0mw8jMUmDFq0QtYakeqBFuXhKIe2LZtuwwdNkIPouA73qplS7n11lt1uweWeovVs3VIWU/26NlLli5drBQXOSIVJ/NFAmElEPE+4kzpMQqBhjIalPv37zeH+UsCJEACJEACUUUAlksjRwzTFt6lVWMfU1/KlCktw4cN0YoPFOb99z+wHZl/6+21uqwVK1SQvr17aSsjjMBly5ZNdZYekJHKugGCa2B6oqfky5dPx4F1Ev5MxwiWTuaY9ddzgSPP9ILZf19Ng4I8UK2qdOrYQU//wZSoAgUKyJNPNHRZHsBS4ys1jTfcklztDJTv1dde18WrqlZFxD2Ekgurh+JeQEHas0d3fR5WG1988WUCFLCIMUo4KNnAE51qpHHH7bfL6FEj9fRWRHxNKeWOHz+eII2Vzz2vO97oVE8cP14ee/QRKVqkiLbMhBXnM9On6n1EXLBwUZL4jsOKtpBN776XJNfTF+N/JJCKCBQvVkzmzpmlp4IXKlRQf3Nq135QRo0crinAchmKcE85ffqMtnTF8ebNmupvNqy4UafANQJWEodyDoJBhAMHDupt8x/6dNa6Jn++/OaU5MqVy+2cCecKEOINWG8ZNw3jxozSA1NQDsE1QPly5WTShPEuFw3r1q0P8dVDl1wo6pJg6wFY5M2bv0Ar4VCXz5g+TVCv4dnAfXzk4foCS3u0LWBRuVwN8FBIILUSiBpFHDoqFSrcpu8TlrOnkAAJkAAJkEA0EsCU0Up32fvdqR2veEBj9ujRo27Fw7GnlZIFSjysJGknWDEPFnaQn3762S5IRByD/5kLFy7ovKCxbif33F1F+/pp8Nijyior/CuyJlc7Y7WydoOVGhSquL9GOWplAiUh8gfZuWuX9ZTeXr58pf6FNcfjDR5LcB5pPt2+nbZcgePuF15a5RYGVivG0hLWL6VLJ/SvBGVvixbNdbyDBw/Jhx997JZGOHZgqQklMfKHzjKFBEggtAQ6dnza1lcXBomgOIHAEtZT0qdPp+si1Ed1lTWzndxrmcIOQ4pIFVikQzAIYb6z1rxqiz81IIK66K677ozYQYFg65JQ1AObN2+R3Xv2aHzNmzWxtXaDz9Ja8X4/oeQ9oXzJUf7f3l3ASVH/fxz/0KWSgqCUioBi68/8KyoGdmB3AXYrodIGYWCBCmJhd2FityKohEgoJdICUqL/7/t7N8vu3e7d7t7u3u7d68vjuN3Zme/MPGdvvjOf+QYC5VEgZwJxOjiHHZr3ZFTNNEo6Akx5PNjsMwIIIIBA6QtUcRf7sZJqrAVJfWSFJ9UgUBBPTXaK6i9rk9qb+MWWLlsavnhWvVbTx6Dft1defc2+c811C6a84NEF1rVLZz9wQ8HP0/G+NK4zfvllqt8V1bxQTZBY6aYbe5iahO6/334RsyiINyO/pYC68dD3JFpS3nu4ATCUCgZpp0+fEbquOrxj9JtqLafgqGrZKWXixlrfkwPat/fri1Yrx3/AfwggkLRAPOVRwbJIK1NgXmWRfvQ6Wqqdf67QZxoIIVvT9tu385ume8s77x7qawYX3Nb/7b6bL4v0QEMPTbIxlbQsSUU5EJQLqt2uwTpipSNcrUslNYVWjUkSAuVRIPbdQBZq7LP3Xn4kuWXL/nJNbr60/9s3/s6Cs3B32CQEEEAAAQQiBKpWqRp6v2btmtDrgi904frGm2+55j6/+f549CRbF7RKufKg6lrXtPaaa6/3NeO69ehpCkLutOMObmTPndzosTuZOvnOdCqN6wz1jaTUpMmGplnR9rtN69bRJttsV1tFtSWVmm6xRdR5golb5H8+x61TywRBO412GCSNshorKTiq7VQ/curjJxNJtURff+MN+/rrb2yx+57Tn1Am1FkHAub6SMsrj9a4YH+spPPI1998Y++55uN//DHfl0fLly8PnZNiLZdN09V8X6O7vuoeCmnU6Q8//Mj1EdfW91GpbiBat94mak3lbNoHbUtJy5JUlANBHo1dea6ahLHS5ptvKGfyypK9Ys3KdATKrEDsv5As3OUqrtNM9SXz8iuv+kEbCMRl4UFikxBAAAEE0iagIFv/AbfYZ675R5CqV6/ua1Kp9pDSnDlzfVPH4PNs/a3+xx64/1572jWTVJcT6rdsjH5cUxUFiDRYwamnnhyzGW869ivT1xl5TXT/8rsSq1ZJcfsZ3t9bUTXqlE+D/GbLWq+Ct8EIrEEe+g6pX6SiUoP6avo8JWo/c0Utl+xnqjnZsmULP5KrOoBX/4EkBBAofQH1SXbDDd39aMvB1uj8sdlmjXytsX/X/2u//f578FFW/7704otsRzegwBOjR/tzzQ8/jDf9aKDAjTaq5VplHWYnnXhCqTwgigculWVJScqBoCwprizSOjQquoK2wTLx7CfzIFCWBHIqECd4PRlVIE4dN6ujUHX+SEIAAQQQQKA8CNx5190+CKeA0UkndrKjjjyiUHPGrhdfYtOmTc8JDvVnd9mll7hR6s6z8RMm2Pffj/M/unmbOGmSH3lNo8Nee/VVodpb6d6xTF5n6GZETXhWuU6rV7oBNpJJ9erWCy32l7upKSrppkdJTauCJqZ6HwTkdDO3Zs0a35G2pkdLQR6ZrLHY0XVNcv+w4fa2C9ISiIt2VJiGQGYFdM7q0eNGH4TTvdjpp53mR1fVg6EgaQCEY4/vFLzN6t96+LPffv/nf9QH5nfff+/LogmuXFqxYqU9/8IL7oHRGBsyaKBttdWWWbcvKSlL6uWVJSUpB1QeTbPpPsBWFJIGAdGgUkqZLEuK2iY+QyDTAjnVR5xwttxySz9yjapCv/Puu5n2Yn0IIIAAAgiUioAuWjV6pJJGo9NPcU+dS2VDk1ipglEawEKjfT780HAbOeKhUL9waioU7HcSWSe8SKavM7ZwAywo/Zlkh9XhTUmLq1kQfN64cWSzoYg85s8v0izIo1nTvI7ci5w5RR8e5AaQUDOnWbNn288/Fx6sIkWrIRsEEIhTQA9OZrquEZR6u5Gejzzi8KiDPsSZXVbNpkEqjjv2GDfadG974fln7eqrrvQPTBRY7NWnb1Zta/jGpLQsSbIcCMqSeVFG5g7f1oWuNqWCcUqZLEvCt4HXCJS2QM4F4gQWDGevJ6NBvyilDcn6EUAAAQQQSKfApEmTQ2XeDjtsH3NVQV9xMWcI+6CmC4AprVq9Kmxq+l9++dVXNvzBh+zBhx4O9W0Xvlb1ddbH3dwFzTW/Hzcu/OO0v87kdUbz5s39/oxztQFVyyRWGjnqUdcs+VbfN2D4PBpVNBgp96OPPw7/KOK1ajkEI4+2aN4i4rMW+dugiR8VMRqqOuIORrhr0SIyj4gMU/xGtff2dv0EK415++0U5052CCCQqMDEiZP8ItWqVTONghktJVQW1cwri5RPUefBaOspyTR196CySD/ffPttoaz0AEC1pPXgS2m+C1DNnTev0HzZMKGkZUkqyoGgXNCo6ArWxkofffxJ6KNgmdAEXiBQTgRyMhB34AHtrWrVqv5EOOHHH8vJoWI3EUAAAQTKs0BV14wxSDNmzAxeRvz+2F3cxvosYsb8N1vkd8w/ffr0UJAv2nypnrZy5d+uqc+L9tzzL/jmP9HyV/PJqq4JrlIQMIw2XzqmZfI644Tjj/PNbv92QbiXXn4l6u6oFtpzzz1vCrRVrlyp0DwndjrBT5sw4Uffr1GhGdyEV1591Q2MkdcfXacTjo+YpUmTJqaBKpRefe01339cxAzujR58PvHEaD+5thuZ9+AOBxWcJa3vNSKskm7gMnmjntadInMEclRA92FKasoeKzA1yvWvFm9q2LChv7fT/NOmZW4UTQXaPv/iS18e6fwWq4JHeJPbGmHNb+Pdv0zMV9KyJBXlgMpONVVWkmdQ6y18/9W9wcv5ZZ0Gw2jZskX4x7xGoNwI5GQgTh2B7rPP3v4gjRnzTrk5WOwoAggggED5FWi19da+eYwERowc6fuKW7dunb9xUJM99aHV/5ZbQ0ArVqwIvY71IqjJMHv2HJfnIxGDPCxYsMA//Y+1bEmm777brqFaXLcNHGiqIRd+A6SA0ZA77vIj8Gk9u7n5M5kyeZ2x9dZb2QHt2/vde8TVenv6mWd9n0TB/v4wfrzd0L2nHw1XTUr32Tvv+if4XL+POupI2zy/ieuNN/cyBWSD0XMV4HvKDYjx8IiRfhENdLXddtuGL+5fX3jB+b75p+yvvOoa++WXqaFjsnjxYj9IiI6T0plnnG6qiVcwzZv3h++fUH0UBj9qzqWk72owLfgd1K4rmE+097vtmvedURAuvDZFtHmZhgAC6RXYcYcdQivo3/8Wmzo173yh846aj/e86WY/CmkwU3Hlkfpoa9Vqaz/72647Ap3DgqSadeq3rbg8gvkT/X14x8P8IuqXdPCQO0znu/Ck854GbVBS/3DZ2qdZKsqSkpYDqiF57jnneCuVXTf37hMqxzVx+owZdtXV1/ppOuadO1/g5y34XzrLkoLr4j0CpSVQwV345o15X8wWLF6yzEe1N9lk42LmzMzH48b9YNd36+46FK5qzz79lNWsWTMzK2YtCKRZ4K+/lvs1ZMvfWpp3l+zLoUBZ+Y4HgyIc0H5/69G9W7FH8oyzzvGBrfb772c9e3SPOr9qs3XuepH/rHu36+3AAw6ImG/s2A/tlttuD03ThaxqjgVBF/UZpyf3c+bM8TcLzz6dV4MptECBF+p37vwLO/vBj/SRagfUqVPbdbS8wtd0UC2ka9xACelICvRcd0O3UIfNGkGtYcNN/boVBAwuT9RXj/qOy3TK5HWGOgO/feAgH5DUfuq4buGa56rmwNKlS/2u16lTx+4YPNCaxuibTf019es/wN+wagHVWNHohQqyBk3EVPuge7cbXJPfTXyeBf/77LPPbZC7EQ2CZzomGjFQN0VB6nTCCXbhBedZxYqFn+V269HTvvvu+2DWYn/vv99+dmPP6H8L0RYe9ehj9uTop2y7bbe1u+4cEm0WpiGQcYHSLtM+/+IL69W7r99v9a+ppv1FpXfc6MODBuf9/Yx8+MGY55Q+ffvbp5995oP8o0Y+XCjLu+4eGtFUXuWHakAF524F/CdPnuKnFVXuBRlPnjLFLr/iqtDyKssU8FczR5VxN1x/rRsQ4qBg9pT+vu32gfb+B2N9njq3NW7c2Kq5c6hqI+thhpLOm3ffeUfooYefmGX/paIsKWk5oOP/2ONP+HN18F1o5Go8rna1J3UsldQv7JVXXFboGifgTHdZEqyH3wikSkDlgK7H69WtHXeWha+i4l60dGfcaacdrVGjRu5GYa194G5MSAgggAACCJR1gQMOaG+33TLAWuT3z6WLXN2g6Ialo3uq/8B999ge/9vdMyxZssRmzZpVJIkeYg287Vbbaccd/XzKSyOSq7mRboAauFFN05W22aaVPTZqpO8UW8EeBZ1UU0qDFmi/9PlNN/a0i7p2SdcmFJlvJq8ztP99+/Tyo8fq2CoQp2OnIJyOkZqSPjLi4Zg3zNoR9e9z3z1D/Ui6m266qa/dqFokstSN+fnnnWu33tI/ZhBOeai1wQP33esHzlCtQB0TBeF0g63joc7Lu7gaDNGCcFo+3enQQw7xNj9PnOgHbkj3+sgfAQRiC1x+2aV22SUXh/ryVPmh8029unXtvHPPscEDb7cWLfL6wBw/4cfYGeV/0qZ1a+vfr68Lgm3mp6xevdoWLVrkyzid02rUSF+li243XO/Pb6p5rqSHWaq9pSCcgkbHHXesPzcGNY/9TFn4XyrKkpKWAyq/zj7rTLvt1gHWpk1r/1BItZ8VhFN5tpur4X7fvUNjBuGykJVNQiAtAjlbI04aTzw52lcV1on7nqF3pQWITBHItEBpP1nN9P6yvvInwHc8NcdcQRI1Sa1apaoL0GzhaohXK1HGukie7W4+VHuqQf0GvjaVLqgzlRR0mjN3rtVyF+qbbbZZVozAV1rXGboBnTnzN1ersY6rJdjQB58SPQ7yVBCtefNmSbcaUN9Pqh3X0gUHFYzLhnTd9d1MTZ5OPulEH7jMhm1iG8q3AGWa+aaGqj1We5PavjwqSdmhYN6frlb0/D/mWxXXT2ijRg2tXr16GfuSKaA4d+48/yCioVt3A1fTvCT7k7ENj7KiVJQlJS0H5Pnbb7+b+rnVyK65ahmFl0kIhARUDiRaIy47rqpCu5DYi0MO7mCTJk/2C+kGIhhdLbFcmBsBBBBAAIHcE1CzwW3btk3ZhqsMLc1yVE0v9ZNNqbSuM1TDUTUJSpJS4dnENc/KttSp0/H+hi5o4pRt28f2IFAeBTRyczB6c0n3X4EaNWXUT2kkPXRo1qxpaaw65etMRVlS0nJAnupbj4QAApECOV0jLnJXeIdA2RDgyWrZOI7sRWwBvuOxbfgEAQQQQCC3BCjTcut4sbUIIIBAqgWSqRGXs33EpRqP/BBAAAEEEEAAAQQQQAABBBBAAAEEEEinAIG4dOqSNwIIIIAAAggggAACCCCAAAIIIIAAAvkCBOL4KiCAAAIIIIAAAggggAACCCCAAAIIIJABAQJxGUBmFQgggAACCCCAAAIIIIAAAggggAACCBCI4zuAAAIIIIAAAggggAACCCCAAAIIIIBABgQIxGUAmVUggAACCCCAAAIIIIAAAggggAACCCBAII7vAAIIIIAAAggggAACCCCAAAIIIIAAAhkQIBCXAWRWgQACCCCAAAIIIIAAAggggAACCCCAAIE4vgMIIIAAAggggAACCCCAAAIIIIAAAghkQIBAXAaQWQUCCCCAAAIIIIAAAggggAACCCCAAAIE4vgOIIAAAggggAACCCCAAAIIIIAAAgggkAEBAnEZQGYVCCCAAAIIIIAAAggggAACCCCAAAIIEIjjO4AAAggggAACCCCAAAIIIIAAAggggEAGBAjEZQCZVSCAAAIIIIAAAggggAACCCCAAAIIIEAgju8AAggggAACCCCAAAIIIIAAAggggAACGRAgEJcBZFaBAAIIIIAAAggggAACCCCAAAIIIIAAgTi+AwgggAACCCCAAAIIIIAAAggggAACCGRAgEBcBpBZBQIIIIAAAggggAACCCCAAAIIIIAAAgTi+A4ggAACCCCAAAIIIIAAAggggAACCCCQAYHK8a5j1arV9t9//9lffy2PdxHmQwCBJATWrFnrl+JvLQk8FskJAb7jOXGY2EgEEEAAgTgEKNPiQGIWBBBAoAwLqByoUKGCWd3ace9l3IE45ajMK1WqFHfmzIgAAokL+D9itxh/a4nbsURuCPAdz43jxFYigAACCBQvQJlWvBFzIIAAAmVZICgHEtnHuANxNWpU9/nWSyDKl8iGMC8CCOQJLM6H4G+Nb0RZFeA7XlaPLPuFAAIIlD8ByrTyd8zZYwQQQCBcICgHwqcV95o+4ooT4nMEEEAAAQQQQAABBBBAAAEEEEAAAQRSIEAgLgWIZIEAAggggAACCCCAAKNNS4gAAEAASURBVAIIIIAAAggggEBxAgTiihPicwQQQAABBBBAAAEEEEAAAQQQQAABBFIgQCAuBYhkgQACCCCAAAIIIIAAAggggAACCCCAQHECBOKKE+JzBBBAAAEEEEAAAQQQQAABBBBAAAEEUiBAIC4FiGSBAAIIIIAAAggggAACCCCAAAIIIIBAcQIE4ooT4nMEEEAAAQQQQAABBBBAAAEEEEAAAQRSIEAgLgWIZIEAAggggAACCCCAAAIIIIAAAggggEBxAgTiihPicwQQQAABBBBAAAEEEEAAAQQQQAABBFIgQCAuBYhkgQACCCCAAAIIIIAAAggggAACCCCAQHECBOKKE+JzBBBAAAEEEEAAAQQQQAABBBBAAAEEUiBAIC4FiGSBAAIIIIAAAggggAACCCCAAAIIIIBAcQIE4ooT4nMEEEAAAQQQQAABBBBAAAEEEEAAAQRSIEAgLgWIZIEAAggggAACCCCAAAIIIIAAAggggEBxAgTiihPicwQQQAABBBBAAAEEEEAAAQQQQAABBFIgQCAuBYhkgQACCCCAAAIIIIAAAggggAACCCCAQHECBOKKE+JzBBBAAAEEEEAAAQQQQAABBBBAAAEEUiBAIC4FiGSBAAIIIIAAAggggAACCCCAAAIIIIBAcQIE4ooT4nMEEEAAAQQQQAABBBBAAAEEEEAAAQRSIEAgLgWIZIEAAggggAACCCCAAAIIIIAAAggggEBxAgTiihPicwQQQACBMiEwe/Yc2++ADnbsCSeF9mfcD+P9tM5dLw5NK8sv3v9grN9fOUz55ZeyvKvsGwIRAqvXrLEFCxZETONN7gm89vqb/hzWp9+A0MY/MuoxP+3+YQ+GpvEi+wUG33GXP26HHn5U9m8sW4hACgX+/HOBrXFlEql8C2R1IG7W7Nn+hum4TiclffH01pi37ZjjT7SuF19Wvo80e49AEQKDhtzh/07uvf+BIubiIwTKhkDFChUK7UilSpUKTQuf8O133/u/EZUnkyZPDv+I1wggkOUCy5Yts5NPOd1OOOlUe+LJp7J8azO7ecG19vGdTrYlS5dGXXkqrqVTfZ1RIep5PKtva6LaJjPx2uu7+fKoV59+ySzOMgggUIoCjz72hHU6+VQ7+bQz7a/ly0txS7Jv1UFZc+kVV0XduH//+8/OPb+zP/99+NHHUefJpYlZXWI13WILa1C/vi1atNjeevudpFz32XsvW+G+5BMnTbIff/o5qTxYCIGyLrD3XnvZkiVL7I033jLVGiAhUBYF/rP//G7VrFlzw+65Ql2pRvi0DZ+GXq1bt87/jejvZN26f0LTeYEAAtEFVNtUF9UfffxJ9BkyOFXXkUGQ6ZepUzO45uxf1ZtvjrHFixfbllu2tLp16kTd4FRcS6fqOiPaefy//PN4xLk96p6UjYl//fWXL4/0m4QAAsULqDWAyqNsiAVM/fVXv8E67y5atKj4jS9Hc7zy6uv+3LbXHntE3Ws9SN9t1138PK++9nrUeXJpYlYH4gR5xBEdvedbb71tQUGbCPAmm2xi++67j1/kjTffSmRR5kWg3Ajsucf/rH79erby77+tLDxhKDcHjh1NSqBmrbBAXH4OG9WqlVReLIQAAtEFXnjxJbv19kF2/7Dh0WfI4FQFmS684DzrcNCBdvZZZ2Rwzdm9qvXr19uYd/IedB9xeN71drQtTsW1dKqvM2pxHo92qJiGAAJRBO68a6gvj7IhFnD2WWf6sqjLhRdYyxYtomxt+Zw0Y+ZMX3GqYsWKduihB8dECGJD330/zv6YPz/mfLnwQdYH4g52F01Vq1a1OXPn2g/jJyRlenjHw/xyYz/8yFatWpVUHiyEQFkWULO8ww45xO/imwSsy/KhLtf7FjzMCQ+6BbUrahVTI65cw7HzCJQBgTNPP81uvrGHbbXllmVgb1KzC19+9bVvdbLJxhvbvvvsXWSmJb2WTtl1Rn7tt1phD0+C83h5qRFX5IHiQwQQyGqBVltv5cui0087Jau3M9Mbp9rZSnv8b3ffIjLW+ls0b27btm3rK2ipolYup6wPxG200Ua23//t643ffCvvACUKvvvuu1nDhpv6INwHLhhHQgCBwgKHH54XsB4/4Ucf+C48B1MQyHGBvFaoFn6zln9PZ7U2Kp0acQoOqlZKSZKWD4KMJcmnLCyr/kP++af0mg7HOhZq2pxoKs39CN9WfbfWlaKptiUZv/B9SOXrkmyLvh+fff6FPfvcC745aCq3K5m8guvqgw8+yKpUqVJkFqm4lk7FdUZwrqtVc8M5O5i2USmdx4uEy6EPU3HOSUUeOURW5KbqvBl8N4ucMU0fRjtva3sSPUZapqTXKanaRW2HyvnSTCUpA1K53SW1UCuoV19/w955971S75ZI38m3333X8xRVOzvwC+ZRc+PS/j4E25TM78rJLJTpZYT93vsf+CZzV15+qYU/BYtnW9Se+LBDD7HHHn/S94F1RH4NuXiWZR4EyouA+mTcYft2NuHHn0xPJdSMh4RAWRLYeJON7eSTTrQ2rbcJ7Vajhg39NPU5kamkkbKefuY5G//jjzZlyi+2evVqa7X11tbabdfJJ3WyJo0bF7sp8//80+XxrE2ePMWm/jrN1xzXfm3frp2despJVr169WLziDXDA8MftHHjfvAfn3nG6fZ/+d07xJq/tKdr9LHHnnjSfvr5Z9PIuP+4oNemm25q22zTyk475WTbbrtt07KJCmK8/Mqr1rRpUzv7zDPsrqH3+P5n/v33XzvowAPsmquusOdd80wFXdS3oB4InuOapBx5xOExt0cXlQrUTJ4yxRYuWGhNmzW1tq1b22GHHWK77LxzzOVeePFle9s1MaxQoaINf+DeqPOpP5puPW70n53qXA5ov3/EfD1uvNkWLlxop5x8kh14QHv75NPP/LZrdN217jvb2H0vd999V7vw/PNsY1eDqmDSfr73/vuhyXPmzvOvFy5cZNFGJT7qyCPtqCOjW+jGT336vPbGm/b777/7WluqtdqkSWO3bQfYccceHRFQD600/8XFl17hbjajBz/3338/O/3UomsijHrscfvcHYedd97JLurS2aZO/dWeGP2UqSmM+uVSVw5t3HHp2vlCa968WcHVx3yvv/vhDz3sP3/+hRftmaeecMes8OAxMTNI4Qf6Tn7+xZc+x+CmpqjsU3EtnYrrjK232sqfs7fbtm1oc3Xe07m9ebPmoWm8iE9g/IQJ9qarVTJp0mT/t1a/QQNr26a1q5Xyv5h/nwVzTkUeBfPUewUKBtxymz8vqXVUt+uvsy222DzarFkz7eeJk+ypp5+xadOm27w//jDVBG282Wa2yy472WnuvLNZo0Zp2da7ht5rEydOdE0eD7LNNmvkBqUZbb+485ZaAJxx+ql2zNFH2dB77vPn1bWujNxqqy3tyssvc9cM20XdnmSvUxSkuuSyK3yeWmesc4sGLPjs889NFW7uGDwwYhvCy6peN/X05bn6A9OIyRpcRk0X9T3o6O7tT+x0gn8fkYF702/ArTZr1qzQ5BUrV/rXKl+jlUfXXnOVbdOqVWj+8Be6RlP5pvPl7y7PFStW+P40VT4fd8zRdoArL6MNAqY8VKa/9PIr4dlFvB4y6Pao5WkwUyosgrwK/u7Vu699/c23fvJh335nPbrfUHCWjL2X7dKly6xOndq29157FrveAw9sb/fce59vmvq9G0xtt912LXaZbJwhJwJxu7gLoc3cSewPd0LThdnRRx2ZsKWq1D/+xGh/of7777OsmfvjISGAQKSACkwF4sa4wVHOP++cqIVb5BK8QyB3BNQR+SUXdYnYYF3MFZwWMUOK3+gi7mZ38TN9+oyInDWgkH70ZPKG666x9i5YECt98eVX/uYkfLSttWvXmkZ21c/7Y8da3143+87XY+URa/qdd98TumjUxXu2B+HGvPOuDR5yp2n/lRTUUBBHgUr9KJikYFzXLhfG2uWkpy9yga3JLpCqPkoUuFwY1umyzqEK3kybPj2UvwKGAwffYS1aNLd220Xe/OiG8/aBgwv10fnbb7+bfvS9OOOM0+y8c86Oel7+c8Gfflti3QxoI1Q7QturpCBMwfSru3HUdZb6abl90BAr2JeOugiZ88pc+/iTz2zkQ8OsXr16EVnIO8g//APdmEWbvteeC8NnC73+21lcc90NphvaIOm4ykhBZ/08+/wLNvz+e/y1YTBP+O8pLpAZrTaI5mnjggzFpXnz/vDbrID2Gy7gqu9YeI0QDf6gG7qvv/7Gbru1v+2+227FZek//9ndKAdJ3xt9ZzZ1gY/SSG+7vx3tk24+FdyKJ6XiWrqk1xkKrBcMrqspk35I8QvoPPm4C9aMfORR08ODIC1YsMD08/Enn7rAwxfWvdv1pqbL0VIq8oiWr6bp7/3a/PNA5cqVrX/f3lkfhFM/ZC+5hzNB0nlL5z+V+/p53Q2I1q/PzbbP3kU3Aw+WT+S38td5dvXqNTZ7jnsglV+LWdcJ9w970D2oeS+iPFL5pIcvTz/5WKEKLiW5TlnvvkvB+X4f9xAmVlKQUvOp/8mCSYHCII9p7lqpT78BoffBvLqGuu+B4fa5ux66a8igQg80ZrpyTGVFwaQRtPVTMK1c+XfBSf69yvBrrusWUYNZx1WD/+hngmtFpGN+p9uGKu57WjCprAj2peBnev+POwcXlVJhESv/iS74HqQff95QNgXTMvk7uN449OCDTX/vxSU9mGvvHibqWktlNIG44sRK8Lm+8Id3PNQXFq+7/quSCcSphsFOO+3oL5bfeOst/4SzBJvEogiUSQHVkLjbPTFb4GpFfP3NN7ZnjFFryuTOs1MIpFlgubsgVk0d1aipVq2adXa1TtXcS7W8f3QB8IdHPuJrdClQd/utA2yvPfcotEXqK1W1mnQDpHLtgvPPtR133MH+dheRCsKpto0eNl3snkiPfnxUoWBJoQzDJuiJevDk9qQTT3Dbd37Yp9n3UoHLQS5gpICLbswvcrWTVKtQwQXVKBv+4AibNHmyjXa1E7Z1tWeCbi5SvSd6invWmaf7mm4Ktt14cy//ZFcX8BoYQIGH2bNm2429+piCTBqdumAgTjdEQS3ETscf52vUNW26hdv+KaZBD9SXl2r1r127zi7u2jnVuxCR30svvWKqPXDsMUeZLopVu1CBvhfddLVO0BP64Q+NsO43XBex3Bmuv5ujjzwiNO1u97T6W/eUXcvf4Z76F0x68h0t9Rtwmw/C6WJc3++DOxxk9V3Q708XHHj77Xft0cef8IHEnjf3toeG3R81MHnlFZe74ELkDc499z0QCthGW2+0abpZ1cMp1ZhVzQvVflu+fIV96gK8Tz71tM/vrrvvtUcfeTiumwe1zvjGmai2iUYiLa0gnPZVNy9KR+R3S+HfFPNfKq6luc4oBjlDH+vvSEE4JQWST+x0vOt3qY2rcTTHxn74oa8BpGDzddd3t2Eu6K17sYIpFXkUzFPvdZ689vpu/jygGmW9b74xrloy0fLK1DTVmAqCcB0PO9Q/ANKDPp0vvvr6axv24EO+Zm9/d357ZMSDMR8ilHR7FeC6sUc3X8Z8P26c3XJbXm0zBdf69LrJl4V6QKXacQpIffrZ53boIRs6xk/FdUpJ9yF8+YGujFfq0vkCH2xXDb+Zv/1mI0c95lsEqNzUQwWdW8NT/759Is73XS+5zFa6ck3XAarVXTA1crUICybVfOve4yZf5ulcfeklF/myoHqNGjbLXWeplrTKRAXjHnBBwcsvu6RgFn6bN954o4jpqlmdzMB4yVpErDzsjWrnP/Psc/5vO1bt9LDZ0/ZSD6S+cg+1lILuC+JZmcouBeL00EDf22g19ePJpzTnKT7kWJpbF7ZundRG5f/RzZgx01q2bBH2aXwvj3QXw/qDHeMu5HSDoZM7CQEENgjo6b+aJL3umgO94ZqnEojbYMMrBEoqMMo1xVAQTk9N1RQjvEmI/u7U9PDyK6/2F5kaafJ/LkgXXk4p+HavCybo9+abb273Db1zQ6DNVapRkEDNtZSHbmRGPDLKrrvm6rg2++577nWBlpf9vGpqcenFF8W1XGnOpCeoCsKptsaQgbdFNFWU5ZBBt9mZ55znb35UoyxdgTgFUi8471xPoWZH++27r+93RYGm8889JzRdo0Z+MPZDmztvXgSbboSCIJyCbGoaGiTV8tndNblQMxu1CHjBNWfU8WnceLNglpT/Vg0K3bCFN11Vs1oFD5ct+8sFkr71Nz5qyhNeA6Bu3bqmnyDVdDcrSpUrV4q7+aYeAqm5ktI5Z5/pb2b9G/efbBXYrFK1ig0b/pCvcThz5m9Ra35Gu6nQMkHNySDP4n6rVs7xxx3rmnBdGppV26HOttWn2oMPj/BNpSa4ZuZFNR0OFtZ38OUXnvXfydJsmfGzq/2gmpZq7qeRZBNJJb2W5jojEe30zKsb39FPPeMzV61n/b0HtVC223YTX45s3qSJqYa0Hmbo3FPwe5KKPKLtna8RqyCc+46qhq+CSuk6d0dbf7LTXn41ryacauaEP6RQOaBAlx6sdL3YBYPcOeWzz7+0E44/NtlVFbmcygtdTygpOKXWYGrOqcB/cE7Xwx5NV83oguVRSa9T/IpT/N/99w21Zq4LiCCplZyao592xtm+Vpoq6RQMxBUsIyu55qxKagobb3cCegAWjMrZ2/2NhF+zaSRuDf6jYJ3m0zVGtEBcq1Zbm37C05o1a5MKxCmPZCzC1x3+Wtcbxx93jFV1ZVnBGu7h86X79Zgx7/hauW3btLGWLVrEvbodd9jBXwvPcTVA333vfV9Wx71wlsyY963Mko0pajPUj8+uu+a1/9UfXDJJJ3JdMOvEo6Y9JAQQKCwQ9KGoJ6HRqm8XXoIpCCBQnIDKnaC22SEHd4i4oAuW1QX7eeee7d/qJllBm/Ckp9i/TJ3qJ53jAhLRLpzU7K5jfj+oCqYHF5Hh+RR8rSCc+hhT0hPSK6+4rOAsWfletbVu6d/XbhnQLyIIF2ysLrh33WUX/1Y15NKVggv8IP+a7jpDKbwzeb0PRuvVhXt4GjFylH+r2hMnuX6uCib1h3PJxV190EuBRzUnS2dSwDC4YSu4noM75AVt1JRtXoGAYsF5k3lfpXKVvGPqjuvRrg+5aGn//f4vNHlSGo+rVqJrxkudfbTUId9Cn6lvwniT8izNIJy2M7iO1nVxorUIUnEtzXVGvN+W9Mw3evTTvm9SnVsuc7V8giBc+NqOO/aYUKWHEfk158I/T0Ue4fnpdV5NuO4+CKcaeN1crVv1t5ntSZ3Fq4sLlUdXXrYhaB++3RrlUbWDldJZHumYhqdatWr6tzrvhKcN5dHK0ORUXKeEMkvRi9NcTevwIFyQrfZnz/xWA4mcf4Pl4/mtvnt1TG8d0Nc9iNo26iJBeaQHWAWDmlEXKMHEdFjowVK0a8kSbGbCi4ZqZx/RMeFlg7IkyCPhDEp5gci/1lLemOJWH1SfV9Q5Vt8fReWhpkDBEx3doJAQQKCwgJp46WmRH8HG9SlBQgCBkgv8Om1aqM+WI8Oa7xXMWTe5QZ8papYYnoKL9xquplFRNydBbSAFS9S0rqikgRmCIJye2quWU7QmSEXlUVqf7bDD9rbvPnv7QWZibUPt2nnNH5csWRprllKdrhpaM2bk9Rd4RMeOMTt8blC/fuimQwN0pDPVdH2vxEqqiRAk9aOW6qRgtI6pfvQ6WqqTf0z12dI0H1fVGIsWpNC6G7qb6uCmNx0WWkc6kjoeH/vhRz5r9fmWaErFtTTXGYmqp3b+IICtJtfhf9MF13JU/sAyqnFS8AFCKvIIX5+aa9/Q/Ubfl7fKoGuvvqpQLafw+bPptWruqd83nbeKCrLXqZ3XH5oCXtmYUnGdkur9Ul9gsZIGpVBSdwn6/qQ66V5Ix1THNtZ1UXCNoXWn+zqjNC1SbRvkp4FedH6p7mI0RV3XBvMX/K2BrFQO61q3uOvdgstmw/ucaZoqLFWfVhMU1dLRaFZBFDoRSPXV8sqrr7lqpF/5P9zSjgInsu3Mi0CmBPSEQZ27qj9F9RVFQgCBkgn85voTCVIz10QlVtIFxRau2elE14RVo0WGJ/X9pqR+mmIFB/S5RiYMUrBM8D78t5omBTfkCu5dfunFMQNB4ctl22s1kXr11dfdiKU/+f4tF7kOotXBsVJ4B/vZtt3aHjUZUm0KJTVdKioFtQK0jJonx7oxKCqPkn6m5phBUifk6Uoy+co191HfPwpyqfN41TjQfmdL0t+qmo4r4B1837Jl24raDtW0Vc0j1YTYdZfYI/EWlUcqrqW5zihKOL2fBeVCcE6JtTaNCB0klWHhI9WmIo8g7//c35D6RtVNuZJqHwUPlIJ5cuW3ggGvvv6GH/RG560li5eYBjBQCgZQyNZ9ScV1Sib3rWqVqqHVyVYPCdKR9PDiHdf08TPXjcQCN5q5+itdtWqVX1W2lEmZski1r/rMVdJo5kUFGmOtVw8p1YWHWjqqVtyVraLXSI21fGlPz6kacboAPPjgg7xZMLpGooBtXEfOateti3ONtkZCAIHCAqoZoxsM9ceo/kFICCBQMoGgxowuFItrCtagQX2/smCZYM1BU8Dg82B6wd9aRzDKXbBMwXn0PgjC6bUuKm+9fVBWBTq0XcWlJ558yk48+TQb9djjpg6Q582d5/uAUVBLP2qems0p/BgXd1wbuM6ilfTkf7G7uSurSTevZ519nqsd09M3z1YZtMbVHFSfPzqm6ruKlLzAm/mDNKjv5WSDuam4luY6I/ljWJIl1WG9OjZXqp9f1sTKL3wwkfCyJBV5hK9ztTunhXcZ9ONPP9szzz0fPkvWv1YgqOdNvez8zl19hY8JE370NaTqu/N2UB6FP8jIxh0KyqOSXKdk436VZJs04NDxJ57iR87Wd3S6G4RJD0L1wFTHVYEgUnIC6i8xGLQimdrZwVr1YEhJ/cSl8wFhsL5U/s6pGnHacWGrGc3XX3/jn3yHFxLxwqij2aH33m9vuuapp51ycryLMR8C5UZAHW7vvdeepj6p1IxbHWiSEEAgeYF69fI6sVcQRTcdqoYfKwU3SQVrbOe9n+YGfMi7iYq1vB406QJHqWAeBZcJOjjWyFMaNEABrXPPPqvgbFn5/q0xb/vO8rVx6nbiVFeeb73VlhHBBY2U+dzzL2Tl9mujgu+FXhd3XP9a/pdm8w9Jauc3cfITytB/Cghf60Zp1Ah/ur7T4AzqU1Ed/AdJQYCORx4TvOV3AgKqTalRYBWA69jx0ASWLDxrSa+luc4obJqJKWp6rvJH5dDyYsoS1UINkkYuDlIq8gjyCn6readGpXzt9Td9bbIHXKsMDYoSzyAoQR6l+Xvg4Dv8NbOCbaeecpIbdfroQkGa8y/sYlN/nVaam1nkuoPyqCTXKUWuIMc+nD59Rmi0c/Xxd87ZZ7hBtHYPdUmg3dF1k0Y9JyUu8MEHH/rzkB6u7bTjDolnkL+E7lfVlYVGsNcIqsk0cU165SVcMKdqxGlft95qK9umVSvflEMX4ckkXdRppC9d6OmpCwkBBAoLBE8n3ndDc+uCjYQAAskLNG/WLLTwH38U3bdW8FS6ebMNzYK0cLP8POb9ETnqZijj/BeqURQ0ySyqv5qjXV91Gt3t2quv9OWqFh/16ONuRLcvCmaZle9ffOkVv117uQ6bNXqZbtqSreFTWjsY/r2YF+f3IlrT5I032tjvgpp0pqOvnEz5jPthvL8J1/oG9OtjRx91ZEQQLlPbUVbXowfQSmqSqqapJUmpuJbmOqMkRyC5ZXWOVE0epeLPORvKmqD80XKpyEP5BEn5de92vXU64Xj/d6+O+NXk++be/eIacCjIp7R+68HXO/mtrDSCtn5ysaZUeHmU7HVKNdevZlDzL2i+WVrHpaTrfcs9oFQzfj3QvGPw7bbnHntEBOFKmn95Xz5o3aiHQiW5dlMNRQ3epRTkmSu2OReIE+wR+aNqvPXW20k1o1FH2Pu6/uaU3kxyBFa/MP8hUIYFNHJe/fr1fM2ajz76uAzvKbuGQPoFWrZoHlrJ2LF5HaWHJoS9mDx5SujGo2XLlmGfmG3ZsoV/r6d+CljESmM/3PD3umWBPMKXOeqoI/zFjzqk79+3lx8kQv2d9B9wq39QFT5vtr3WwwF1LK20YxFPUv/9d322bXrE9uiGMxhJb6zruytWUnAtaLrVsmWLQrOp2WaQYjVb/Xd9Xj9FwXzp/h0M+pDIzdhPP+c9HFWNHY0AHC0F/S1F+4xpsQXyumR5x88QBMBiz138J6m4luY6o3jndMwRlC1qXRTUno62nqAsUVcHuh4MT6nII8hPNV7VVFlJo0ff2OMGXzb95fpK7elqG2X7w4WJEyeG+vrcaafYNXuy/dyViusUBVQa5w/qo0EUYqV/Xc39TKaSlEfbtNo66sjs2n4FjEmJC8yYOdMmTprk+yXueOghiWdQYInDD88beEhdlPwxf36BT7P3bU4G4jq4oax14zBn7lz7YXxex56JEgcXIR+4kaMSuUhMdD3Mj0CuCqiPuMMOyTs55toThlw1Z7vLrsDmrj8RDTik9OLLr7i+Ywr38aXaTGoaqqSRuA47NO/GxE9w/x3kml8G3TFovqDWW/C5fqsp0fMvvuQn7bbbrr5P1PDPY73WyHm9burhL4p0Y6amFkXdoMXKJ1PTK7vzUzBipZqPREuzZ89xnf2/F+2jrJp26skn+u3R9cz348ZF3TbV/tNAVUonn5Q3f/iMTZo0Dr395rvvQq/DX2igqkymoCN4BY41oEY8qVrVan42BVp1jRctjRg5KtrknJimfqQ++vgTe/Kpp/0AFJnc6C/d4BeLFi32fVRqdOZUpJJeS3OdkYqjkHgeJ5/YKXSuf/qZZ6NmoL4Zv/r6a//ZyfnnqPAZU5FHeH7hrzVK5ZlnnOYnqSnn7YOGhH+cda+D85Y2LFZ5pD5ZY32WLTuUiusU7UtQHumBYbTrFJUHn2a45n0w8Miv7vukB47xpOC4/uYGzoq2H4ofaNCrXE3qBuXFl172gxxkOhYS1M7efffdQg8jS+LYskULU/NhHVtV1MqVlJOBOHV0HVxEBJ3OJgoeHHh98RSMIyGAQGGB4AnDeNfpbKybosJLMQWBsi3w559/moI8Rf1oOPaC6aIunX0nvwqoXHzpFTZ5yi+hC0LdIPfu088+/+JLv9i5Z59pqi0VnlRL6MILzvOTxo37wbr3vDniZn6a60T40suu9NPU384lF3UJX7zY17vvtpudf/65fj6NiNd/wG2h7Stq4UMPP8r2P/Bg63JR5karUlOEdu2285ulDnpHP/2Mqe8wJQU51S9c54susRUrVvhp6sB3revwPxuT+hJSLRClbt1v9INorHMBGyU1i9GAFMMefMi/12jx2+fvt5+Q/1+b1q1tqy239O8edc2L9aQ5SLrpGXrPfd4omJaJ3+E12m69bZAfqT5YrwLGGgyoYAqvTdLLNUub8ssvvqaJPNSVyPXdetpLLpAdpOD4Bu+D3/pb0A18+E9QG2XZsr8ipmse1bzJRHrKBT1u6tXHhj/4sD8HxHtDmIptC66X1Z+iHmanIqXiWprrjOSPhALWRZVDwWdBv6PBmlq5Gj6H5tdCefSxJ2zEI6NC508Fiz/7/HO7+prr/fm/YcNN7aROJwSLhn6nIo9QZlFenHfuOa4/rt38J++5LlLiGbxBZarKIv0MG553zoySdconbbNNK9PI40rD3N+2+ldWmaOHa+oGSf2S9+nbP7TeFSvyyqrQhCx6UdLrFO1K0Hn+fHetpH5ag7JXtcfU9cVlV1wdKpsztett82tYq59MnX+DbdL6//xzgUVrihuUR+ouZMCtt5v2R0mxAw0yoGue8LI2Wnm0ZOnSQuXNgoULfT76b6YrB8PLKdUUy1Tq5b6Tdw29124fONiG3Hl3plbrRw9++913/fqC70oqVh6UJeq6LJNla0m2PecGawh2VgdOJ2b9IVx5xWUJD3mrm5SOhx1ijz3+pL3xxlumYdRJCCAQKdB0iy1sh+3b+c6d9fQiCAJEzsU7BMqXQN/+txS7w+oj5f138oZlD2ZWsKX3zTf60UkV2O7c9WI/uqlG9pw7b14wm6/xpOBMtKTmO1r2cVd2ffnVV3bCSaf6vp5Wr1ntO6rVMrohuO6aq0KBmWj5xJp2xmmn2qRJk30HxLoZi2fwhv/cxbUuevQvk0l9213Q+SJ/UaybLv1otLegGZP6gt1uu23t558n+s3644/5rp+9yH73Mrm9sdaloKL6Q7u5d1/77bffrZcLyCpQouams2bNDjV9UQ1H7XO0pOZAXbtcaDd06+EHsup68WW+5lMFN7OCXrrmueaqK/xFd7Qn+9HyLOm03XbdxQ/6o+DyN99+a8d3OtnquIGAdIOqwID6unt6dF4N0GBdO+6wg6nvwldff8N+mTrVLuxyse/TV9usm1olBSInuu+opsXq46qzWy4IZgZ5B79VMyV8xGBNv/rKK1zn6kcFs6Ttt5qeB0k3dQqSBrVcg+np+K3gdBDkPyK/CU8q1pOKa2muM5I/Ejq3nXbm2cVm0OXCC+z0006JmO+ySy7yA8ToPK9gnMqULVzfcX/O/zPUL7D+Rvv16eXPqxEL579JRR7R8tU0fbduvqmnP8crSKLBG9RPuPo3jJlUDuWfJzJZHlV3TWtV5uraQA/aNHqqtl81PoPzkPqMq16jug+cxjpvxdyvDH6QiusUPTBqt912pq4GVONKtbHr1qljCkrpvK0g7gnHH+sHX8zUrp166smmAI2CYHpw96x7WKdtUlmkgLbiADdcf23E5mhAx48//tR3g6GYg35UNocH8TTIQNA6L1owTzGGBx8eEZFv+Jsrro5cp7bplZcyM2LwFBe4DlJ4QDGYlq7fKotUU14tP/bZZ++UrUaDNNzrgt5qmvrdd9+brpmyPeVkjTih7rLzTqamNLrgVmfyySRVqdfFq04UemJBQgCBwgJB0xONqkhfCIV9mIJAIgKqzT3ioWE+QKHa3QqSKAinoFGb1tvYbbf09zXZgmaXBfNWmXW+qykweNDtvhq+Lgp10aGLmlpuNDzVIHho+P1+FNGCy8bzXvn37NHNdHOslDd4w+dFLhoEdooaCbbIDJL8UNuofdVgDdpuJV0T6AZItfuGPXCfnX7qhpvPcT/8kOSa0r+YmlU8NOx+HwxSDRRd6Csop5tKNfHUjfTggbf5C9dYW7PH/3a3u+8aYmpepKQbDD2h181r71432TFHH+UDv7GWT8f0G913SQMu6JgokKY+g7Rd+r4rKBoE18LXfbULGF7lHrBqFDQl3chqPnWY3fmC8+2uO4eE+kssqq/E8Dyz5XXHww4N1ZzRzWomgnDa97ddR/L6Ow0GPEulRyqupbnOSOURiS8vPQC6dUBfUzCtRfPmfiHVhFZQQkEjVXgY8fBwHzSJlWMq8oiVt6arb7oBfXv7QKCuP/WQIlqwI8gjKIv0vnq16sHkjPxWTdMhg26zli1b+PXpnKVzl4J0Rx5xuC/399pzT/+ZAuOyztZU0usU7dcdQwbace6Boh406bjooYOuUeQ09K47rHmzvO9cpgy07juHDLKdXfxASTU/FZTT912tDxps2qDQpuj6aqgrUzWISDAARRCEa9myhfXtfbPrX7d3qJuMXCuPjjnalc0VK/pjdOzR0R/+FkJJwYSgu6ODOxzkrwVSkKXPQse4/f77+ddvvDUmVdmmNZ8K7iIv7xFjMatZvCSvb5J6dfMujIqZPSMf60n9yEcetbZt2tjwB+5Nap2KRKuJj6LeeppMQqC0BbLtb2316tV2zPEn+lonA2+7xY0a9L/SJmL9OS6Qbd/x0uRU7TY1qVTH1wpOJJp0MTlj5m/uRqWqD54FAalE80l2fgUAjz4ur9nSqaecZGrWUhpJATjd2Kx1ta2aupqH6kg+l5NqDsydO89auEE+dHGZaPLLz5mbt3yBJs6J5pWK+dWUR02CVq782wfYtnDBwuDGpqj8NQKwmgXpyXlTF7hTQC/Xk8rUxe5GXLWNMpXOPOc8H9i9/LJLrNPxx6V8tSW9ls7164yyUKbpb1TN4ho1bFRoYIZ4vzCpyCPedUWbTzVdFaxTGnjbAD/KZbT50j1ND9hmufJIgRydtzL9kCrV+1eS6xRdo6hmt7lTtwK+mb5GiWah65bZc1xtczeAkQJwqthTXNmiYKIemi5ZstT0sKyko05H267SmKYAqa49VcZmIml9nVxLDgXWHxnxYFItN4razvETJvimz7q+ePmFZ33LgKLmT+VnyZQDiV/1p3KLS5iXnixOnDjZ56I/quDpaSLZnuI6PVZnjEEnyIksy7wIlAcBPc0764zTTf3EzXI1RwnElYejzj5mSmDzJk1KtCo9bW619VYlyqMkC+sCPUjbt2sXvMz4bzVJbdVq64yvN10rVPMU/SSbSrp8suuNtZyaS2/TqlWsj2NO14iywaiyMWfKsQ9UpmYyCKcmsI03a+x/Djm4Q1q0SnotzXVGWg5LQpnqb1SdnZckpSKPkqxfDy+UFOzZbtttS5JViZZVTT51i1BWUkmuU3SN0rJli6yiULwg0ZiBmhmrFn7QWiCrdqgEG6Par5lMU6f+6lpu7O7K9fopD8JpP9S9hWpdqh/Gqb/+6lpQFtGUPZM7HmNdOV0jLsY+MRmBnBZIJqKe0zvMxpc7Ab7jZeeQDx5yp+/PS0+UHx35UKjZXdnZQ/YEAQQQKFqAMq1on0x8qgZeqvmpmtFqnqZmgyQEEEAgUwLJlAM520dcplBZDwIIIIAAAggUFlBzUI06rifFvW7sQRCuMBFTEEAAAQQyIDBx4iQfhFOzQQ2cQEIAAQSyXSCnm6ZmOy7bhwACCCCAQFkVUHPQka4zb428VZaa4ZTV48V+IYAAAmVVQGXQfffc7R4MVcxov1Bl1ZP9QgCB9AsQiEu/MWtAAAEEEECgTAqow+Ky0mlxmTxA7BQCCCBQTgS2b7ddOdlTdhMBBMqCAE1Ty8JRZB8QQAABBBBAAAEEEEAAAQQQQAABBLJegEBc1h8iNhABBBBAAAEEEEAAAQQQQAABBBBAoCwIEIgrC0eRfUAAAQQQQAABBBBAAAEEEEAAAQQQyHoBAnFZf4jYQAQQQAABBBBAAAEEEEAAAQQQQACBsiBAIK4sHEX2AQEEEEAAAQQQQAABBBBAAAEEEEAg6wUIxGX9IWIDEUAAAQQQQAABBBBAAAEEEEAAAQTKggCBuLJwFNkHBBBAAAEEEEAAAQQQQAABBBBAAIGsFyAQl/WHiA1EAAEEEEAAAQQQQAABBBBAAAEEECgLAgTiysJRZB8QQAABBBBAAAEEEEAAAQQQQAABBLJegEBc1h8iNhABBBBAAAEEEEAAAQQQQAABBBBAoCwIEIgrC0eRfUAAAQQQQAABBBBAAAEEEEAAAQQQyHoBAnFZf4jYQAQQQAABBBBAAAEEEEAAAQQQQACBsiBAIK4sHEX2AQEEEEAAAQQQQAABBBBAAAEEEEAg6wUIxGX9IWIDEUAAAQQQQAABBBBAAAEEEEAAAQTKggCBuLJwFNkHBBBAAAEEEEAAAQQQQAABBBBAAIGsFyAQl/WHiA1EAAEEEEAAAQQQQAABBBBAAAEEECgLApXj3YlVq1b7WRfHuwDzIYBAUgL8rSXFxkI5JMB3PIcOFpuKAAIIIFCkAGVakTx8iAACCJR5gaAcsLq1497XuANxynH9+vW2Zu3auDNnRgQQSFxAf2dK/K0lbscSuSHAdzw3jhNbiQACCCBQvABlWvFGzIEAAgiUZQGVA5UqVUpoF+MOxNWoUd0HBmrVqpnQCpgZAQQSE1hpf/sF+FtLzI25c0eA73juHCu2FAEEEECgaAHKtKJ9+BQBBBAo6wIqB6pVrZrQbtJHXEJczIwAAggggAACCCCAAAIIIIAAAggggEByAgTiknNjKQQQQAABBBBAAAEEEEAAAQQQQAABBBISIBCXEBczI4AAAggggAACCCCAAAIIIIAAAgggkJwAgbjk3FgKAQQQQAABBBBAAAEEEEAAAQQQQACBhAQIxCXExcwIIIAAAggggAACCCCAAAIIIIAAAggkJ0AgLjk3lkIAAQQQQAABBBBAAAEEEEAAAQQQQCAhAQJxCXExMwIIIIAAAggggAACCCCAAAIIIIAAAskJEIhLzo2lEEAAAQQQQAABBBBAAAEEEEAAAQQQSEiAQFxCXMyMAAIIIIAAAggggAACCCCAAAIIIIBAcgIE4pJzYykEEEAAAQQQQAABBBBAAAEEEEAAAQQSEiAQlxAXMyOAAAIIIIAAAggggAACCCCAAAIIIJCcAIG45NxYCgEEEEAAAQQQQAABBBBAAAEEEEAAgYQECMQlxMXMCCCAAAIIIIAAAggggAACCCCAAAIIJCdAIC45N5ZCAAEEEEAAAQQQQAABBBBAAAEEEEAgIQECcQlxMTMCCCCAAAIIIIAAAggggAACCCCAAALJCRCIS86NpRBAAAEEEEAAAQQQQAABBBBAAAEEEEhIgEBcQlzMjAACCCCAAAIIIIAAAggggAACCCCAQHICBOKSc2MpBBBAAAEEEEAAAQQQQAABBBBAAAEEEhIgEJcQFzMjgAACCCCAAAIIIIAAAggggAACCCCQnACBuOTcWAoBBBBAAAEEEEAAAQQQQAABBBBAAIGEBAjEJcTFzAgggAACCCCAAAIIIIAAAggggAACCCQnQCAuOTeWQgABBBBAAAEEEEAAAQRKXWD16tX23vvv2w3dutvy5ctLfXvYAAQQQACBogUqF/0xnyKAAAIIIIAAAggggAACCGSbwOQpU+zdd961jz/51FatWuU3799//822zWR7EEAAAQQKCBCIKwDCWwQQQAABBBBAAAEEEEAgGwWWLltmYz8Ya++8+67NmjU7GzeRbUIAAQQQKEaAQFwxQHyMAAIIIIAAAggggAACCGSDwPDhD9onrgacUoUKFWznnXeyatWq2RdffJkNm8c2IIAAAgjEIUAgLg4kZkEAAQQQQAABBBBAAAEEskGgcePG1qHDQXbQgQdagwb17eWXXwkF4hScIyGAAAIIZLcAgbjsPj5sHQIIIIAAAggggAACCCDgBc4/71wXfGuABgIIIIBADgswamoOHzw2HQEEEEAAAQQQQAABBMqPQHFBuP/++6/8YLCnCCCAQI4KEIjL0QPHZiOAAAIIIIAAAggggAACCCCAAAII5JYAgbjcOl5sLQIIIIAAAggggAACCCCAAAIIIIBAjgoQiMvRA8dmI4AAAggggAACCCCAAAIIIIAAAgjklgCBuNw6XmwtAggggAACCCCAAAIIIIAAAggggECOChCIy9EDx2YjgAACCCCAAAIIIIAAAggggAACCOSWAIG43DpebC0CCCCAAAIIIIAAAggggAACCCCAQI4KEIjL0QPHZiOAAAIIIIAAAggggAACCCCAAAII5JYAgbjcOl5sLQIIIIAAAggggAACCCCAAAIIIIBAjgoQiMvRA8dmI4AAAggggAACCCCAAAIIIIAAAgjklgCBuNw6XmwtAggggAACCCCAAAIIIIAAAggggECOChCIy9EDx2YjgAACCCCAAAIIIIAAAggggAACCOSWAIG43DpebC0CCCCAAAIIIIAAAggggAACCCCAQI4KEIjL0QPHZiOAAAIIIIAAAggggAACCCCAAAII5JZAhf9cimeTFy9ZZmvWrrVatWrGMzvzIIBAkgIrV/7tl+RvLUlAFst6Ab7jWX+I2EAEEEAAgTgFKNPihGI2BBBAoIwKqByoVrWq1atbO+49pEZc3FTMiAACCCCAAAIIIIAAAggggAACCCCAQPICBOKSt2NJBBBAAIEcEpg7d64dedQxduZZ54S2+scff/LTrrr6mtC08vZi4cJFtnz58lLd7fXr19u8eX/Y6tWrE96Ot99+xx/DgYMGh5YdPfopP23kyFGhabxAAAEEEEAAAQQQQCAbBCpnw0bE2oY5c+Zat+49rEIFszuGDLEGDerHmpXpCCCAAAIIxCVQQYVKgVSpYqUCU+J7O2PGDHv33fdso402stNOO7XIhdQTxGWXX2lLly61i7p2sX322bvI+dP54bgffrBnn33OZsyYaStWrPCrqlO7trXbvp2de87Z1qhRo3Su3uctDwXRXn/jTZs9e7b9888/fnq9evVsv//b10499RTXHUatuLejYrTjWonnjXEDMiMCCCCAAAIIIIBARgSy+gp1882bmC7IFy9eYu9/8EFGQFgJAggggEDZFAh6RK1Zo0ZoB4NuUmuETQt9GOPFypUr7Y0337Qrr7raB9Zefe11W7bsrxhzb5isAOBOO+3oA3FvjRmz4YMMvtL+3nPvfXbTTb1MtQEVhKtWrZpVrFjRli5bZp9++plddPGl9sknn6Z1q1atWmXXXXeD3Xvf/TZz5kwfhFO/mDJavHixvfzKq3bBhV1MtRiLS9GOYbRpxeXD5wgggAACCCCAAAIIZEIgq2vECeCQQzrYAw9Ms/fee89OOrGTv0jPBAzrQAABBBAomwI1ahYedKhmMQMRKbAz4ccf7d133rXPv/jS1rrBi5JJhxxysL388is2fvwE+/PPP61hw4bJZJP0Mq+++pqvhaYMDjn4YDv55BP9Nqxbt86+++57e2DYMP/wS8G61q23Sdv2DR/+kE2eMsWX6SrbjznmaNtkk02862effW7DH3zIN5cdPOQOGzTwdqtUqfgaizWjHtf4a9QljcqCCCCAAAIIIIAAAggkIJDVNeK0H+3339+quhEo1HfMTz/9nMCuMSsCCCCAAAIbBP6zvEHCw0ckDqZFC+JsWNJszpw51rPnTfbhRx/7YJFqa5/Y6QRfPoXPV9zrZk2b+gCXAnvvvfd+cbOn9PMlS5bYY48/4fM84ID2dvnll/omqKqFpnJ2r732tJ491B1EBfv77799wDClG5Cf2e+zZtl77+ft+wknHG9nnnmGD8LpY22Htu2C88/zc//yy1SbOHFS/pLRfwVDv9cMa8YamlZzQ+3H6EszFQEEEEAAAQQQQACBzApkfSBO/cPs7W4OlNQPT6qSnv6TEEAAAQTKkUB+29SIoFv+tFpRalMVlKlcubLts/fe1rvXzTbqkRF29tlnhWpqudhV3Ek10ZTee/8DC5pQxr1wjBk12EFxeU2ePMXWrFnjczjh+OOj5qRacK1abe0/+3Xa9KjzlHTiL1N+CWVxqKshGC3ttddeockzXNPVIlNwXMObF4eOKzXiirTjQwQQQAABBBBAAIGMC2R901SJHHxwB18L4dPPPrMuXTq7zpsLNyuKJvfNN9/a6Keespo1atqAAf18c5sXX3rJ94GzaNEiq+melDdt2sxOPulE23333aJlwTQEEEAAgTIisNHGG9txxx1rrbbOCzRptzbddFM/bacddyxyLxs0aGCPPzbKNnZ5lDT9nxuI4MGHHvZNU38YP9523mmnuLJUjba+/fr7ea+/7lqrX7++jRnzto1xAx7MnTvH9fNWyZo0aWwHHXigb+qpft/C0yxXE039wanGm/pgjZU0UINqoi1auDDWLCWavo0L9vXs0d3nsdlmm0XNS+WzasepCfAff/wRdZ5gYsuWLfwxbNOmdTDJ2rZt66c1bbpFaBovEEAAAQQQQAABBBDIBoGcCMTtsMMO1sj1ozPf9afz8SefWMfDDo3L7q+//rKpU3/1Nx26qejTt5/rUHtZaNmVK/+2yZMn++ka7e40N0IbCQEEEECgbApoVNDzzzs3YueaNGlSaFrEDPlvqlevbvqJlfIrYMX6OGK6auTtu+8+9r6rEaea3vEG4lSTW2WakkY7HThocOh93grWu4EPfrMRIx+xb7791gb07+fLv7zPzE5yD530U1xasCAvANdk882LmzWpz9U8Vz9FpXnz5oX64WscI1gXLN+mTRvTT3jaddddTD8kBBBAAAEEEEAAAQSyTSDycXm2bV3+9ujpfQdXK07pHddRdqJJzXV69e7tazJcffWV9uDwB2zYsPvtyisu96OyKr9nn30urtHZEl038yOAAAIIIFBQ4OAOeWXaF27gB41cmmi65957fU2xc1zz2HuG3mUjRjzkm8y2atXKZzVhwo/2wQdjE83WZru+8Ka4QRSUSqumuMrskSNH+W1Q8LN9+/39a/5DAAEEEEAAAQQQQKAsCOREjThBdzjoQBs9+in39H+q/fbbb9a8efOE/Ddvsrn17983okbDFu5p/+bu57rrb7B//vnHPhj7oZ1x+mkJ5cvMCCCAAAIIJCrQrt121rhxYzcQ0Tz78MOP7Mgjj0g0Cxs0aKCpHAuSao6rSWaXLl1tqav9/c6779pBruyMNykANmzYcN/XXG1XezBW/23x5hfvfAtdE1gNDqFa6rNnz7bXX3/Dpk2f7mvzXXvt1SlpDhzvtjAfAggggAACCCCAAALpFsiJGnFCUD8+O+X3o/NOEoM2dO58YUQQLoBt27aNb/aq93Pnzg0m8xsBBBBAAIG0ChySX9M7mYGIOp1wQkQQLthQ9aG62255fZ7OnTsvmBzX7+dfeNF++GG8n/fii7v6/uTiWrCEMz308Ai7+JLL/EOxu4fe44NwKvPvGDLY9txjjxLmzuIIIIAAAggggAACCGSXQM4E4sQW3LSMdTXXVIMtkaSOn2Olho0a+o/mz58faxamI4AAAgggkFIB1VbTgAqq/aWfRFLEyK8FFgzKNA3uoMEO4kmff/6FPfbY437Wjh0P86PDxrNcKuZR7TsF3jbeeKNQdgsWLPDboxqDJAQQQAABBBBAAAEEypJATgXi9txzD3+hrkEYvvr665QdhypVqvi81BE2CQEEEEAAgUwI1KtXLzSgQDK14mJtY1Cm6fN164p/aDVp0mQbPOQO3yR15513tq5udPJMposv6mqPjHzYnhr9pD37zFN20UVdbJNNNrFxP/xgPW+82ZYuXZrJzWFdCCCAAAIIIIAAAgikVSCnAnG6uWjfvr0Hefed99IKQ+YIIIAAAgikWyAYtEH9xJXGw6BZs2Zb3379fM25rbbaynp0v8EqVaqU7t2Omb9q+h1x+OF+OzRQ059utPTXXns95vx8gAACCCCAAAIIIIBArgnkVCBOuEHz1O++/94WLVqUa95sLwIIIIAAAiGB//3vf6ammRo5VSOoZjKpDL3p5l62fPkKN3BRE+vbp5fVqBG7G4dMblu7du1CgzJ9P25cJlfNuhBAAAEEEEAAAQQQSKtAzgXiWrZsaXpqr9Hd3nv/g7TikDkCCCCAAALpFKhcuZIdcEB7vwqNcpqptHLlSru5Vx/TiKX169e3fn37+IBgJtavkc9//PEnPwp6UetTcFBJgUISAggggAACCCCAAAJlRSDnAnGCP+SQDt7/vffe8wG5snIw2A8EEEAAgfInENT0Hj9+gm+KmW4BDeDQt19/U0Bs4403tn79+ljDhnmDFqV73cpf/eF179HTevS8qcgyXAM2KDVr2tT/5j8EEEAAAQQQQAABBMqCQE4G4vbfbz+rWrWqzZv3h/30089l4TiwDwgggAAC5VSgWbNm1rr1Nnk1vd97P60Kqk0+aPAQ+/nniVa9enXr07tXxgNdrVu39vu4atUq+/LLr6Lu7+zZs2369Bn+s6222jLqPExEAAEEEEAAAQQQQCAXBXIyELfRRhvZXnvu6b1TOdJcLh5AthkBBBBAIPcFgkEb1OWCgmXpSvc/MMz3RVexYkW78orLfd9waqYa60fBslSn3XffzbbYfHOf7dB77rGPPv44Yp8nT5lit9xym/3zzz9Wx/Wfd/jhHVO9CeSHAAIIIIAAAggggECpCVQutTWXcMVqnqqL908/+8y6du1sGmmNhAACCCCAQC4K7Lff/9k21Td3AAAOXUlEQVRDD4/wTVN/GD/edt5pp5TvhmqYvfXWGJ/vv//+a7fdPrDYdTRtuoU9cP99xc6XyAyqidejZ3e77robfP9vgwYNsaFD77VGjRrZ0qVL7a+//vLZqeb71VdfZXXr1k0ke+ZFAAEEEEAAAQQQQCCrBXKyRpxEd9hhB2vk+rRRXzcfffxJViOzcQgggAACCBQloIdJ++yzt58lXTW9169fX9QmZPQz9fv20IPD7Oijj/JNZNesWWO///67D8IpAKcuKIYPu9922WXnjG4XK0MAAQQQQAABBBBAIN0CFVwTmLjawCxesszWuKBXrVrZU/PsqaefsSefHG3bbNPK7hgyON1W5I9ARgRWrvzbryeb/tYysuOspNwI8B2PfqjV52m37j2sSpUq9vhjo0zdMJSHpMuQxYsX2/w//7R6rvabasZVqFChPOw6+4gAAmVAgDKtDBxEdgEBBBAogYDKgWruQXK9urXjziVnm6ZqDzscdKBNcX3JKC1btsxqu75kSAgggAACCOSiQLt221n7/fezFa7PtmnTp9uOruZ3eUgKutWvX9//lIf9ZR8RQAABBBBAAAEEyrdATteIK9+Hjr0vqwI8WS2rR5b9CgT4jgcS/EYAAQQQyHUByrRcP4JsPwIIIFAygWRqxOVsH3Elo2JpBBBAAAEEEEAAAQQQQCC3BVasWGELFy4s1Z1QFwMLFiwIDbZTqhvDyhFAAIEcEMjppqk54MsmIoAAAggggAACCCCAAAIpE5g3b56NGvWYTflligvCLfL51qhRw7bcsqWdcfrptv327VK2rqIy+vHHn+zJ0aNt2rTptmrVKj9rrVq1bMcdd7CzzzrLNt+8SVGL8xkCCCBQbgVomlpuDz07nq0CNHHI1iPDdqVKgO94qiTJBwEEEECgtAUyXaaNGfO2PfjQw7bWDaKnVLlyJatYsVLovaYdc8zRduEF5+tl2tKwYcPt9TfeDOVfvXp1++efde4nb4Rubdc1V19t//d/+4bm4QUCCCBQFgWSaZpKjbiy+E1gnxBAAAEEEEAAAQQQQKBMCUyd+qvd/8Aw+/fff23btm3twgsvsJYtW7pAXAVfK+2BYcPsl1+m2iuvvGrbuwGA9txzz7Ts//vvfxAKwu2115527jlnW5MmTfx2TZ482e67f5j99ttvdu9991nbtm2sQYMGadkOMkUAAQRyVYA+4nL1yLHdCCCAAAIIIIAAAgggUG4E7r3vfh/satx4M7vllv7WqtXW+TXiKvrX/fv1tXr16nqPJ558Km0uIx8Z5fNWkK1H924+CKcJFStWtG233dZPU4041RJ55513/bz8hwACCCCwQYBA3AYLXiGAAAIIIIAAAggggAACWSewfPkKV+ttmt+uo486ygXgCjdsqlmzph1wwAF+nlmzZtm6detSvh/z58+3ZcuW+Xw7dOhgFSpUKLQO9Q3XrFkzP33GzJmFPmcCAgggUN4FCp/By7sI+48AAggggAACCCCAAAIIZJHA77//btWqVfNb1KxZ05hbtlmjRv6z9evX25IlS6xhw4Yx503mA/UF17NHd79o223bxsyiTp06/rM//pgfcx4+QAABBMqrAIG48nrk2W8EEEAAAQQQQAABBBDICYHtttvWXnj+2WK39c8FC/w8VatWtU033bTY+ROdoXbt2qZ+4YpK//33nylwqKRmtCQEEEAAgUgBmqZGevAOAQQQQAABBBBAAAEEEMg5AdWC+/DDj/x277rrLlGbjWZipzRYxMKFi/yqOh52aCZWyToQQACBnBKgRlxOHS42FgEEEEAAAQQQQAABBBAoLPDcc8/bgvwacSd26lR4hjRMUd91S5Ys9v3RzZ07zz799DP77PPP/ZqOPfYY23nnndOwVrJEAAEEcluAQFxuHz+2HgEEEEAAAQQQQAABBMq5wM8/T7Snn3nGKxx55BG2zTatMiLy0ccf27BhwyPWpYEkrrj8MjdwRPuI6bxBAAEEEMgToGkq3wQEEEAAAQQQQAABBBBAIEcF5s2bZ/0H3GL//LPettyypZ137jkZ25OaNWr4vujq1q0bagr7zz//2DPPPmfjxo3L2HawIgQQQCCXBCq4zjT/i2eDFy9ZZmvWrrVatWrGMzvzIIBAkgIrV/7tl+RvLUlAFst6Ab7jWX+I2EAEEEAAgTgFSrtMW7ZsmV173Q2mYFyDBvXtjiGDrV69enFufWpnW7dunf3ww3h79LHHbebMmValShXr17ePtWu3XWpXRG4IIIBAFgmoHKjmBsipV7d23FtFjbi4qZgRAQQQQAABBBBAAAEEEMgOgdWrV1vvPn19EG6jjTayPr17lVoQTiIKvO2++27Wv39ftx11fb9xj7mgHAkBBBBAIFKAQFykB+8QQAABBBBAAAEEEEAAgawWUDPUW269zaZO/dWqVatmvXvdZM2bN8+Kba5Tu7btu88+flsmTppkChiSEEAAAQQ2CDBYwwYLXiGAAAIIIIAAAggggAACWS2gnoXuHjrUvv9+nFWuXMl6dO9mbdq0ycg2L1y4yNfA08ratm3r1x9txU023zw0ecWKFVa9evXQe14ggAAC5V2AQFx5/waw/wgggAACCCCAAAIIIJAzAqNGPWpjx37oB0e46qorbdddd8nYtk+bNs369R/g13fnHUOsVauto657wYIFfnoNN5hD/fr1o87DRAQQQKC8CtA0tbweefYbAQQQQAABBBBAAAEEckrg5VdetRdefMlvc5cunW3//fbL6Pa3br1NaH1jx44NvQ5/sdYN8Pfll1/6SVtttWVoNNXweXiNAAIIlGcBasSV56PPviOAAAIIIIAAAggggEBOCHz08cc2YsRIv63HHnO0HdB+f1u5cmWR216zZs2UBsLq1Klj7d16P/zwI3vt9Tdso403tk4nHG9V3YiBSmq6+sCwYTZnzly/3lNPObnI7eNDBBBAoDwKVHB9DPwXz44vXrLM1rinG7Vq1YxnduZBAIEkBTT8sRJ/a0kCsljWC/Adz/pDxAYigAACCMQpkMky7eRTTnWBt7zrxDg3z5544jHT4AmpTBp84fobutn06TN8tpUqVbLNNmtka9astUWLFllwe3n66acZgbhUypMXAghko4DOy9Xcw4h6deM/11IjLhuPJNuEAAIIIIAAAggggAACCIQJrF//b9i70nupgRfuGDLY3nprjD3/wos++KYacEoVK1Z0A0e0tvPOPdcN5pCZASRKT4I1I4AAAskJUCMuOTeWQiBtAsGTTmrEpY2YjEtZgO94KR8AVo8AAgggkDIByjSz5ctX2Ny5c93IqNWsSZMmVqVKlZT5khECCCCQ7QLUiMv2I8T2IYAAAggggAACCCCAAAJlSGDjjTey8EEcytCusSsIIIBAWgQYNTUtrGSKAAIIIIAAAggggAACCCCAAAIIIIBApACBuEgP3iGAAAIIIIAAAggggAACCCCAAAIIIJAWAQJxaWElUwQQQAABBBBAAAEEEEAAAQQQQAABBCIFCMRFevAOAQQQQAABBBBAAAEEEEAAAQQQQACBtAgQiEsLK5kigAACCCCAAAIIIIAAAggggAACCCAQKUAgLtKDdwgggAACCCCAAAIIIIAAAggggAACCKRFgEBcWljJFAEEEEAAAQQQQAABBBBAAAEEEEAAgUgBAnGRHrxDAAEEEEAAAQQQQAABBBBAAAEEEEAgLQIE4tLCSqYIIIAAAggggAACCCCAAAIIIIAAAghEChCIi/TgHQIIIIAAAggggAACCCCAAAIIIIAAAmkRIBCXFlYyRQABBBBAAAEEEEAAAQQQQAABBBBAIFKAQFykB+8QQAABBBBAAAEEEEAAAQQQQAABBBBIiwCBuLSwkikCCCCAAAIIIIAAAggggAACCCCAAAKRAgTiIj14hwACCCCAAAIIIIAAAggggAACCCCAQFoECMSlhZVMEUAAAQQQQAABBBBAAAEEEEAAAQQQiBQgEBfpwTsEEEAAAQQQQAABBBBAAAEEEEAAAQTSIkAgLi2sZIoAAggggAACCCCAAAIIIIAAAggggECkAIG4SA/eIYAAAggggAACCCCAAAIIIIAAAgggkBYBAnFpYSVTBBBAAAEEEEAAAQQQQAABBBBAAAEEIgUIxEV68A4BBBBAAAEEEEAAAQQQQAABBBBAAIG0CFSON9dVq1bb+vXrbaX9He8izIcAAkkIrFu7zi/F31oSeCySEwJ8x3PiMLGRCCCAAAJxCFCmxYHELAgggEAZFlA58O/6f83q1o57L+MOxCnHSpUqWbWqVePOnBkRQCBxAf9H7Bbjby1xO5bIDQG+47lxnNhKBBBAAIHiBSjTijdiDgQQQKAsCwTlQCL7WOE/lxJZgHkRQAABBBBAAAEEEEAAAQQQQAABBBBAIHEB+ohL3IwlEEAAAQQQQAABBBBAAAEEEEAAAQQQSFiAQFzCZCyAAAIIIIAAAggggAACCCCAAAIIIIBA4gIE4hI3YwkEEEAAAQQQQAABBBBAAAEEEEAAAQQSFiAQlzAZCyCAAAIIIIAAAggggAACCCCAAAIIIJC4AIG4xM1YAgEEEEAAAQQQQAABBBBAAAEEEEAAgYQFCMQlTMYCCCCAAAIIIIAAAggggAACCCCAAAIIJC5AIC5xM5ZAAAEEEEAAAQQQQAABBBBAAAEEEEAgYQECcQmTsQACCCCAAAIIIIAAAggggAACCCCAAAKJCxCIS9yMJRBAAAEEEEAAAQQQQAABBBBAAAEEEEhYgEBcwmQsgAACCCCAAAIIIIAAAggggAACCCCAQOICBOISN2MJBBBAAAEEEEAAAQQQQAABBBBAAAEEEhYgEJcwGQsggAACCCCAAAIIIIAAAggggAACCCCQuACBuMTNWAIBBBBAAAEEEEAAAQQQQAABBBBAAIGEBf4f+NwBhPMUGtgAAAAASUVORK5CYII=)"
      ],
      "metadata": {
        "id": "AkFeGb-i3Ubn"
      }
    },
    {
      "cell_type": "markdown",
      "source": [
        "The last sequence, \\n, represents the newline character. It causes Python to start a new line."
      ],
      "metadata": {
        "id": "XnialTb23eZ3"
      }
    },
    {
      "cell_type": "code",
      "source": [
        "hello = \"hello\\nworld\"\n",
        "print(hello)"
      ],
      "metadata": {
        "colab": {
          "base_uri": "https://localhost:8080/"
        },
        "id": "AdnLpGUz3bZO",
        "outputId": "031a645b-0c2c-4389-c234-5244b6975c0b"
      },
      "execution_count": 95,
      "outputs": [
        {
          "output_type": "stream",
          "name": "stdout",
          "text": [
            "hello\n",
            "world\n"
          ]
        }
      ]
    },
    {
      "cell_type": "markdown",
      "source": [
        "In addition, Python's triple quote syntax for strings lets us include newlines literally (i.e. by just hitting 'Enter' on our keyboard, rather than using the special '\\n' sequence). We've already seen this in the docstrings we use to document our functions, but we can use them anywhere we want to define a string."
      ],
      "metadata": {
        "id": "hQ9ZyqcI3lSp"
      }
    },
    {
      "cell_type": "code",
      "source": [
        "triplequoted_hello = \"\"\"hello\n",
        "world\"\"\"\n",
        "print(triplequoted_hello)\n",
        "triplequoted_hello == hello"
      ],
      "metadata": {
        "colab": {
          "base_uri": "https://localhost:8080/"
        },
        "id": "m-bgKLru3spZ",
        "outputId": "aa12e25c-610e-4546-c08e-795d205fe662"
      },
      "execution_count": 98,
      "outputs": [
        {
          "output_type": "stream",
          "name": "stdout",
          "text": [
            "hello\n",
            "world\n"
          ]
        },
        {
          "output_type": "execute_result",
          "data": {
            "text/plain": [
              "True"
            ]
          },
          "metadata": {},
          "execution_count": 98
        }
      ]
    },
    {
      "cell_type": "markdown",
      "source": [
        "The print() function automatically adds a newline character unless we specify a value for the keyword argument end other than the default value of '\\n':"
      ],
      "metadata": {
        "id": "Dao5QAlX38YV"
      }
    },
    {
      "cell_type": "code",
      "source": [
        "print(\"hello\")\n",
        "print(\"world\")\n",
        "print(\"hello\", end='')\n",
        "print(\"pluto\", end='')"
      ],
      "metadata": {
        "colab": {
          "base_uri": "https://localhost:8080/"
        },
        "id": "e3ZAUoGc4CFw",
        "outputId": "e4ff74fa-3870-41e0-851d-8bed214d88fa"
      },
      "execution_count": 99,
      "outputs": [
        {
          "output_type": "stream",
          "name": "stdout",
          "text": [
            "hello\n",
            "world\n",
            "hellopluto"
          ]
        }
      ]
    },
    {
      "cell_type": "markdown",
      "source": [
        "# Strings are sequences\n",
        "\n",
        "Strings can be thought of as sequences of characters. Almost everything we've seen that we can do to a list, we can also do to a string."
      ],
      "metadata": {
        "id": "zmRBwG634OVc"
      }
    },
    {
      "cell_type": "code",
      "source": [
        "# Indexing\n",
        "planet = 'Pluto'\n",
        "planet[0]"
      ],
      "metadata": {
        "colab": {
          "base_uri": "https://localhost:8080/",
          "height": 35
        },
        "id": "RcG2VFHO4eGk",
        "outputId": "e1e26123-2f32-47ae-acda-9571a4e89c7b"
      },
      "execution_count": 100,
      "outputs": [
        {
          "output_type": "execute_result",
          "data": {
            "text/plain": [
              "'P'"
            ],
            "application/vnd.google.colaboratory.intrinsic+json": {
              "type": "string"
            }
          },
          "metadata": {},
          "execution_count": 100
        }
      ]
    },
    {
      "cell_type": "code",
      "source": [
        "# Slicing\n",
        "planet[-3:]"
      ],
      "metadata": {
        "colab": {
          "base_uri": "https://localhost:8080/",
          "height": 35
        },
        "id": "Tux1WqPC4nh0",
        "outputId": "1cc160e7-3ab6-4321-e02c-999d9cde52ce"
      },
      "execution_count": 101,
      "outputs": [
        {
          "output_type": "execute_result",
          "data": {
            "text/plain": [
              "'uto'"
            ],
            "application/vnd.google.colaboratory.intrinsic+json": {
              "type": "string"
            }
          },
          "metadata": {},
          "execution_count": 101
        }
      ]
    },
    {
      "cell_type": "code",
      "source": [
        "# How long is this string?\n",
        "len(planet)"
      ],
      "metadata": {
        "colab": {
          "base_uri": "https://localhost:8080/"
        },
        "id": "771Rj1hh4rEy",
        "outputId": "a43ce708-4b5b-4755-a19f-83adf14e0581"
      },
      "execution_count": 102,
      "outputs": [
        {
          "output_type": "execute_result",
          "data": {
            "text/plain": [
              "5"
            ]
          },
          "metadata": {},
          "execution_count": 102
        }
      ]
    },
    {
      "cell_type": "code",
      "source": [
        "# Yes, we can even loop over them\n",
        "[char+'! ' for char in planet]"
      ],
      "metadata": {
        "colab": {
          "base_uri": "https://localhost:8080/"
        },
        "id": "8sEAl5p54wYe",
        "outputId": "6883fa70-bc43-4e85-85c3-cf4a330e140e"
      },
      "execution_count": 103,
      "outputs": [
        {
          "output_type": "execute_result",
          "data": {
            "text/plain": [
              "['P! ', 'l! ', 'u! ', 't! ', 'o! ']"
            ]
          },
          "metadata": {},
          "execution_count": 103
        }
      ]
    },
    {
      "cell_type": "markdown",
      "source": [
        "But a major way in which they differ from lists is that they are immutable. We can't modify them."
      ],
      "metadata": {
        "id": "NYRWHMiS4kCn"
      }
    },
    {
      "cell_type": "code",
      "source": [
        "planet[0] = 'B'\n",
        "# planet.append doesn't work either"
      ],
      "metadata": {
        "colab": {
          "base_uri": "https://localhost:8080/",
          "height": 162
        },
        "id": "Ld2YGGHm4-MH",
        "outputId": "b57ece51-f041-41dd-c3fe-b73735cd7e3f"
      },
      "execution_count": 104,
      "outputs": [
        {
          "output_type": "error",
          "ename": "TypeError",
          "evalue": "'str' object does not support item assignment",
          "traceback": [
            "\u001b[0;31m---------------------------------------------------------------------------\u001b[0m",
            "\u001b[0;31mTypeError\u001b[0m                                 Traceback (most recent call last)",
            "\u001b[0;32m<ipython-input-104-6ca42463b9f9>\u001b[0m in \u001b[0;36m<cell line: 1>\u001b[0;34m()\u001b[0m\n\u001b[0;32m----> 1\u001b[0;31m \u001b[0mplanet\u001b[0m\u001b[0;34m[\u001b[0m\u001b[0;36m0\u001b[0m\u001b[0;34m]\u001b[0m \u001b[0;34m=\u001b[0m \u001b[0;34m'B'\u001b[0m\u001b[0;34m\u001b[0m\u001b[0;34m\u001b[0m\u001b[0m\n\u001b[0m\u001b[1;32m      2\u001b[0m \u001b[0;31m# planet.append doesn't work either\u001b[0m\u001b[0;34m\u001b[0m\u001b[0;34m\u001b[0m\u001b[0m\n",
            "\u001b[0;31mTypeError\u001b[0m: 'str' object does not support item assignment"
          ]
        }
      ]
    },
    {
      "cell_type": "markdown",
      "source": [
        "## String methods\n",
        "\n",
        "Like list, the type str has lots of very useful methods. I'll show just a few examples here."
      ],
      "metadata": {
        "id": "sRLcxt5a258X"
      }
    },
    {
      "cell_type": "code",
      "source": [
        "# ALL CAPS\n",
        "claim = \"Pluto is a planet!\"\n",
        "claim.upper()"
      ],
      "metadata": {
        "colab": {
          "base_uri": "https://localhost:8080/",
          "height": 35
        },
        "id": "HKju_IUH5JDb",
        "outputId": "b8584b51-9728-4caf-f26a-18a54b68f7fc"
      },
      "execution_count": 105,
      "outputs": [
        {
          "output_type": "execute_result",
          "data": {
            "text/plain": [
              "'PLUTO IS A PLANET!'"
            ],
            "application/vnd.google.colaboratory.intrinsic+json": {
              "type": "string"
            }
          },
          "metadata": {},
          "execution_count": 105
        }
      ]
    },
    {
      "cell_type": "code",
      "source": [
        "# all lowercase\n",
        "claim.lower()"
      ],
      "metadata": {
        "colab": {
          "base_uri": "https://localhost:8080/",
          "height": 35
        },
        "id": "KWbMkGwY5Ntb",
        "outputId": "804816d1-b263-4f56-f52b-74a0a2e24932"
      },
      "execution_count": 106,
      "outputs": [
        {
          "output_type": "execute_result",
          "data": {
            "text/plain": [
              "'pluto is a planet!'"
            ],
            "application/vnd.google.colaboratory.intrinsic+json": {
              "type": "string"
            }
          },
          "metadata": {},
          "execution_count": 106
        }
      ]
    },
    {
      "cell_type": "code",
      "source": [
        "# Searching for the first index of a substring\n",
        "claim.index('plan')"
      ],
      "metadata": {
        "colab": {
          "base_uri": "https://localhost:8080/"
        },
        "id": "S5MotJq15QqQ",
        "outputId": "0be38ce4-8346-4e11-ff50-7de827957906"
      },
      "execution_count": 107,
      "outputs": [
        {
          "output_type": "execute_result",
          "data": {
            "text/plain": [
              "11"
            ]
          },
          "metadata": {},
          "execution_count": 107
        }
      ]
    },
    {
      "cell_type": "code",
      "source": [
        "claim.startswith(planet)"
      ],
      "metadata": {
        "colab": {
          "base_uri": "https://localhost:8080/"
        },
        "id": "ayRnGJAh5V5E",
        "outputId": "dc8f99a7-d6ef-4255-e899-a10375611d66"
      },
      "execution_count": 108,
      "outputs": [
        {
          "output_type": "execute_result",
          "data": {
            "text/plain": [
              "True"
            ]
          },
          "metadata": {},
          "execution_count": 108
        }
      ]
    },
    {
      "cell_type": "code",
      "source": [
        "# false because of missing exclamation mark\n",
        "claim.endswith('planet')"
      ],
      "metadata": {
        "colab": {
          "base_uri": "https://localhost:8080/"
        },
        "id": "I0WfZyro5aMj",
        "outputId": "e6a8ffd6-1fe9-4389-b055-4daf13ee6850"
      },
      "execution_count": 109,
      "outputs": [
        {
          "output_type": "execute_result",
          "data": {
            "text/plain": [
              "False"
            ]
          },
          "metadata": {},
          "execution_count": 109
        }
      ]
    },
    {
      "cell_type": "code",
      "source": [
        "claim.endswith('!')"
      ],
      "metadata": {
        "colab": {
          "base_uri": "https://localhost:8080/"
        },
        "id": "UPtqDvsA5bty",
        "outputId": "891df761-4309-461a-cfcd-b8610463eff9"
      },
      "execution_count": 110,
      "outputs": [
        {
          "output_type": "execute_result",
          "data": {
            "text/plain": [
              "True"
            ]
          },
          "metadata": {},
          "execution_count": 110
        }
      ]
    },
    {
      "cell_type": "markdown",
      "source": [
        "**Going between strings and lists: .split() and .join()**\n",
        "\n",
        "str.split() turns a string into a list of smaller strings, breaking on whitespace by default. This is super useful for taking you from one big string to a list of words."
      ],
      "metadata": {
        "id": "la7SZIzv5kzA"
      }
    },
    {
      "cell_type": "code",
      "source": [
        "words = claim.split()\n",
        "words\n"
      ],
      "metadata": {
        "colab": {
          "base_uri": "https://localhost:8080/"
        },
        "id": "m77KIFk85lp-",
        "outputId": "00df95ee-b8d4-4dd1-b48c-4373d7ab243a"
      },
      "execution_count": 111,
      "outputs": [
        {
          "output_type": "execute_result",
          "data": {
            "text/plain": [
              "['Pluto', 'is', 'a', 'planet!']"
            ]
          },
          "metadata": {},
          "execution_count": 111
        }
      ]
    },
    {
      "cell_type": "markdown",
      "source": [
        "Occasionally you'll want to split on something other than whitespace:"
      ],
      "metadata": {
        "id": "ouV_aLxM5w0t"
      }
    },
    {
      "cell_type": "code",
      "source": [
        "datestr = '1956-01-31'\n",
        "year, month, day = datestr.split('-')"
      ],
      "metadata": {
        "id": "DkAVYwkM5zcu"
      },
      "execution_count": 112,
      "outputs": []
    },
    {
      "cell_type": "markdown",
      "source": [
        "str.join() takes us in the other direction, sewing a list of strings up into one long string, using the string it was called on as a separator."
      ],
      "metadata": {
        "id": "IoY3K7ym53TW"
      }
    },
    {
      "cell_type": "code",
      "source": [
        "'/'.join([month, day, year])"
      ],
      "metadata": {
        "id": "RQ4dUZLK55-o"
      },
      "execution_count": null,
      "outputs": []
    }
  ]
}